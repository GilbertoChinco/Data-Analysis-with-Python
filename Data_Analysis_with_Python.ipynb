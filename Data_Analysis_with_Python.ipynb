{
  "nbformat": 4,
  "nbformat_minor": 0,
  "metadata": {
    "colab": {
      "name": "Data_Analysis_with_Python.ipynb",
      "provenance": [],
      "collapsed_sections": [],
      "toc_visible": true
    },
    "kernelspec": {
      "display_name": "Python 3",
      "name": "python3"
    },
    "language_info": {
      "name": "python"
    },
    "widgets": {
      "application/vnd.jupyter.widget-state+json": {
        "d5d3276772754e71a45466533b983e47": {
          "model_module": "@jupyter-widgets/controls",
          "model_name": "VBoxModel",
          "model_module_version": "1.5.0",
          "state": {
            "_view_name": "VBoxView",
            "_dom_classes": [
              "widget-interact"
            ],
            "_model_name": "VBoxModel",
            "_view_module": "@jupyter-widgets/controls",
            "_model_module_version": "1.5.0",
            "_view_count": null,
            "_view_module_version": "1.5.0",
            "box_style": "",
            "layout": "IPY_MODEL_0ade77d614c04c339ab76f2dbfd3f3f0",
            "_model_module": "@jupyter-widgets/controls",
            "children": [
              "IPY_MODEL_34611899bbde4359a1f18b37c93dfe26",
              "IPY_MODEL_311b56b428ad4743a04cb87a17b6fc70",
              "IPY_MODEL_e6db42df6b1645318b454be4f620dd8b"
            ]
          }
        },
        "0ade77d614c04c339ab76f2dbfd3f3f0": {
          "model_module": "@jupyter-widgets/base",
          "model_name": "LayoutModel",
          "model_module_version": "1.2.0",
          "state": {
            "_view_name": "LayoutView",
            "grid_template_rows": null,
            "right": null,
            "justify_content": null,
            "_view_module": "@jupyter-widgets/base",
            "overflow": null,
            "_model_module_version": "1.2.0",
            "_view_count": null,
            "flex_flow": null,
            "width": null,
            "min_width": null,
            "border": null,
            "align_items": null,
            "bottom": null,
            "_model_module": "@jupyter-widgets/base",
            "top": null,
            "grid_column": null,
            "overflow_y": null,
            "overflow_x": null,
            "grid_auto_flow": null,
            "grid_area": null,
            "grid_template_columns": null,
            "flex": null,
            "_model_name": "LayoutModel",
            "justify_items": null,
            "grid_row": null,
            "max_height": null,
            "align_content": null,
            "visibility": null,
            "align_self": null,
            "height": null,
            "min_height": null,
            "padding": null,
            "grid_auto_rows": null,
            "grid_gap": null,
            "max_width": null,
            "order": null,
            "_view_module_version": "1.2.0",
            "grid_template_areas": null,
            "object_position": null,
            "object_fit": null,
            "grid_auto_columns": null,
            "margin": null,
            "display": null,
            "left": null
          }
        },
        "34611899bbde4359a1f18b37c93dfe26": {
          "model_module": "@jupyter-widgets/controls",
          "model_name": "IntSliderModel",
          "model_module_version": "1.5.0",
          "state": {
            "_view_name": "IntSliderView",
            "style": "IPY_MODEL_a3354db463864b68a8e897cc5961f6a3",
            "_dom_classes": [],
            "description": "order",
            "step": 1,
            "_model_name": "IntSliderModel",
            "orientation": "horizontal",
            "max": 6,
            "_view_module": "@jupyter-widgets/controls",
            "_model_module_version": "1.5.0",
            "value": 3,
            "_view_count": null,
            "disabled": false,
            "_view_module_version": "1.5.0",
            "min": 0,
            "continuous_update": true,
            "readout_format": "d",
            "description_tooltip": null,
            "readout": true,
            "_model_module": "@jupyter-widgets/controls",
            "layout": "IPY_MODEL_f7f29f364b934454bfee44cc152766ba"
          }
        },
        "311b56b428ad4743a04cb87a17b6fc70": {
          "model_module": "@jupyter-widgets/controls",
          "model_name": "FloatSliderModel",
          "model_module_version": "1.5.0",
          "state": {
            "_view_name": "FloatSliderView",
            "style": "IPY_MODEL_01ec2169745f4ac2b8d024a67bd659e5",
            "_dom_classes": [],
            "description": "test_data",
            "step": 0.05,
            "_model_name": "FloatSliderModel",
            "orientation": "horizontal",
            "max": 0.95,
            "_view_module": "@jupyter-widgets/controls",
            "_model_module_version": "1.5.0",
            "value": 0.35,
            "_view_count": null,
            "disabled": false,
            "_view_module_version": "1.5.0",
            "min": 0.05,
            "continuous_update": true,
            "readout_format": ".2f",
            "description_tooltip": null,
            "readout": true,
            "_model_module": "@jupyter-widgets/controls",
            "layout": "IPY_MODEL_53cfc745a6e14dd9a061ac26517efaae"
          }
        },
        "e6db42df6b1645318b454be4f620dd8b": {
          "model_module": "@jupyter-widgets/output",
          "model_name": "OutputModel",
          "model_module_version": "1.0.0",
          "state": {
            "_view_name": "OutputView",
            "msg_id": "",
            "_dom_classes": [],
            "_model_name": "OutputModel",
            "outputs": [
              {
                "output_type": "display_data",
                "data": {
                  "image/png": "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\n",
                  "text/plain": "<Figure size 576x432 with 1 Axes>"
                },
                "metadata": {
                  "needs_background": "light"
                }
              }
            ],
            "_view_module": "@jupyter-widgets/output",
            "_model_module_version": "1.0.0",
            "_view_count": null,
            "_view_module_version": "1.0.0",
            "layout": "IPY_MODEL_6237cf80e97f4574a265aebf50c02999",
            "_model_module": "@jupyter-widgets/output"
          }
        },
        "a3354db463864b68a8e897cc5961f6a3": {
          "model_module": "@jupyter-widgets/controls",
          "model_name": "SliderStyleModel",
          "model_module_version": "1.5.0",
          "state": {
            "_view_name": "StyleView",
            "handle_color": null,
            "_model_name": "SliderStyleModel",
            "description_width": "",
            "_view_module": "@jupyter-widgets/base",
            "_model_module_version": "1.5.0",
            "_view_count": null,
            "_view_module_version": "1.2.0",
            "_model_module": "@jupyter-widgets/controls"
          }
        },
        "f7f29f364b934454bfee44cc152766ba": {
          "model_module": "@jupyter-widgets/base",
          "model_name": "LayoutModel",
          "model_module_version": "1.2.0",
          "state": {
            "_view_name": "LayoutView",
            "grid_template_rows": null,
            "right": null,
            "justify_content": null,
            "_view_module": "@jupyter-widgets/base",
            "overflow": null,
            "_model_module_version": "1.2.0",
            "_view_count": null,
            "flex_flow": null,
            "width": null,
            "min_width": null,
            "border": null,
            "align_items": null,
            "bottom": null,
            "_model_module": "@jupyter-widgets/base",
            "top": null,
            "grid_column": null,
            "overflow_y": null,
            "overflow_x": null,
            "grid_auto_flow": null,
            "grid_area": null,
            "grid_template_columns": null,
            "flex": null,
            "_model_name": "LayoutModel",
            "justify_items": null,
            "grid_row": null,
            "max_height": null,
            "align_content": null,
            "visibility": null,
            "align_self": null,
            "height": null,
            "min_height": null,
            "padding": null,
            "grid_auto_rows": null,
            "grid_gap": null,
            "max_width": null,
            "order": null,
            "_view_module_version": "1.2.0",
            "grid_template_areas": null,
            "object_position": null,
            "object_fit": null,
            "grid_auto_columns": null,
            "margin": null,
            "display": null,
            "left": null
          }
        },
        "01ec2169745f4ac2b8d024a67bd659e5": {
          "model_module": "@jupyter-widgets/controls",
          "model_name": "SliderStyleModel",
          "model_module_version": "1.5.0",
          "state": {
            "_view_name": "StyleView",
            "handle_color": null,
            "_model_name": "SliderStyleModel",
            "description_width": "",
            "_view_module": "@jupyter-widgets/base",
            "_model_module_version": "1.5.0",
            "_view_count": null,
            "_view_module_version": "1.2.0",
            "_model_module": "@jupyter-widgets/controls"
          }
        },
        "53cfc745a6e14dd9a061ac26517efaae": {
          "model_module": "@jupyter-widgets/base",
          "model_name": "LayoutModel",
          "model_module_version": "1.2.0",
          "state": {
            "_view_name": "LayoutView",
            "grid_template_rows": null,
            "right": null,
            "justify_content": null,
            "_view_module": "@jupyter-widgets/base",
            "overflow": null,
            "_model_module_version": "1.2.0",
            "_view_count": null,
            "flex_flow": null,
            "width": null,
            "min_width": null,
            "border": null,
            "align_items": null,
            "bottom": null,
            "_model_module": "@jupyter-widgets/base",
            "top": null,
            "grid_column": null,
            "overflow_y": null,
            "overflow_x": null,
            "grid_auto_flow": null,
            "grid_area": null,
            "grid_template_columns": null,
            "flex": null,
            "_model_name": "LayoutModel",
            "justify_items": null,
            "grid_row": null,
            "max_height": null,
            "align_content": null,
            "visibility": null,
            "align_self": null,
            "height": null,
            "min_height": null,
            "padding": null,
            "grid_auto_rows": null,
            "grid_gap": null,
            "max_width": null,
            "order": null,
            "_view_module_version": "1.2.0",
            "grid_template_areas": null,
            "object_position": null,
            "object_fit": null,
            "grid_auto_columns": null,
            "margin": null,
            "display": null,
            "left": null
          }
        },
        "6237cf80e97f4574a265aebf50c02999": {
          "model_module": "@jupyter-widgets/base",
          "model_name": "LayoutModel",
          "model_module_version": "1.2.0",
          "state": {
            "_view_name": "LayoutView",
            "grid_template_rows": null,
            "right": null,
            "justify_content": null,
            "_view_module": "@jupyter-widgets/base",
            "overflow": null,
            "_model_module_version": "1.2.0",
            "_view_count": null,
            "flex_flow": null,
            "width": null,
            "min_width": null,
            "border": null,
            "align_items": null,
            "bottom": null,
            "_model_module": "@jupyter-widgets/base",
            "top": null,
            "grid_column": null,
            "overflow_y": null,
            "overflow_x": null,
            "grid_auto_flow": null,
            "grid_area": null,
            "grid_template_columns": null,
            "flex": null,
            "_model_name": "LayoutModel",
            "justify_items": null,
            "grid_row": null,
            "max_height": null,
            "align_content": null,
            "visibility": null,
            "align_self": null,
            "height": null,
            "min_height": null,
            "padding": null,
            "grid_auto_rows": null,
            "grid_gap": null,
            "max_width": null,
            "order": null,
            "_view_module_version": "1.2.0",
            "grid_template_areas": null,
            "object_position": null,
            "object_fit": null,
            "grid_auto_columns": null,
            "margin": null,
            "display": null,
            "left": null
          }
        }
      }
    }
  },
  "cells": [
    {
      "cell_type": "markdown",
      "metadata": {
        "id": "ZRv0RfC6uaEz"
      },
      "source": [
        "# Module 1 - Introduction"
      ]
    },
    {
      "cell_type": "markdown",
      "metadata": {
        "id": "RRSGB9g5qLli"
      },
      "source": [
        "### Data Acquisition & Read Data\n"
      ]
    },
    {
      "cell_type": "code",
      "metadata": {
        "id": "5myoSUIamT9f"
      },
      "source": [
        "import pandas as pd\n",
        "import numpy as np\n",
        "import matplotlib.pylab as plt\n",
        "import seaborn as sns"
      ],
      "execution_count": null,
      "outputs": []
    },
    {
      "cell_type": "code",
      "metadata": {
        "colab": {
          "base_uri": "https://localhost:8080/"
        },
        "id": "H1PlEUBVnKYi",
        "outputId": "214439f6-6fca-4425-962c-36e35f6b91bd"
      },
      "source": [
        "url = \"https://archive.ics.uci.edu/ml/machine-learning-databases/autos/imports-85.data\"\n",
        "df = pd.read_csv(url, header = None)\n",
        "print(\"Data Loaded\")"
      ],
      "execution_count": null,
      "outputs": [
        {
          "name": "stdout",
          "output_type": "stream",
          "text": [
            "Data Loaded\n"
          ]
        }
      ]
    },
    {
      "cell_type": "code",
      "metadata": {
        "id": "W7kMgV_zskor"
      },
      "source": [
        "headers = [\"symboling\",\"normalized-losses\",\"make\",\"fuel-type\",\"aspiration\", \"num-of-doors\",\"body-style\",\n",
        "         \"drive-wheels\",\"engine-location\",\"wheel-base\", \"length\",\"width\",\"height\",\"curb-weight\",\"engine-type\",\n",
        "         \"num-of-cylinders\", \"engine-size\",\"fuel-system\",\"bore\",\"stroke\",\"compression-ratio\",\"horsepower\",\n",
        "         \"peak-rpm\",\"city-mpg\",\"highway-mpg\",\"price\"]\n",
        "    "
      ],
      "execution_count": null,
      "outputs": []
    },
    {
      "cell_type": "code",
      "metadata": {
        "id": "ExtKncqBs5--"
      },
      "source": [
        "df.columns = headers"
      ],
      "execution_count": null,
      "outputs": []
    },
    {
      "cell_type": "code",
      "metadata": {
        "colab": {
          "base_uri": "https://localhost:8080/",
          "height": 309
        },
        "id": "dpgOwLHUncxD",
        "outputId": "b8976049-2c78-482c-8a27-46bd2aec421d"
      },
      "source": [
        "df.head()"
      ],
      "execution_count": null,
      "outputs": [
        {
          "data": {
            "text/html": [
              "<div>\n",
              "<style scoped>\n",
              "    .dataframe tbody tr th:only-of-type {\n",
              "        vertical-align: middle;\n",
              "    }\n",
              "\n",
              "    .dataframe tbody tr th {\n",
              "        vertical-align: top;\n",
              "    }\n",
              "\n",
              "    .dataframe thead th {\n",
              "        text-align: right;\n",
              "    }\n",
              "</style>\n",
              "<table border=\"1\" class=\"dataframe\">\n",
              "  <thead>\n",
              "    <tr style=\"text-align: right;\">\n",
              "      <th></th>\n",
              "      <th>symboling</th>\n",
              "      <th>normalized-losses</th>\n",
              "      <th>make</th>\n",
              "      <th>fuel-type</th>\n",
              "      <th>aspiration</th>\n",
              "      <th>num-of-doors</th>\n",
              "      <th>body-style</th>\n",
              "      <th>drive-wheels</th>\n",
              "      <th>engine-location</th>\n",
              "      <th>wheel-base</th>\n",
              "      <th>length</th>\n",
              "      <th>width</th>\n",
              "      <th>height</th>\n",
              "      <th>curb-weight</th>\n",
              "      <th>engine-type</th>\n",
              "      <th>num-of-cylinders</th>\n",
              "      <th>engine-size</th>\n",
              "      <th>fuel-system</th>\n",
              "      <th>bore</th>\n",
              "      <th>stroke</th>\n",
              "      <th>compression-ratio</th>\n",
              "      <th>horsepower</th>\n",
              "      <th>peak-rpm</th>\n",
              "      <th>city-mpg</th>\n",
              "      <th>highway-mpg</th>\n",
              "      <th>price</th>\n",
              "    </tr>\n",
              "  </thead>\n",
              "  <tbody>\n",
              "    <tr>\n",
              "      <th>0</th>\n",
              "      <td>3</td>\n",
              "      <td>?</td>\n",
              "      <td>alfa-romero</td>\n",
              "      <td>gas</td>\n",
              "      <td>std</td>\n",
              "      <td>two</td>\n",
              "      <td>convertible</td>\n",
              "      <td>rwd</td>\n",
              "      <td>front</td>\n",
              "      <td>88.6</td>\n",
              "      <td>168.8</td>\n",
              "      <td>64.1</td>\n",
              "      <td>48.8</td>\n",
              "      <td>2548</td>\n",
              "      <td>dohc</td>\n",
              "      <td>four</td>\n",
              "      <td>130</td>\n",
              "      <td>mpfi</td>\n",
              "      <td>3.47</td>\n",
              "      <td>2.68</td>\n",
              "      <td>9.0</td>\n",
              "      <td>111</td>\n",
              "      <td>5000</td>\n",
              "      <td>21</td>\n",
              "      <td>27</td>\n",
              "      <td>13495</td>\n",
              "    </tr>\n",
              "    <tr>\n",
              "      <th>1</th>\n",
              "      <td>3</td>\n",
              "      <td>?</td>\n",
              "      <td>alfa-romero</td>\n",
              "      <td>gas</td>\n",
              "      <td>std</td>\n",
              "      <td>two</td>\n",
              "      <td>convertible</td>\n",
              "      <td>rwd</td>\n",
              "      <td>front</td>\n",
              "      <td>88.6</td>\n",
              "      <td>168.8</td>\n",
              "      <td>64.1</td>\n",
              "      <td>48.8</td>\n",
              "      <td>2548</td>\n",
              "      <td>dohc</td>\n",
              "      <td>four</td>\n",
              "      <td>130</td>\n",
              "      <td>mpfi</td>\n",
              "      <td>3.47</td>\n",
              "      <td>2.68</td>\n",
              "      <td>9.0</td>\n",
              "      <td>111</td>\n",
              "      <td>5000</td>\n",
              "      <td>21</td>\n",
              "      <td>27</td>\n",
              "      <td>16500</td>\n",
              "    </tr>\n",
              "    <tr>\n",
              "      <th>2</th>\n",
              "      <td>1</td>\n",
              "      <td>?</td>\n",
              "      <td>alfa-romero</td>\n",
              "      <td>gas</td>\n",
              "      <td>std</td>\n",
              "      <td>two</td>\n",
              "      <td>hatchback</td>\n",
              "      <td>rwd</td>\n",
              "      <td>front</td>\n",
              "      <td>94.5</td>\n",
              "      <td>171.2</td>\n",
              "      <td>65.5</td>\n",
              "      <td>52.4</td>\n",
              "      <td>2823</td>\n",
              "      <td>ohcv</td>\n",
              "      <td>six</td>\n",
              "      <td>152</td>\n",
              "      <td>mpfi</td>\n",
              "      <td>2.68</td>\n",
              "      <td>3.47</td>\n",
              "      <td>9.0</td>\n",
              "      <td>154</td>\n",
              "      <td>5000</td>\n",
              "      <td>19</td>\n",
              "      <td>26</td>\n",
              "      <td>16500</td>\n",
              "    </tr>\n",
              "    <tr>\n",
              "      <th>3</th>\n",
              "      <td>2</td>\n",
              "      <td>164</td>\n",
              "      <td>audi</td>\n",
              "      <td>gas</td>\n",
              "      <td>std</td>\n",
              "      <td>four</td>\n",
              "      <td>sedan</td>\n",
              "      <td>fwd</td>\n",
              "      <td>front</td>\n",
              "      <td>99.8</td>\n",
              "      <td>176.6</td>\n",
              "      <td>66.2</td>\n",
              "      <td>54.3</td>\n",
              "      <td>2337</td>\n",
              "      <td>ohc</td>\n",
              "      <td>four</td>\n",
              "      <td>109</td>\n",
              "      <td>mpfi</td>\n",
              "      <td>3.19</td>\n",
              "      <td>3.40</td>\n",
              "      <td>10.0</td>\n",
              "      <td>102</td>\n",
              "      <td>5500</td>\n",
              "      <td>24</td>\n",
              "      <td>30</td>\n",
              "      <td>13950</td>\n",
              "    </tr>\n",
              "    <tr>\n",
              "      <th>4</th>\n",
              "      <td>2</td>\n",
              "      <td>164</td>\n",
              "      <td>audi</td>\n",
              "      <td>gas</td>\n",
              "      <td>std</td>\n",
              "      <td>four</td>\n",
              "      <td>sedan</td>\n",
              "      <td>4wd</td>\n",
              "      <td>front</td>\n",
              "      <td>99.4</td>\n",
              "      <td>176.6</td>\n",
              "      <td>66.4</td>\n",
              "      <td>54.3</td>\n",
              "      <td>2824</td>\n",
              "      <td>ohc</td>\n",
              "      <td>five</td>\n",
              "      <td>136</td>\n",
              "      <td>mpfi</td>\n",
              "      <td>3.19</td>\n",
              "      <td>3.40</td>\n",
              "      <td>8.0</td>\n",
              "      <td>115</td>\n",
              "      <td>5500</td>\n",
              "      <td>18</td>\n",
              "      <td>22</td>\n",
              "      <td>17450</td>\n",
              "    </tr>\n",
              "  </tbody>\n",
              "</table>\n",
              "</div>"
            ],
            "text/plain": [
              "   symboling normalized-losses         make  ... city-mpg highway-mpg  price\n",
              "0          3                 ?  alfa-romero  ...       21          27  13495\n",
              "1          3                 ?  alfa-romero  ...       21          27  16500\n",
              "2          1                 ?  alfa-romero  ...       19          26  16500\n",
              "3          2               164         audi  ...       24          30  13950\n",
              "4          2               164         audi  ...       18          22  17450\n",
              "\n",
              "[5 rows x 26 columns]"
            ]
          },
          "execution_count": 6,
          "metadata": {},
          "output_type": "execute_result"
        }
      ]
    },
    {
      "cell_type": "code",
      "metadata": {
        "colab": {
          "base_uri": "https://localhost:8080/",
          "height": 309
        },
        "id": "GweBuTwrpUw5",
        "outputId": "07179dbd-e193-4736-85fc-e542eaefed10"
      },
      "source": [
        "df1 = df.replace(\"?\", np.NaN)                  #replace de \"?\" symbol with NaN \n",
        "df = df1.dropna(subset = [\"price\"], axis = 0)  #Drop missing values along the column \"price\" as follow\n",
        "df.head()"
      ],
      "execution_count": null,
      "outputs": [
        {
          "data": {
            "text/html": [
              "<div>\n",
              "<style scoped>\n",
              "    .dataframe tbody tr th:only-of-type {\n",
              "        vertical-align: middle;\n",
              "    }\n",
              "\n",
              "    .dataframe tbody tr th {\n",
              "        vertical-align: top;\n",
              "    }\n",
              "\n",
              "    .dataframe thead th {\n",
              "        text-align: right;\n",
              "    }\n",
              "</style>\n",
              "<table border=\"1\" class=\"dataframe\">\n",
              "  <thead>\n",
              "    <tr style=\"text-align: right;\">\n",
              "      <th></th>\n",
              "      <th>symboling</th>\n",
              "      <th>normalized-losses</th>\n",
              "      <th>make</th>\n",
              "      <th>fuel-type</th>\n",
              "      <th>aspiration</th>\n",
              "      <th>num-of-doors</th>\n",
              "      <th>body-style</th>\n",
              "      <th>drive-wheels</th>\n",
              "      <th>engine-location</th>\n",
              "      <th>wheel-base</th>\n",
              "      <th>length</th>\n",
              "      <th>width</th>\n",
              "      <th>height</th>\n",
              "      <th>curb-weight</th>\n",
              "      <th>engine-type</th>\n",
              "      <th>num-of-cylinders</th>\n",
              "      <th>engine-size</th>\n",
              "      <th>fuel-system</th>\n",
              "      <th>bore</th>\n",
              "      <th>stroke</th>\n",
              "      <th>compression-ratio</th>\n",
              "      <th>horsepower</th>\n",
              "      <th>peak-rpm</th>\n",
              "      <th>city-mpg</th>\n",
              "      <th>highway-mpg</th>\n",
              "      <th>price</th>\n",
              "    </tr>\n",
              "  </thead>\n",
              "  <tbody>\n",
              "    <tr>\n",
              "      <th>0</th>\n",
              "      <td>3</td>\n",
              "      <td>NaN</td>\n",
              "      <td>alfa-romero</td>\n",
              "      <td>gas</td>\n",
              "      <td>std</td>\n",
              "      <td>two</td>\n",
              "      <td>convertible</td>\n",
              "      <td>rwd</td>\n",
              "      <td>front</td>\n",
              "      <td>88.6</td>\n",
              "      <td>168.8</td>\n",
              "      <td>64.1</td>\n",
              "      <td>48.8</td>\n",
              "      <td>2548</td>\n",
              "      <td>dohc</td>\n",
              "      <td>four</td>\n",
              "      <td>130</td>\n",
              "      <td>mpfi</td>\n",
              "      <td>3.47</td>\n",
              "      <td>2.68</td>\n",
              "      <td>9.0</td>\n",
              "      <td>111</td>\n",
              "      <td>5000</td>\n",
              "      <td>21</td>\n",
              "      <td>27</td>\n",
              "      <td>13495</td>\n",
              "    </tr>\n",
              "    <tr>\n",
              "      <th>1</th>\n",
              "      <td>3</td>\n",
              "      <td>NaN</td>\n",
              "      <td>alfa-romero</td>\n",
              "      <td>gas</td>\n",
              "      <td>std</td>\n",
              "      <td>two</td>\n",
              "      <td>convertible</td>\n",
              "      <td>rwd</td>\n",
              "      <td>front</td>\n",
              "      <td>88.6</td>\n",
              "      <td>168.8</td>\n",
              "      <td>64.1</td>\n",
              "      <td>48.8</td>\n",
              "      <td>2548</td>\n",
              "      <td>dohc</td>\n",
              "      <td>four</td>\n",
              "      <td>130</td>\n",
              "      <td>mpfi</td>\n",
              "      <td>3.47</td>\n",
              "      <td>2.68</td>\n",
              "      <td>9.0</td>\n",
              "      <td>111</td>\n",
              "      <td>5000</td>\n",
              "      <td>21</td>\n",
              "      <td>27</td>\n",
              "      <td>16500</td>\n",
              "    </tr>\n",
              "    <tr>\n",
              "      <th>2</th>\n",
              "      <td>1</td>\n",
              "      <td>NaN</td>\n",
              "      <td>alfa-romero</td>\n",
              "      <td>gas</td>\n",
              "      <td>std</td>\n",
              "      <td>two</td>\n",
              "      <td>hatchback</td>\n",
              "      <td>rwd</td>\n",
              "      <td>front</td>\n",
              "      <td>94.5</td>\n",
              "      <td>171.2</td>\n",
              "      <td>65.5</td>\n",
              "      <td>52.4</td>\n",
              "      <td>2823</td>\n",
              "      <td>ohcv</td>\n",
              "      <td>six</td>\n",
              "      <td>152</td>\n",
              "      <td>mpfi</td>\n",
              "      <td>2.68</td>\n",
              "      <td>3.47</td>\n",
              "      <td>9.0</td>\n",
              "      <td>154</td>\n",
              "      <td>5000</td>\n",
              "      <td>19</td>\n",
              "      <td>26</td>\n",
              "      <td>16500</td>\n",
              "    </tr>\n",
              "    <tr>\n",
              "      <th>3</th>\n",
              "      <td>2</td>\n",
              "      <td>164</td>\n",
              "      <td>audi</td>\n",
              "      <td>gas</td>\n",
              "      <td>std</td>\n",
              "      <td>four</td>\n",
              "      <td>sedan</td>\n",
              "      <td>fwd</td>\n",
              "      <td>front</td>\n",
              "      <td>99.8</td>\n",
              "      <td>176.6</td>\n",
              "      <td>66.2</td>\n",
              "      <td>54.3</td>\n",
              "      <td>2337</td>\n",
              "      <td>ohc</td>\n",
              "      <td>four</td>\n",
              "      <td>109</td>\n",
              "      <td>mpfi</td>\n",
              "      <td>3.19</td>\n",
              "      <td>3.40</td>\n",
              "      <td>10.0</td>\n",
              "      <td>102</td>\n",
              "      <td>5500</td>\n",
              "      <td>24</td>\n",
              "      <td>30</td>\n",
              "      <td>13950</td>\n",
              "    </tr>\n",
              "    <tr>\n",
              "      <th>4</th>\n",
              "      <td>2</td>\n",
              "      <td>164</td>\n",
              "      <td>audi</td>\n",
              "      <td>gas</td>\n",
              "      <td>std</td>\n",
              "      <td>four</td>\n",
              "      <td>sedan</td>\n",
              "      <td>4wd</td>\n",
              "      <td>front</td>\n",
              "      <td>99.4</td>\n",
              "      <td>176.6</td>\n",
              "      <td>66.4</td>\n",
              "      <td>54.3</td>\n",
              "      <td>2824</td>\n",
              "      <td>ohc</td>\n",
              "      <td>five</td>\n",
              "      <td>136</td>\n",
              "      <td>mpfi</td>\n",
              "      <td>3.19</td>\n",
              "      <td>3.40</td>\n",
              "      <td>8.0</td>\n",
              "      <td>115</td>\n",
              "      <td>5500</td>\n",
              "      <td>18</td>\n",
              "      <td>22</td>\n",
              "      <td>17450</td>\n",
              "    </tr>\n",
              "  </tbody>\n",
              "</table>\n",
              "</div>"
            ],
            "text/plain": [
              "   symboling normalized-losses         make  ... city-mpg highway-mpg  price\n",
              "0          3               NaN  alfa-romero  ...       21          27  13495\n",
              "1          3               NaN  alfa-romero  ...       21          27  16500\n",
              "2          1               NaN  alfa-romero  ...       19          26  16500\n",
              "3          2               164         audi  ...       24          30  13950\n",
              "4          2               164         audi  ...       18          22  17450\n",
              "\n",
              "[5 rows x 26 columns]"
            ]
          },
          "execution_count": 7,
          "metadata": {},
          "output_type": "execute_result"
        }
      ]
    },
    {
      "cell_type": "markdown",
      "metadata": {
        "id": "TYYHyIbMtshg"
      },
      "source": [
        "### Save the Dataset"
      ]
    },
    {
      "cell_type": "code",
      "metadata": {
        "id": "FF_BY8fItrc0"
      },
      "source": [
        "df.to_csv(\"automobile.csv\", index = False)"
      ],
      "execution_count": null,
      "outputs": []
    },
    {
      "cell_type": "markdown",
      "metadata": {
        "id": "31kMnYpAumzD"
      },
      "source": [
        "### Look into the dataset"
      ]
    },
    {
      "cell_type": "code",
      "metadata": {
        "colab": {
          "base_uri": "https://localhost:8080/"
        },
        "id": "adjDolU_thAB",
        "outputId": "759a8f5e-d0b2-48d2-f6f3-82b992463a74"
      },
      "source": [
        "df.dtypes"
      ],
      "execution_count": null,
      "outputs": [
        {
          "data": {
            "text/plain": [
              "symboling              int64\n",
              "normalized-losses     object\n",
              "make                  object\n",
              "fuel-type             object\n",
              "aspiration            object\n",
              "num-of-doors          object\n",
              "body-style            object\n",
              "drive-wheels          object\n",
              "engine-location       object\n",
              "wheel-base           float64\n",
              "length               float64\n",
              "width                float64\n",
              "height               float64\n",
              "curb-weight            int64\n",
              "engine-type           object\n",
              "num-of-cylinders      object\n",
              "engine-size            int64\n",
              "fuel-system           object\n",
              "bore                  object\n",
              "stroke                object\n",
              "compression-ratio    float64\n",
              "horsepower            object\n",
              "peak-rpm              object\n",
              "city-mpg               int64\n",
              "highway-mpg            int64\n",
              "price                 object\n",
              "dtype: object"
            ]
          },
          "execution_count": 9,
          "metadata": {},
          "output_type": "execute_result"
        }
      ]
    },
    {
      "cell_type": "markdown",
      "metadata": {
        "id": "36aptLZXuCGg"
      },
      "source": [
        "Statistical summary "
      ]
    },
    {
      "cell_type": "code",
      "metadata": {
        "colab": {
          "base_uri": "https://localhost:8080/",
          "height": 297
        },
        "id": "uSnjiRMdt65u",
        "outputId": "8d59f469-1b7b-407b-ba47-c30cf11ccfa0"
      },
      "source": [
        "df.describe()"
      ],
      "execution_count": null,
      "outputs": [
        {
          "data": {
            "text/html": [
              "<div>\n",
              "<style scoped>\n",
              "    .dataframe tbody tr th:only-of-type {\n",
              "        vertical-align: middle;\n",
              "    }\n",
              "\n",
              "    .dataframe tbody tr th {\n",
              "        vertical-align: top;\n",
              "    }\n",
              "\n",
              "    .dataframe thead th {\n",
              "        text-align: right;\n",
              "    }\n",
              "</style>\n",
              "<table border=\"1\" class=\"dataframe\">\n",
              "  <thead>\n",
              "    <tr style=\"text-align: right;\">\n",
              "      <th></th>\n",
              "      <th>symboling</th>\n",
              "      <th>wheel-base</th>\n",
              "      <th>length</th>\n",
              "      <th>width</th>\n",
              "      <th>height</th>\n",
              "      <th>curb-weight</th>\n",
              "      <th>engine-size</th>\n",
              "      <th>compression-ratio</th>\n",
              "      <th>city-mpg</th>\n",
              "      <th>highway-mpg</th>\n",
              "    </tr>\n",
              "  </thead>\n",
              "  <tbody>\n",
              "    <tr>\n",
              "      <th>count</th>\n",
              "      <td>201.000000</td>\n",
              "      <td>201.000000</td>\n",
              "      <td>201.000000</td>\n",
              "      <td>201.000000</td>\n",
              "      <td>201.000000</td>\n",
              "      <td>201.000000</td>\n",
              "      <td>201.000000</td>\n",
              "      <td>201.000000</td>\n",
              "      <td>201.000000</td>\n",
              "      <td>201.000000</td>\n",
              "    </tr>\n",
              "    <tr>\n",
              "      <th>mean</th>\n",
              "      <td>0.840796</td>\n",
              "      <td>98.797015</td>\n",
              "      <td>174.200995</td>\n",
              "      <td>65.889055</td>\n",
              "      <td>53.766667</td>\n",
              "      <td>2555.666667</td>\n",
              "      <td>126.875622</td>\n",
              "      <td>10.164279</td>\n",
              "      <td>25.179104</td>\n",
              "      <td>30.686567</td>\n",
              "    </tr>\n",
              "    <tr>\n",
              "      <th>std</th>\n",
              "      <td>1.254802</td>\n",
              "      <td>6.066366</td>\n",
              "      <td>12.322175</td>\n",
              "      <td>2.101471</td>\n",
              "      <td>2.447822</td>\n",
              "      <td>517.296727</td>\n",
              "      <td>41.546834</td>\n",
              "      <td>4.004965</td>\n",
              "      <td>6.423220</td>\n",
              "      <td>6.815150</td>\n",
              "    </tr>\n",
              "    <tr>\n",
              "      <th>min</th>\n",
              "      <td>-2.000000</td>\n",
              "      <td>86.600000</td>\n",
              "      <td>141.100000</td>\n",
              "      <td>60.300000</td>\n",
              "      <td>47.800000</td>\n",
              "      <td>1488.000000</td>\n",
              "      <td>61.000000</td>\n",
              "      <td>7.000000</td>\n",
              "      <td>13.000000</td>\n",
              "      <td>16.000000</td>\n",
              "    </tr>\n",
              "    <tr>\n",
              "      <th>25%</th>\n",
              "      <td>0.000000</td>\n",
              "      <td>94.500000</td>\n",
              "      <td>166.800000</td>\n",
              "      <td>64.100000</td>\n",
              "      <td>52.000000</td>\n",
              "      <td>2169.000000</td>\n",
              "      <td>98.000000</td>\n",
              "      <td>8.600000</td>\n",
              "      <td>19.000000</td>\n",
              "      <td>25.000000</td>\n",
              "    </tr>\n",
              "    <tr>\n",
              "      <th>50%</th>\n",
              "      <td>1.000000</td>\n",
              "      <td>97.000000</td>\n",
              "      <td>173.200000</td>\n",
              "      <td>65.500000</td>\n",
              "      <td>54.100000</td>\n",
              "      <td>2414.000000</td>\n",
              "      <td>120.000000</td>\n",
              "      <td>9.000000</td>\n",
              "      <td>24.000000</td>\n",
              "      <td>30.000000</td>\n",
              "    </tr>\n",
              "    <tr>\n",
              "      <th>75%</th>\n",
              "      <td>2.000000</td>\n",
              "      <td>102.400000</td>\n",
              "      <td>183.500000</td>\n",
              "      <td>66.600000</td>\n",
              "      <td>55.500000</td>\n",
              "      <td>2926.000000</td>\n",
              "      <td>141.000000</td>\n",
              "      <td>9.400000</td>\n",
              "      <td>30.000000</td>\n",
              "      <td>34.000000</td>\n",
              "    </tr>\n",
              "    <tr>\n",
              "      <th>max</th>\n",
              "      <td>3.000000</td>\n",
              "      <td>120.900000</td>\n",
              "      <td>208.100000</td>\n",
              "      <td>72.000000</td>\n",
              "      <td>59.800000</td>\n",
              "      <td>4066.000000</td>\n",
              "      <td>326.000000</td>\n",
              "      <td>23.000000</td>\n",
              "      <td>49.000000</td>\n",
              "      <td>54.000000</td>\n",
              "    </tr>\n",
              "  </tbody>\n",
              "</table>\n",
              "</div>"
            ],
            "text/plain": [
              "        symboling  wheel-base  ...    city-mpg  highway-mpg\n",
              "count  201.000000  201.000000  ...  201.000000   201.000000\n",
              "mean     0.840796   98.797015  ...   25.179104    30.686567\n",
              "std      1.254802    6.066366  ...    6.423220     6.815150\n",
              "min     -2.000000   86.600000  ...   13.000000    16.000000\n",
              "25%      0.000000   94.500000  ...   19.000000    25.000000\n",
              "50%      1.000000   97.000000  ...   24.000000    30.000000\n",
              "75%      2.000000  102.400000  ...   30.000000    34.000000\n",
              "max      3.000000  120.900000  ...   49.000000    54.000000\n",
              "\n",
              "[8 rows x 10 columns]"
            ]
          },
          "execution_count": 10,
          "metadata": {},
          "output_type": "execute_result"
        }
      ]
    },
    {
      "cell_type": "code",
      "metadata": {
        "colab": {
          "base_uri": "https://localhost:8080/",
          "height": 444
        },
        "id": "tS1mtIqruGIL",
        "outputId": "c2d4a297-9f63-4c08-dd55-a2d9d91e0ce0"
      },
      "source": [
        "df.describe(include = \"all\")"
      ],
      "execution_count": null,
      "outputs": [
        {
          "data": {
            "text/html": [
              "<div>\n",
              "<style scoped>\n",
              "    .dataframe tbody tr th:only-of-type {\n",
              "        vertical-align: middle;\n",
              "    }\n",
              "\n",
              "    .dataframe tbody tr th {\n",
              "        vertical-align: top;\n",
              "    }\n",
              "\n",
              "    .dataframe thead th {\n",
              "        text-align: right;\n",
              "    }\n",
              "</style>\n",
              "<table border=\"1\" class=\"dataframe\">\n",
              "  <thead>\n",
              "    <tr style=\"text-align: right;\">\n",
              "      <th></th>\n",
              "      <th>symboling</th>\n",
              "      <th>normalized-losses</th>\n",
              "      <th>make</th>\n",
              "      <th>fuel-type</th>\n",
              "      <th>aspiration</th>\n",
              "      <th>num-of-doors</th>\n",
              "      <th>body-style</th>\n",
              "      <th>drive-wheels</th>\n",
              "      <th>engine-location</th>\n",
              "      <th>wheel-base</th>\n",
              "      <th>length</th>\n",
              "      <th>width</th>\n",
              "      <th>height</th>\n",
              "      <th>curb-weight</th>\n",
              "      <th>engine-type</th>\n",
              "      <th>num-of-cylinders</th>\n",
              "      <th>engine-size</th>\n",
              "      <th>fuel-system</th>\n",
              "      <th>bore</th>\n",
              "      <th>stroke</th>\n",
              "      <th>compression-ratio</th>\n",
              "      <th>horsepower</th>\n",
              "      <th>peak-rpm</th>\n",
              "      <th>city-mpg</th>\n",
              "      <th>highway-mpg</th>\n",
              "      <th>price</th>\n",
              "    </tr>\n",
              "  </thead>\n",
              "  <tbody>\n",
              "    <tr>\n",
              "      <th>count</th>\n",
              "      <td>201.000000</td>\n",
              "      <td>164</td>\n",
              "      <td>201</td>\n",
              "      <td>201</td>\n",
              "      <td>201</td>\n",
              "      <td>199</td>\n",
              "      <td>201</td>\n",
              "      <td>201</td>\n",
              "      <td>201</td>\n",
              "      <td>201.000000</td>\n",
              "      <td>201.000000</td>\n",
              "      <td>201.000000</td>\n",
              "      <td>201.000000</td>\n",
              "      <td>201.000000</td>\n",
              "      <td>201</td>\n",
              "      <td>201</td>\n",
              "      <td>201.000000</td>\n",
              "      <td>201</td>\n",
              "      <td>197</td>\n",
              "      <td>197</td>\n",
              "      <td>201.000000</td>\n",
              "      <td>199</td>\n",
              "      <td>199</td>\n",
              "      <td>201.000000</td>\n",
              "      <td>201.000000</td>\n",
              "      <td>201</td>\n",
              "    </tr>\n",
              "    <tr>\n",
              "      <th>unique</th>\n",
              "      <td>NaN</td>\n",
              "      <td>51</td>\n",
              "      <td>22</td>\n",
              "      <td>2</td>\n",
              "      <td>2</td>\n",
              "      <td>2</td>\n",
              "      <td>5</td>\n",
              "      <td>3</td>\n",
              "      <td>2</td>\n",
              "      <td>NaN</td>\n",
              "      <td>NaN</td>\n",
              "      <td>NaN</td>\n",
              "      <td>NaN</td>\n",
              "      <td>NaN</td>\n",
              "      <td>6</td>\n",
              "      <td>7</td>\n",
              "      <td>NaN</td>\n",
              "      <td>8</td>\n",
              "      <td>38</td>\n",
              "      <td>36</td>\n",
              "      <td>NaN</td>\n",
              "      <td>58</td>\n",
              "      <td>22</td>\n",
              "      <td>NaN</td>\n",
              "      <td>NaN</td>\n",
              "      <td>186</td>\n",
              "    </tr>\n",
              "    <tr>\n",
              "      <th>top</th>\n",
              "      <td>NaN</td>\n",
              "      <td>161</td>\n",
              "      <td>toyota</td>\n",
              "      <td>gas</td>\n",
              "      <td>std</td>\n",
              "      <td>four</td>\n",
              "      <td>sedan</td>\n",
              "      <td>fwd</td>\n",
              "      <td>front</td>\n",
              "      <td>NaN</td>\n",
              "      <td>NaN</td>\n",
              "      <td>NaN</td>\n",
              "      <td>NaN</td>\n",
              "      <td>NaN</td>\n",
              "      <td>ohc</td>\n",
              "      <td>four</td>\n",
              "      <td>NaN</td>\n",
              "      <td>mpfi</td>\n",
              "      <td>3.62</td>\n",
              "      <td>3.40</td>\n",
              "      <td>NaN</td>\n",
              "      <td>68</td>\n",
              "      <td>4800</td>\n",
              "      <td>NaN</td>\n",
              "      <td>NaN</td>\n",
              "      <td>7295</td>\n",
              "    </tr>\n",
              "    <tr>\n",
              "      <th>freq</th>\n",
              "      <td>NaN</td>\n",
              "      <td>11</td>\n",
              "      <td>32</td>\n",
              "      <td>181</td>\n",
              "      <td>165</td>\n",
              "      <td>113</td>\n",
              "      <td>94</td>\n",
              "      <td>118</td>\n",
              "      <td>198</td>\n",
              "      <td>NaN</td>\n",
              "      <td>NaN</td>\n",
              "      <td>NaN</td>\n",
              "      <td>NaN</td>\n",
              "      <td>NaN</td>\n",
              "      <td>145</td>\n",
              "      <td>157</td>\n",
              "      <td>NaN</td>\n",
              "      <td>92</td>\n",
              "      <td>23</td>\n",
              "      <td>19</td>\n",
              "      <td>NaN</td>\n",
              "      <td>19</td>\n",
              "      <td>36</td>\n",
              "      <td>NaN</td>\n",
              "      <td>NaN</td>\n",
              "      <td>2</td>\n",
              "    </tr>\n",
              "    <tr>\n",
              "      <th>mean</th>\n",
              "      <td>0.840796</td>\n",
              "      <td>NaN</td>\n",
              "      <td>NaN</td>\n",
              "      <td>NaN</td>\n",
              "      <td>NaN</td>\n",
              "      <td>NaN</td>\n",
              "      <td>NaN</td>\n",
              "      <td>NaN</td>\n",
              "      <td>NaN</td>\n",
              "      <td>98.797015</td>\n",
              "      <td>174.200995</td>\n",
              "      <td>65.889055</td>\n",
              "      <td>53.766667</td>\n",
              "      <td>2555.666667</td>\n",
              "      <td>NaN</td>\n",
              "      <td>NaN</td>\n",
              "      <td>126.875622</td>\n",
              "      <td>NaN</td>\n",
              "      <td>NaN</td>\n",
              "      <td>NaN</td>\n",
              "      <td>10.164279</td>\n",
              "      <td>NaN</td>\n",
              "      <td>NaN</td>\n",
              "      <td>25.179104</td>\n",
              "      <td>30.686567</td>\n",
              "      <td>NaN</td>\n",
              "    </tr>\n",
              "    <tr>\n",
              "      <th>std</th>\n",
              "      <td>1.254802</td>\n",
              "      <td>NaN</td>\n",
              "      <td>NaN</td>\n",
              "      <td>NaN</td>\n",
              "      <td>NaN</td>\n",
              "      <td>NaN</td>\n",
              "      <td>NaN</td>\n",
              "      <td>NaN</td>\n",
              "      <td>NaN</td>\n",
              "      <td>6.066366</td>\n",
              "      <td>12.322175</td>\n",
              "      <td>2.101471</td>\n",
              "      <td>2.447822</td>\n",
              "      <td>517.296727</td>\n",
              "      <td>NaN</td>\n",
              "      <td>NaN</td>\n",
              "      <td>41.546834</td>\n",
              "      <td>NaN</td>\n",
              "      <td>NaN</td>\n",
              "      <td>NaN</td>\n",
              "      <td>4.004965</td>\n",
              "      <td>NaN</td>\n",
              "      <td>NaN</td>\n",
              "      <td>6.423220</td>\n",
              "      <td>6.815150</td>\n",
              "      <td>NaN</td>\n",
              "    </tr>\n",
              "    <tr>\n",
              "      <th>min</th>\n",
              "      <td>-2.000000</td>\n",
              "      <td>NaN</td>\n",
              "      <td>NaN</td>\n",
              "      <td>NaN</td>\n",
              "      <td>NaN</td>\n",
              "      <td>NaN</td>\n",
              "      <td>NaN</td>\n",
              "      <td>NaN</td>\n",
              "      <td>NaN</td>\n",
              "      <td>86.600000</td>\n",
              "      <td>141.100000</td>\n",
              "      <td>60.300000</td>\n",
              "      <td>47.800000</td>\n",
              "      <td>1488.000000</td>\n",
              "      <td>NaN</td>\n",
              "      <td>NaN</td>\n",
              "      <td>61.000000</td>\n",
              "      <td>NaN</td>\n",
              "      <td>NaN</td>\n",
              "      <td>NaN</td>\n",
              "      <td>7.000000</td>\n",
              "      <td>NaN</td>\n",
              "      <td>NaN</td>\n",
              "      <td>13.000000</td>\n",
              "      <td>16.000000</td>\n",
              "      <td>NaN</td>\n",
              "    </tr>\n",
              "    <tr>\n",
              "      <th>25%</th>\n",
              "      <td>0.000000</td>\n",
              "      <td>NaN</td>\n",
              "      <td>NaN</td>\n",
              "      <td>NaN</td>\n",
              "      <td>NaN</td>\n",
              "      <td>NaN</td>\n",
              "      <td>NaN</td>\n",
              "      <td>NaN</td>\n",
              "      <td>NaN</td>\n",
              "      <td>94.500000</td>\n",
              "      <td>166.800000</td>\n",
              "      <td>64.100000</td>\n",
              "      <td>52.000000</td>\n",
              "      <td>2169.000000</td>\n",
              "      <td>NaN</td>\n",
              "      <td>NaN</td>\n",
              "      <td>98.000000</td>\n",
              "      <td>NaN</td>\n",
              "      <td>NaN</td>\n",
              "      <td>NaN</td>\n",
              "      <td>8.600000</td>\n",
              "      <td>NaN</td>\n",
              "      <td>NaN</td>\n",
              "      <td>19.000000</td>\n",
              "      <td>25.000000</td>\n",
              "      <td>NaN</td>\n",
              "    </tr>\n",
              "    <tr>\n",
              "      <th>50%</th>\n",
              "      <td>1.000000</td>\n",
              "      <td>NaN</td>\n",
              "      <td>NaN</td>\n",
              "      <td>NaN</td>\n",
              "      <td>NaN</td>\n",
              "      <td>NaN</td>\n",
              "      <td>NaN</td>\n",
              "      <td>NaN</td>\n",
              "      <td>NaN</td>\n",
              "      <td>97.000000</td>\n",
              "      <td>173.200000</td>\n",
              "      <td>65.500000</td>\n",
              "      <td>54.100000</td>\n",
              "      <td>2414.000000</td>\n",
              "      <td>NaN</td>\n",
              "      <td>NaN</td>\n",
              "      <td>120.000000</td>\n",
              "      <td>NaN</td>\n",
              "      <td>NaN</td>\n",
              "      <td>NaN</td>\n",
              "      <td>9.000000</td>\n",
              "      <td>NaN</td>\n",
              "      <td>NaN</td>\n",
              "      <td>24.000000</td>\n",
              "      <td>30.000000</td>\n",
              "      <td>NaN</td>\n",
              "    </tr>\n",
              "    <tr>\n",
              "      <th>75%</th>\n",
              "      <td>2.000000</td>\n",
              "      <td>NaN</td>\n",
              "      <td>NaN</td>\n",
              "      <td>NaN</td>\n",
              "      <td>NaN</td>\n",
              "      <td>NaN</td>\n",
              "      <td>NaN</td>\n",
              "      <td>NaN</td>\n",
              "      <td>NaN</td>\n",
              "      <td>102.400000</td>\n",
              "      <td>183.500000</td>\n",
              "      <td>66.600000</td>\n",
              "      <td>55.500000</td>\n",
              "      <td>2926.000000</td>\n",
              "      <td>NaN</td>\n",
              "      <td>NaN</td>\n",
              "      <td>141.000000</td>\n",
              "      <td>NaN</td>\n",
              "      <td>NaN</td>\n",
              "      <td>NaN</td>\n",
              "      <td>9.400000</td>\n",
              "      <td>NaN</td>\n",
              "      <td>NaN</td>\n",
              "      <td>30.000000</td>\n",
              "      <td>34.000000</td>\n",
              "      <td>NaN</td>\n",
              "    </tr>\n",
              "    <tr>\n",
              "      <th>max</th>\n",
              "      <td>3.000000</td>\n",
              "      <td>NaN</td>\n",
              "      <td>NaN</td>\n",
              "      <td>NaN</td>\n",
              "      <td>NaN</td>\n",
              "      <td>NaN</td>\n",
              "      <td>NaN</td>\n",
              "      <td>NaN</td>\n",
              "      <td>NaN</td>\n",
              "      <td>120.900000</td>\n",
              "      <td>208.100000</td>\n",
              "      <td>72.000000</td>\n",
              "      <td>59.800000</td>\n",
              "      <td>4066.000000</td>\n",
              "      <td>NaN</td>\n",
              "      <td>NaN</td>\n",
              "      <td>326.000000</td>\n",
              "      <td>NaN</td>\n",
              "      <td>NaN</td>\n",
              "      <td>NaN</td>\n",
              "      <td>23.000000</td>\n",
              "      <td>NaN</td>\n",
              "      <td>NaN</td>\n",
              "      <td>49.000000</td>\n",
              "      <td>54.000000</td>\n",
              "      <td>NaN</td>\n",
              "    </tr>\n",
              "  </tbody>\n",
              "</table>\n",
              "</div>"
            ],
            "text/plain": [
              "         symboling normalized-losses    make  ...    city-mpg highway-mpg price\n",
              "count   201.000000               164     201  ...  201.000000  201.000000   201\n",
              "unique         NaN                51      22  ...         NaN         NaN   186\n",
              "top            NaN               161  toyota  ...         NaN         NaN  7295\n",
              "freq           NaN                11      32  ...         NaN         NaN     2\n",
              "mean      0.840796               NaN     NaN  ...   25.179104   30.686567   NaN\n",
              "std       1.254802               NaN     NaN  ...    6.423220    6.815150   NaN\n",
              "min      -2.000000               NaN     NaN  ...   13.000000   16.000000   NaN\n",
              "25%       0.000000               NaN     NaN  ...   19.000000   25.000000   NaN\n",
              "50%       1.000000               NaN     NaN  ...   24.000000   30.000000   NaN\n",
              "75%       2.000000               NaN     NaN  ...   30.000000   34.000000   NaN\n",
              "max       3.000000               NaN     NaN  ...   49.000000   54.000000   NaN\n",
              "\n",
              "[11 rows x 26 columns]"
            ]
          },
          "execution_count": 11,
          "metadata": {},
          "output_type": "execute_result"
        }
      ]
    },
    {
      "cell_type": "markdown",
      "metadata": {
        "id": "81HyQCjPus0h"
      },
      "source": [
        "# Module 2 - Data Wrangling"
      ]
    },
    {
      "cell_type": "code",
      "metadata": {
        "id": "GZ7e7hbOD_Cv"
      },
      "source": [
        "d_f = pd.read_csv(\"automobile.csv\")"
      ],
      "execution_count": null,
      "outputs": []
    },
    {
      "cell_type": "markdown",
      "metadata": {
        "id": "yqKIxsTM-xeF"
      },
      "source": [
        "**Data Pre-Processing**\n",
        "\n",
        "The process of converting or mapping data from the initial \"raw\" form into another format, in order to prepare the data for futher analysis"
      ]
    },
    {
      "cell_type": "markdown",
      "metadata": {
        "id": "hQrLqPlTEgVL"
      },
      "source": [
        "**Data wrangling** (manipulación) is the process of converting data from the initial format to a format that may be better for analysis"
      ]
    },
    {
      "cell_type": "code",
      "metadata": {
        "colab": {
          "base_uri": "https://localhost:8080/",
          "height": 309
        },
        "id": "Zf1j4ejVvDfs",
        "outputId": "7335117a-14c9-4c99-cfae-b3e497d23f82"
      },
      "source": [
        "d_f.head()"
      ],
      "execution_count": null,
      "outputs": [
        {
          "data": {
            "text/html": [
              "<div>\n",
              "<style scoped>\n",
              "    .dataframe tbody tr th:only-of-type {\n",
              "        vertical-align: middle;\n",
              "    }\n",
              "\n",
              "    .dataframe tbody tr th {\n",
              "        vertical-align: top;\n",
              "    }\n",
              "\n",
              "    .dataframe thead th {\n",
              "        text-align: right;\n",
              "    }\n",
              "</style>\n",
              "<table border=\"1\" class=\"dataframe\">\n",
              "  <thead>\n",
              "    <tr style=\"text-align: right;\">\n",
              "      <th></th>\n",
              "      <th>symboling</th>\n",
              "      <th>normalized-losses</th>\n",
              "      <th>make</th>\n",
              "      <th>fuel-type</th>\n",
              "      <th>aspiration</th>\n",
              "      <th>num-of-doors</th>\n",
              "      <th>body-style</th>\n",
              "      <th>drive-wheels</th>\n",
              "      <th>engine-location</th>\n",
              "      <th>wheel-base</th>\n",
              "      <th>length</th>\n",
              "      <th>width</th>\n",
              "      <th>height</th>\n",
              "      <th>curb-weight</th>\n",
              "      <th>engine-type</th>\n",
              "      <th>num-of-cylinders</th>\n",
              "      <th>engine-size</th>\n",
              "      <th>fuel-system</th>\n",
              "      <th>bore</th>\n",
              "      <th>stroke</th>\n",
              "      <th>compression-ratio</th>\n",
              "      <th>horsepower</th>\n",
              "      <th>peak-rpm</th>\n",
              "      <th>city-mpg</th>\n",
              "      <th>highway-mpg</th>\n",
              "      <th>price</th>\n",
              "    </tr>\n",
              "  </thead>\n",
              "  <tbody>\n",
              "    <tr>\n",
              "      <th>0</th>\n",
              "      <td>3</td>\n",
              "      <td>NaN</td>\n",
              "      <td>alfa-romero</td>\n",
              "      <td>gas</td>\n",
              "      <td>std</td>\n",
              "      <td>two</td>\n",
              "      <td>convertible</td>\n",
              "      <td>rwd</td>\n",
              "      <td>front</td>\n",
              "      <td>88.6</td>\n",
              "      <td>168.8</td>\n",
              "      <td>64.1</td>\n",
              "      <td>48.8</td>\n",
              "      <td>2548</td>\n",
              "      <td>dohc</td>\n",
              "      <td>four</td>\n",
              "      <td>130</td>\n",
              "      <td>mpfi</td>\n",
              "      <td>3.47</td>\n",
              "      <td>2.68</td>\n",
              "      <td>9.0</td>\n",
              "      <td>111.0</td>\n",
              "      <td>5000.0</td>\n",
              "      <td>21</td>\n",
              "      <td>27</td>\n",
              "      <td>13495</td>\n",
              "    </tr>\n",
              "    <tr>\n",
              "      <th>1</th>\n",
              "      <td>3</td>\n",
              "      <td>NaN</td>\n",
              "      <td>alfa-romero</td>\n",
              "      <td>gas</td>\n",
              "      <td>std</td>\n",
              "      <td>two</td>\n",
              "      <td>convertible</td>\n",
              "      <td>rwd</td>\n",
              "      <td>front</td>\n",
              "      <td>88.6</td>\n",
              "      <td>168.8</td>\n",
              "      <td>64.1</td>\n",
              "      <td>48.8</td>\n",
              "      <td>2548</td>\n",
              "      <td>dohc</td>\n",
              "      <td>four</td>\n",
              "      <td>130</td>\n",
              "      <td>mpfi</td>\n",
              "      <td>3.47</td>\n",
              "      <td>2.68</td>\n",
              "      <td>9.0</td>\n",
              "      <td>111.0</td>\n",
              "      <td>5000.0</td>\n",
              "      <td>21</td>\n",
              "      <td>27</td>\n",
              "      <td>16500</td>\n",
              "    </tr>\n",
              "    <tr>\n",
              "      <th>2</th>\n",
              "      <td>1</td>\n",
              "      <td>NaN</td>\n",
              "      <td>alfa-romero</td>\n",
              "      <td>gas</td>\n",
              "      <td>std</td>\n",
              "      <td>two</td>\n",
              "      <td>hatchback</td>\n",
              "      <td>rwd</td>\n",
              "      <td>front</td>\n",
              "      <td>94.5</td>\n",
              "      <td>171.2</td>\n",
              "      <td>65.5</td>\n",
              "      <td>52.4</td>\n",
              "      <td>2823</td>\n",
              "      <td>ohcv</td>\n",
              "      <td>six</td>\n",
              "      <td>152</td>\n",
              "      <td>mpfi</td>\n",
              "      <td>2.68</td>\n",
              "      <td>3.47</td>\n",
              "      <td>9.0</td>\n",
              "      <td>154.0</td>\n",
              "      <td>5000.0</td>\n",
              "      <td>19</td>\n",
              "      <td>26</td>\n",
              "      <td>16500</td>\n",
              "    </tr>\n",
              "    <tr>\n",
              "      <th>3</th>\n",
              "      <td>2</td>\n",
              "      <td>164.0</td>\n",
              "      <td>audi</td>\n",
              "      <td>gas</td>\n",
              "      <td>std</td>\n",
              "      <td>four</td>\n",
              "      <td>sedan</td>\n",
              "      <td>fwd</td>\n",
              "      <td>front</td>\n",
              "      <td>99.8</td>\n",
              "      <td>176.6</td>\n",
              "      <td>66.2</td>\n",
              "      <td>54.3</td>\n",
              "      <td>2337</td>\n",
              "      <td>ohc</td>\n",
              "      <td>four</td>\n",
              "      <td>109</td>\n",
              "      <td>mpfi</td>\n",
              "      <td>3.19</td>\n",
              "      <td>3.40</td>\n",
              "      <td>10.0</td>\n",
              "      <td>102.0</td>\n",
              "      <td>5500.0</td>\n",
              "      <td>24</td>\n",
              "      <td>30</td>\n",
              "      <td>13950</td>\n",
              "    </tr>\n",
              "    <tr>\n",
              "      <th>4</th>\n",
              "      <td>2</td>\n",
              "      <td>164.0</td>\n",
              "      <td>audi</td>\n",
              "      <td>gas</td>\n",
              "      <td>std</td>\n",
              "      <td>four</td>\n",
              "      <td>sedan</td>\n",
              "      <td>4wd</td>\n",
              "      <td>front</td>\n",
              "      <td>99.4</td>\n",
              "      <td>176.6</td>\n",
              "      <td>66.4</td>\n",
              "      <td>54.3</td>\n",
              "      <td>2824</td>\n",
              "      <td>ohc</td>\n",
              "      <td>five</td>\n",
              "      <td>136</td>\n",
              "      <td>mpfi</td>\n",
              "      <td>3.19</td>\n",
              "      <td>3.40</td>\n",
              "      <td>8.0</td>\n",
              "      <td>115.0</td>\n",
              "      <td>5500.0</td>\n",
              "      <td>18</td>\n",
              "      <td>22</td>\n",
              "      <td>17450</td>\n",
              "    </tr>\n",
              "  </tbody>\n",
              "</table>\n",
              "</div>"
            ],
            "text/plain": [
              "   symboling  normalized-losses         make  ... city-mpg highway-mpg  price\n",
              "0          3                NaN  alfa-romero  ...       21          27  13495\n",
              "1          3                NaN  alfa-romero  ...       21          27  16500\n",
              "2          1                NaN  alfa-romero  ...       19          26  16500\n",
              "3          2              164.0         audi  ...       24          30  13950\n",
              "4          2              164.0         audi  ...       18          22  17450\n",
              "\n",
              "[5 rows x 26 columns]"
            ]
          },
          "execution_count": 12,
          "metadata": {},
          "output_type": "execute_result"
        }
      ]
    },
    {
      "cell_type": "markdown",
      "metadata": {
        "id": "l1jKz2nzE-RN"
      },
      "source": [
        "we need to identify what those are missing values which may hinder our further analysis\n",
        "\n",
        "**Steps for working with missing data:**\n",
        "\n",
        "\n",
        "1.   Identify missing data\n",
        "2.   Deal with missing data\n",
        "3.   Correct data format\n",
        "\n",
        "the missing data could be \"?\", first we need to replace \"?\" with NaN \n",
        "\n",
        "**df.replace(A, B, inplace = True)    -    To replace A by B**"
      ]
    },
    {
      "cell_type": "code",
      "metadata": {
        "colab": {
          "base_uri": "https://localhost:8080/",
          "height": 309
        },
        "id": "H41Ry1IkF-E4",
        "outputId": "d9b510a3-3664-4ab9-c627-e82b03b822e7"
      },
      "source": [
        "d_f.replace(\"?\", np.nan, inplace = True)\n",
        "d_f.head()"
      ],
      "execution_count": null,
      "outputs": [
        {
          "data": {
            "text/html": [
              "<div>\n",
              "<style scoped>\n",
              "    .dataframe tbody tr th:only-of-type {\n",
              "        vertical-align: middle;\n",
              "    }\n",
              "\n",
              "    .dataframe tbody tr th {\n",
              "        vertical-align: top;\n",
              "    }\n",
              "\n",
              "    .dataframe thead th {\n",
              "        text-align: right;\n",
              "    }\n",
              "</style>\n",
              "<table border=\"1\" class=\"dataframe\">\n",
              "  <thead>\n",
              "    <tr style=\"text-align: right;\">\n",
              "      <th></th>\n",
              "      <th>symboling</th>\n",
              "      <th>normalized-losses</th>\n",
              "      <th>make</th>\n",
              "      <th>fuel-type</th>\n",
              "      <th>aspiration</th>\n",
              "      <th>num-of-doors</th>\n",
              "      <th>body-style</th>\n",
              "      <th>drive-wheels</th>\n",
              "      <th>engine-location</th>\n",
              "      <th>wheel-base</th>\n",
              "      <th>length</th>\n",
              "      <th>width</th>\n",
              "      <th>height</th>\n",
              "      <th>curb-weight</th>\n",
              "      <th>engine-type</th>\n",
              "      <th>num-of-cylinders</th>\n",
              "      <th>engine-size</th>\n",
              "      <th>fuel-system</th>\n",
              "      <th>bore</th>\n",
              "      <th>stroke</th>\n",
              "      <th>compression-ratio</th>\n",
              "      <th>horsepower</th>\n",
              "      <th>peak-rpm</th>\n",
              "      <th>city-mpg</th>\n",
              "      <th>highway-mpg</th>\n",
              "      <th>price</th>\n",
              "    </tr>\n",
              "  </thead>\n",
              "  <tbody>\n",
              "    <tr>\n",
              "      <th>0</th>\n",
              "      <td>3</td>\n",
              "      <td>NaN</td>\n",
              "      <td>alfa-romero</td>\n",
              "      <td>gas</td>\n",
              "      <td>std</td>\n",
              "      <td>two</td>\n",
              "      <td>convertible</td>\n",
              "      <td>rwd</td>\n",
              "      <td>front</td>\n",
              "      <td>88.6</td>\n",
              "      <td>168.8</td>\n",
              "      <td>64.1</td>\n",
              "      <td>48.8</td>\n",
              "      <td>2548</td>\n",
              "      <td>dohc</td>\n",
              "      <td>four</td>\n",
              "      <td>130</td>\n",
              "      <td>mpfi</td>\n",
              "      <td>3.47</td>\n",
              "      <td>2.68</td>\n",
              "      <td>9.0</td>\n",
              "      <td>111.0</td>\n",
              "      <td>5000.0</td>\n",
              "      <td>21</td>\n",
              "      <td>27</td>\n",
              "      <td>13495</td>\n",
              "    </tr>\n",
              "    <tr>\n",
              "      <th>1</th>\n",
              "      <td>3</td>\n",
              "      <td>NaN</td>\n",
              "      <td>alfa-romero</td>\n",
              "      <td>gas</td>\n",
              "      <td>std</td>\n",
              "      <td>two</td>\n",
              "      <td>convertible</td>\n",
              "      <td>rwd</td>\n",
              "      <td>front</td>\n",
              "      <td>88.6</td>\n",
              "      <td>168.8</td>\n",
              "      <td>64.1</td>\n",
              "      <td>48.8</td>\n",
              "      <td>2548</td>\n",
              "      <td>dohc</td>\n",
              "      <td>four</td>\n",
              "      <td>130</td>\n",
              "      <td>mpfi</td>\n",
              "      <td>3.47</td>\n",
              "      <td>2.68</td>\n",
              "      <td>9.0</td>\n",
              "      <td>111.0</td>\n",
              "      <td>5000.0</td>\n",
              "      <td>21</td>\n",
              "      <td>27</td>\n",
              "      <td>16500</td>\n",
              "    </tr>\n",
              "    <tr>\n",
              "      <th>2</th>\n",
              "      <td>1</td>\n",
              "      <td>NaN</td>\n",
              "      <td>alfa-romero</td>\n",
              "      <td>gas</td>\n",
              "      <td>std</td>\n",
              "      <td>two</td>\n",
              "      <td>hatchback</td>\n",
              "      <td>rwd</td>\n",
              "      <td>front</td>\n",
              "      <td>94.5</td>\n",
              "      <td>171.2</td>\n",
              "      <td>65.5</td>\n",
              "      <td>52.4</td>\n",
              "      <td>2823</td>\n",
              "      <td>ohcv</td>\n",
              "      <td>six</td>\n",
              "      <td>152</td>\n",
              "      <td>mpfi</td>\n",
              "      <td>2.68</td>\n",
              "      <td>3.47</td>\n",
              "      <td>9.0</td>\n",
              "      <td>154.0</td>\n",
              "      <td>5000.0</td>\n",
              "      <td>19</td>\n",
              "      <td>26</td>\n",
              "      <td>16500</td>\n",
              "    </tr>\n",
              "    <tr>\n",
              "      <th>3</th>\n",
              "      <td>2</td>\n",
              "      <td>164.0</td>\n",
              "      <td>audi</td>\n",
              "      <td>gas</td>\n",
              "      <td>std</td>\n",
              "      <td>four</td>\n",
              "      <td>sedan</td>\n",
              "      <td>fwd</td>\n",
              "      <td>front</td>\n",
              "      <td>99.8</td>\n",
              "      <td>176.6</td>\n",
              "      <td>66.2</td>\n",
              "      <td>54.3</td>\n",
              "      <td>2337</td>\n",
              "      <td>ohc</td>\n",
              "      <td>four</td>\n",
              "      <td>109</td>\n",
              "      <td>mpfi</td>\n",
              "      <td>3.19</td>\n",
              "      <td>3.40</td>\n",
              "      <td>10.0</td>\n",
              "      <td>102.0</td>\n",
              "      <td>5500.0</td>\n",
              "      <td>24</td>\n",
              "      <td>30</td>\n",
              "      <td>13950</td>\n",
              "    </tr>\n",
              "    <tr>\n",
              "      <th>4</th>\n",
              "      <td>2</td>\n",
              "      <td>164.0</td>\n",
              "      <td>audi</td>\n",
              "      <td>gas</td>\n",
              "      <td>std</td>\n",
              "      <td>four</td>\n",
              "      <td>sedan</td>\n",
              "      <td>4wd</td>\n",
              "      <td>front</td>\n",
              "      <td>99.4</td>\n",
              "      <td>176.6</td>\n",
              "      <td>66.4</td>\n",
              "      <td>54.3</td>\n",
              "      <td>2824</td>\n",
              "      <td>ohc</td>\n",
              "      <td>five</td>\n",
              "      <td>136</td>\n",
              "      <td>mpfi</td>\n",
              "      <td>3.19</td>\n",
              "      <td>3.40</td>\n",
              "      <td>8.0</td>\n",
              "      <td>115.0</td>\n",
              "      <td>5500.0</td>\n",
              "      <td>18</td>\n",
              "      <td>22</td>\n",
              "      <td>17450</td>\n",
              "    </tr>\n",
              "  </tbody>\n",
              "</table>\n",
              "</div>"
            ],
            "text/plain": [
              "   symboling  normalized-losses         make  ... city-mpg highway-mpg  price\n",
              "0          3                NaN  alfa-romero  ...       21          27  13495\n",
              "1          3                NaN  alfa-romero  ...       21          27  16500\n",
              "2          1                NaN  alfa-romero  ...       19          26  16500\n",
              "3          2              164.0         audi  ...       24          30  13950\n",
              "4          2              164.0         audi  ...       18          22  17450\n",
              "\n",
              "[5 rows x 26 columns]"
            ]
          },
          "execution_count": 13,
          "metadata": {},
          "output_type": "execute_result"
        }
      ]
    },
    {
      "cell_type": "markdown",
      "metadata": {
        "id": "vkC8g-qcGTcw"
      },
      "source": [
        "**Evaluating for missing data**\n",
        "\n",
        "the missing valures are converted by default. These are two methods to detect missing values\n",
        "\n",
        "\n",
        "1.   .isnull()  - Return a boolean same-sized object indicating if the values are NA.\n",
        "2.   .notnull()   -  Return a boolean same-sized object indicating if the values are not NA\n",
        "\n",
        "The output is a boolean value indicating whether the value that is passed into the arguments is in fact missing data"
      ]
    },
    {
      "cell_type": "code",
      "metadata": {
        "colab": {
          "base_uri": "https://localhost:8080/",
          "height": 258
        },
        "id": "NjKyhfuYGy4-",
        "outputId": "e8601a0e-3505-4247-daac-b3ed6208c789"
      },
      "source": [
        "missing_data = d_f.isnull()\n",
        "missing_data.head()"
      ],
      "execution_count": null,
      "outputs": [
        {
          "data": {
            "text/html": [
              "<div>\n",
              "<style scoped>\n",
              "    .dataframe tbody tr th:only-of-type {\n",
              "        vertical-align: middle;\n",
              "    }\n",
              "\n",
              "    .dataframe tbody tr th {\n",
              "        vertical-align: top;\n",
              "    }\n",
              "\n",
              "    .dataframe thead th {\n",
              "        text-align: right;\n",
              "    }\n",
              "</style>\n",
              "<table border=\"1\" class=\"dataframe\">\n",
              "  <thead>\n",
              "    <tr style=\"text-align: right;\">\n",
              "      <th></th>\n",
              "      <th>symboling</th>\n",
              "      <th>normalized-losses</th>\n",
              "      <th>make</th>\n",
              "      <th>fuel-type</th>\n",
              "      <th>aspiration</th>\n",
              "      <th>num-of-doors</th>\n",
              "      <th>body-style</th>\n",
              "      <th>drive-wheels</th>\n",
              "      <th>engine-location</th>\n",
              "      <th>wheel-base</th>\n",
              "      <th>length</th>\n",
              "      <th>width</th>\n",
              "      <th>height</th>\n",
              "      <th>curb-weight</th>\n",
              "      <th>engine-type</th>\n",
              "      <th>num-of-cylinders</th>\n",
              "      <th>engine-size</th>\n",
              "      <th>fuel-system</th>\n",
              "      <th>bore</th>\n",
              "      <th>stroke</th>\n",
              "      <th>compression-ratio</th>\n",
              "      <th>horsepower</th>\n",
              "      <th>peak-rpm</th>\n",
              "      <th>city-mpg</th>\n",
              "      <th>highway-mpg</th>\n",
              "      <th>price</th>\n",
              "    </tr>\n",
              "  </thead>\n",
              "  <tbody>\n",
              "    <tr>\n",
              "      <th>0</th>\n",
              "      <td>False</td>\n",
              "      <td>True</td>\n",
              "      <td>False</td>\n",
              "      <td>False</td>\n",
              "      <td>False</td>\n",
              "      <td>False</td>\n",
              "      <td>False</td>\n",
              "      <td>False</td>\n",
              "      <td>False</td>\n",
              "      <td>False</td>\n",
              "      <td>False</td>\n",
              "      <td>False</td>\n",
              "      <td>False</td>\n",
              "      <td>False</td>\n",
              "      <td>False</td>\n",
              "      <td>False</td>\n",
              "      <td>False</td>\n",
              "      <td>False</td>\n",
              "      <td>False</td>\n",
              "      <td>False</td>\n",
              "      <td>False</td>\n",
              "      <td>False</td>\n",
              "      <td>False</td>\n",
              "      <td>False</td>\n",
              "      <td>False</td>\n",
              "      <td>False</td>\n",
              "    </tr>\n",
              "    <tr>\n",
              "      <th>1</th>\n",
              "      <td>False</td>\n",
              "      <td>True</td>\n",
              "      <td>False</td>\n",
              "      <td>False</td>\n",
              "      <td>False</td>\n",
              "      <td>False</td>\n",
              "      <td>False</td>\n",
              "      <td>False</td>\n",
              "      <td>False</td>\n",
              "      <td>False</td>\n",
              "      <td>False</td>\n",
              "      <td>False</td>\n",
              "      <td>False</td>\n",
              "      <td>False</td>\n",
              "      <td>False</td>\n",
              "      <td>False</td>\n",
              "      <td>False</td>\n",
              "      <td>False</td>\n",
              "      <td>False</td>\n",
              "      <td>False</td>\n",
              "      <td>False</td>\n",
              "      <td>False</td>\n",
              "      <td>False</td>\n",
              "      <td>False</td>\n",
              "      <td>False</td>\n",
              "      <td>False</td>\n",
              "    </tr>\n",
              "    <tr>\n",
              "      <th>2</th>\n",
              "      <td>False</td>\n",
              "      <td>True</td>\n",
              "      <td>False</td>\n",
              "      <td>False</td>\n",
              "      <td>False</td>\n",
              "      <td>False</td>\n",
              "      <td>False</td>\n",
              "      <td>False</td>\n",
              "      <td>False</td>\n",
              "      <td>False</td>\n",
              "      <td>False</td>\n",
              "      <td>False</td>\n",
              "      <td>False</td>\n",
              "      <td>False</td>\n",
              "      <td>False</td>\n",
              "      <td>False</td>\n",
              "      <td>False</td>\n",
              "      <td>False</td>\n",
              "      <td>False</td>\n",
              "      <td>False</td>\n",
              "      <td>False</td>\n",
              "      <td>False</td>\n",
              "      <td>False</td>\n",
              "      <td>False</td>\n",
              "      <td>False</td>\n",
              "      <td>False</td>\n",
              "    </tr>\n",
              "    <tr>\n",
              "      <th>3</th>\n",
              "      <td>False</td>\n",
              "      <td>False</td>\n",
              "      <td>False</td>\n",
              "      <td>False</td>\n",
              "      <td>False</td>\n",
              "      <td>False</td>\n",
              "      <td>False</td>\n",
              "      <td>False</td>\n",
              "      <td>False</td>\n",
              "      <td>False</td>\n",
              "      <td>False</td>\n",
              "      <td>False</td>\n",
              "      <td>False</td>\n",
              "      <td>False</td>\n",
              "      <td>False</td>\n",
              "      <td>False</td>\n",
              "      <td>False</td>\n",
              "      <td>False</td>\n",
              "      <td>False</td>\n",
              "      <td>False</td>\n",
              "      <td>False</td>\n",
              "      <td>False</td>\n",
              "      <td>False</td>\n",
              "      <td>False</td>\n",
              "      <td>False</td>\n",
              "      <td>False</td>\n",
              "    </tr>\n",
              "    <tr>\n",
              "      <th>4</th>\n",
              "      <td>False</td>\n",
              "      <td>False</td>\n",
              "      <td>False</td>\n",
              "      <td>False</td>\n",
              "      <td>False</td>\n",
              "      <td>False</td>\n",
              "      <td>False</td>\n",
              "      <td>False</td>\n",
              "      <td>False</td>\n",
              "      <td>False</td>\n",
              "      <td>False</td>\n",
              "      <td>False</td>\n",
              "      <td>False</td>\n",
              "      <td>False</td>\n",
              "      <td>False</td>\n",
              "      <td>False</td>\n",
              "      <td>False</td>\n",
              "      <td>False</td>\n",
              "      <td>False</td>\n",
              "      <td>False</td>\n",
              "      <td>False</td>\n",
              "      <td>False</td>\n",
              "      <td>False</td>\n",
              "      <td>False</td>\n",
              "      <td>False</td>\n",
              "      <td>False</td>\n",
              "    </tr>\n",
              "  </tbody>\n",
              "</table>\n",
              "</div>"
            ],
            "text/plain": [
              "   symboling  normalized-losses   make  ...  city-mpg  highway-mpg  price\n",
              "0      False               True  False  ...     False        False  False\n",
              "1      False               True  False  ...     False        False  False\n",
              "2      False               True  False  ...     False        False  False\n",
              "3      False              False  False  ...     False        False  False\n",
              "4      False              False  False  ...     False        False  False\n",
              "\n",
              "[5 rows x 26 columns]"
            ]
          },
          "execution_count": 14,
          "metadata": {},
          "output_type": "execute_result"
        }
      ]
    },
    {
      "cell_type": "markdown",
      "metadata": {
        "id": "fbwsPqYOHcdc"
      },
      "source": [
        "**Count missing values**\n",
        "\n",
        "Using a four loop, we can figure out the number of missing values in each column\n",
        "\n",
        ".value_counts() - Return a Series containing counts of unique values."
      ]
    },
    {
      "cell_type": "code",
      "metadata": {
        "colab": {
          "base_uri": "https://localhost:8080/"
        },
        "id": "h4XDzX0QIxYH",
        "outputId": "353727a5-5953-4660-a86a-1720d7385399"
      },
      "source": [
        "columns_missing_data = []\n",
        "for column in d_f.columns.values.tolist():\n",
        "  columnn_missing_data = missing_data[column].value_counts()\n",
        "  if len(columnn_missing_data) == 2:\n",
        "    print(column)\n",
        "    print(columnn_missing_data)\n",
        "    print(\"\")\n",
        "    columns_missing_data.append(column)\n",
        "\n",
        "print(\"These columns have missing data:\")\n",
        "print(columns_missing_data)"
      ],
      "execution_count": null,
      "outputs": [
        {
          "name": "stdout",
          "output_type": "stream",
          "text": [
            "normalized-losses\n",
            "False    164\n",
            "True      37\n",
            "Name: normalized-losses, dtype: int64\n",
            "\n",
            "num-of-doors\n",
            "False    199\n",
            "True       2\n",
            "Name: num-of-doors, dtype: int64\n",
            "\n",
            "bore\n",
            "False    197\n",
            "True       4\n",
            "Name: bore, dtype: int64\n",
            "\n",
            "stroke\n",
            "False    197\n",
            "True       4\n",
            "Name: stroke, dtype: int64\n",
            "\n",
            "horsepower\n",
            "False    199\n",
            "True       2\n",
            "Name: horsepower, dtype: int64\n",
            "\n",
            "peak-rpm\n",
            "False    199\n",
            "True       2\n",
            "Name: peak-rpm, dtype: int64\n",
            "\n",
            "These columns have missing data:\n",
            "['normalized-losses', 'num-of-doors', 'bore', 'stroke', 'horsepower', 'peak-rpm']\n"
          ]
        }
      ]
    },
    {
      "cell_type": "markdown",
      "metadata": {
        "id": "_Ugwwj9fKOxF"
      },
      "source": [
        "**Deal with missing data**\n",
        "\n",
        "\n",
        "\n",
        "1.   Drop Data\n",
        "  *   Drop the whole row\n",
        "  *   Drop the whole column\n",
        "2.   Replace Data\n",
        "  *   Replace by it mean\n",
        "  *   Replace by it frecuency\n",
        "  *   Replace it based on other functions\n"
      ]
    },
    {
      "cell_type": "code",
      "metadata": {
        "colab": {
          "base_uri": "https://localhost:8080/",
          "height": 238
        },
        "id": "wc_bPcY3Lszq",
        "outputId": "f7c3c397-e4fe-4ccb-8ad7-f35ee49a0d7b"
      },
      "source": [
        "print(\"These columns have missing data:\")\n",
        "print(columns_missing_data)\n",
        "d_f[columns_missing_data].head()"
      ],
      "execution_count": null,
      "outputs": [
        {
          "name": "stdout",
          "output_type": "stream",
          "text": [
            "These columns have missing data:\n",
            "['normalized-losses', 'num-of-doors', 'bore', 'stroke', 'horsepower', 'peak-rpm']\n"
          ]
        },
        {
          "data": {
            "text/html": [
              "<div>\n",
              "<style scoped>\n",
              "    .dataframe tbody tr th:only-of-type {\n",
              "        vertical-align: middle;\n",
              "    }\n",
              "\n",
              "    .dataframe tbody tr th {\n",
              "        vertical-align: top;\n",
              "    }\n",
              "\n",
              "    .dataframe thead th {\n",
              "        text-align: right;\n",
              "    }\n",
              "</style>\n",
              "<table border=\"1\" class=\"dataframe\">\n",
              "  <thead>\n",
              "    <tr style=\"text-align: right;\">\n",
              "      <th></th>\n",
              "      <th>normalized-losses</th>\n",
              "      <th>num-of-doors</th>\n",
              "      <th>bore</th>\n",
              "      <th>stroke</th>\n",
              "      <th>horsepower</th>\n",
              "      <th>peak-rpm</th>\n",
              "    </tr>\n",
              "  </thead>\n",
              "  <tbody>\n",
              "    <tr>\n",
              "      <th>0</th>\n",
              "      <td>NaN</td>\n",
              "      <td>two</td>\n",
              "      <td>3.47</td>\n",
              "      <td>2.68</td>\n",
              "      <td>111.0</td>\n",
              "      <td>5000.0</td>\n",
              "    </tr>\n",
              "    <tr>\n",
              "      <th>1</th>\n",
              "      <td>NaN</td>\n",
              "      <td>two</td>\n",
              "      <td>3.47</td>\n",
              "      <td>2.68</td>\n",
              "      <td>111.0</td>\n",
              "      <td>5000.0</td>\n",
              "    </tr>\n",
              "    <tr>\n",
              "      <th>2</th>\n",
              "      <td>NaN</td>\n",
              "      <td>two</td>\n",
              "      <td>2.68</td>\n",
              "      <td>3.47</td>\n",
              "      <td>154.0</td>\n",
              "      <td>5000.0</td>\n",
              "    </tr>\n",
              "    <tr>\n",
              "      <th>3</th>\n",
              "      <td>164.0</td>\n",
              "      <td>four</td>\n",
              "      <td>3.19</td>\n",
              "      <td>3.40</td>\n",
              "      <td>102.0</td>\n",
              "      <td>5500.0</td>\n",
              "    </tr>\n",
              "    <tr>\n",
              "      <th>4</th>\n",
              "      <td>164.0</td>\n",
              "      <td>four</td>\n",
              "      <td>3.19</td>\n",
              "      <td>3.40</td>\n",
              "      <td>115.0</td>\n",
              "      <td>5500.0</td>\n",
              "    </tr>\n",
              "  </tbody>\n",
              "</table>\n",
              "</div>"
            ],
            "text/plain": [
              "   normalized-losses num-of-doors  bore  stroke  horsepower  peak-rpm\n",
              "0                NaN          two  3.47    2.68       111.0    5000.0\n",
              "1                NaN          two  3.47    2.68       111.0    5000.0\n",
              "2                NaN          two  2.68    3.47       154.0    5000.0\n",
              "3              164.0         four  3.19    3.40       102.0    5500.0\n",
              "4              164.0         four  3.19    3.40       115.0    5500.0"
            ]
          },
          "execution_count": 16,
          "metadata": {},
          "output_type": "execute_result"
        }
      ]
    },
    {
      "cell_type": "markdown",
      "metadata": {
        "id": "eq1EuHlLMPnv"
      },
      "source": [
        "We will apply each method to many different columns to replace data\n",
        "\n",
        "Replace by mean:\n",
        "\n",
        "\n",
        "*   \"normalized-losses\" - 41 missing data\n",
        "*   \"stroke\" - 4 missing data\n",
        "*   \"bore\" - 4 missing data\n",
        "*   \"horsepower\" - 2 missing data\n",
        "*   \"peak-rpm\" - 2 missing data\n",
        "\n",
        "Replace by frecuency:\n",
        "*   \"num-of-doors\" - 2 missing data, replace the with \"Four\"\n",
        "    *  Reason: 84% sedans is \"four\" doors, since four doors is most frequent\n",
        "\n",
        "Drop the whole row\n",
        "*   \"Price\" - 4 missing data, simply delete the whole row\n",
        "      *   Reason: price is what we want to predict \n",
        "\n",
        "**Calculate the replace & Change the values**"
      ]
    },
    {
      "cell_type": "code",
      "metadata": {
        "colab": {
          "base_uri": "https://localhost:8080/"
        },
        "id": "26VHUxHwNqtg",
        "outputId": "4ed4117e-1049-4e61-e1df-c31c1a12cb67"
      },
      "source": [
        "#'normalized-losses'\n",
        "avg_norm_loss = d_f['normalized-losses'].astype(\"float\").mean(axis = 0)\n",
        "print(\"Average of normalized losses: {}\".format(avg_norm_loss))\n",
        "\n",
        "d_f[\"normalized-losses\"].replace(np.nan, avg_norm_loss, inplace = True)"
      ],
      "execution_count": null,
      "outputs": [
        {
          "name": "stdout",
          "output_type": "stream",
          "text": [
            "Average of normalized losses: 122.0\n"
          ]
        }
      ]
    },
    {
      "cell_type": "code",
      "metadata": {
        "colab": {
          "base_uri": "https://localhost:8080/"
        },
        "id": "-myw0YUKO3z-",
        "outputId": "8da1aa05-f7a6-45c5-942a-ca150ae5e2a0"
      },
      "source": [
        "#'bore'\n",
        "avg_bore = d_f[\"bore\"].astype(\"float\").mean(axis = 0)\n",
        "print(\"Average of bore: {}\".format(avg_bore))\n",
        "\n",
        "d_f[\"bore\"].replace(np.nan, avg_bore, inplace = True)"
      ],
      "execution_count": null,
      "outputs": [
        {
          "name": "stdout",
          "output_type": "stream",
          "text": [
            "Average of bore: 3.3307106598984775\n"
          ]
        }
      ]
    },
    {
      "cell_type": "code",
      "metadata": {
        "colab": {
          "base_uri": "https://localhost:8080/"
        },
        "id": "z5TsR-ddPrmA",
        "outputId": "03ed957a-98ed-4b7a-fe41-9a2b84ac0fe5"
      },
      "source": [
        "#'stroke'\n",
        "avg_stroke = d_f[\"stroke\"].astype(\"float\").mean(axis = 0)\n",
        "print(\"Average of stroke: {}\".format(avg_stroke))\n",
        "\n",
        "d_f[\"stroke\"].replace(np.nan, avg_stroke, inplace = True)"
      ],
      "execution_count": null,
      "outputs": [
        {
          "name": "stdout",
          "output_type": "stream",
          "text": [
            "Average of stroke: 3.2569035532994857\n"
          ]
        }
      ]
    },
    {
      "cell_type": "code",
      "metadata": {
        "colab": {
          "base_uri": "https://localhost:8080/"
        },
        "id": "vNNBRD0rP7Oj",
        "outputId": "92bc2ff4-03c3-458a-f104-95c384d7f06c"
      },
      "source": [
        "#'horsepower'\n",
        "avg_horsepower = d_f[\"horsepower\"].astype(\"float\").mean(axis = 0)\n",
        "print(\"Average of horsepower: {}\".format(avg_horsepower))\n",
        "\n",
        "d_f[\"horsepower\"].replace(np.nan, avg_horsepower, inplace = True)"
      ],
      "execution_count": null,
      "outputs": [
        {
          "name": "stdout",
          "output_type": "stream",
          "text": [
            "Average of horsepower: 103.39698492462311\n"
          ]
        }
      ]
    },
    {
      "cell_type": "code",
      "metadata": {
        "colab": {
          "base_uri": "https://localhost:8080/"
        },
        "id": "XbfMU3ZIQRoc",
        "outputId": "84520d05-e200-4e71-c010-3ca230a25597"
      },
      "source": [
        "#'peak-rpm'\n",
        "avg_peak_rpm = d_f[\"peak-rpm\"].astype(\"float\").mean(axis = 0)\n",
        "print(\"Average of peak-rpm: {}\".format(avg_peak_rpm))\n",
        "\n",
        "d_f[\"peak-rpm\"].replace(np.nan, avg_peak_rpm, inplace = True)"
      ],
      "execution_count": null,
      "outputs": [
        {
          "name": "stdout",
          "output_type": "stream",
          "text": [
            "Average of peak-rpm: 5117.587939698493\n"
          ]
        }
      ]
    },
    {
      "cell_type": "code",
      "metadata": {
        "colab": {
          "base_uri": "https://localhost:8080/"
        },
        "id": "1TKK3GS6QsXx",
        "outputId": "c44f4178-f2d4-4bc6-d2b0-336ce99ac7b5"
      },
      "source": [
        "# \"num-of-doors\"\n",
        "d_f[\"num-of-doors\"].value_counts()"
      ],
      "execution_count": null,
      "outputs": [
        {
          "data": {
            "text/plain": [
              "four    113\n",
              "two      86\n",
              "Name: num-of-doors, dtype: int64"
            ]
          },
          "execution_count": 22,
          "metadata": {},
          "output_type": "execute_result"
        }
      ]
    },
    {
      "cell_type": "markdown",
      "metadata": {
        "id": "_opx68ZjRBKm"
      },
      "source": [
        "We can see that \"Four\" doors are the most common type"
      ]
    },
    {
      "cell_type": "code",
      "metadata": {
        "colab": {
          "base_uri": "https://localhost:8080/"
        },
        "id": "dFmfYN1BRI03",
        "outputId": "dfdf664c-ee13-47ea-f251-0081dbd2c5dd"
      },
      "source": [
        "type_door = d_f[\"num-of-doors\"].value_counts().idxmax()\n",
        "print(\"{} is the most common type\".format(type_door))\n",
        "\n",
        "d_f[\"num-of-doors\"].replace(np.nan, type_door, inplace = True)"
      ],
      "execution_count": null,
      "outputs": [
        {
          "name": "stdout",
          "output_type": "stream",
          "text": [
            "four is the most common type\n"
          ]
        }
      ]
    },
    {
      "cell_type": "markdown",
      "metadata": {
        "id": "JH8f0UT7Rt_D"
      },
      "source": [
        "finally, let's drop all rows that do not have price data\n",
        "\n",
        "* .dropna - Remove missing values\n",
        "* .reset_index - Reset the index, or a level of it"
      ]
    },
    {
      "cell_type": "code",
      "metadata": {
        "id": "Oea35TjWRztJ"
      },
      "source": [
        "d_f.dropna(subset = [\"price\"], axis = 0, inplace = True)\n",
        "\n",
        "d_f.reset_index(drop = True, inplace = True)"
      ],
      "execution_count": null,
      "outputs": []
    },
    {
      "cell_type": "code",
      "metadata": {
        "colab": {
          "base_uri": "https://localhost:8080/",
          "height": 309
        },
        "id": "Qy_iLdKrSTcG",
        "outputId": "c7599b31-463a-4a5e-b2d5-c122e9f26ae5"
      },
      "source": [
        "d_f.head()"
      ],
      "execution_count": null,
      "outputs": [
        {
          "data": {
            "text/html": [
              "<div>\n",
              "<style scoped>\n",
              "    .dataframe tbody tr th:only-of-type {\n",
              "        vertical-align: middle;\n",
              "    }\n",
              "\n",
              "    .dataframe tbody tr th {\n",
              "        vertical-align: top;\n",
              "    }\n",
              "\n",
              "    .dataframe thead th {\n",
              "        text-align: right;\n",
              "    }\n",
              "</style>\n",
              "<table border=\"1\" class=\"dataframe\">\n",
              "  <thead>\n",
              "    <tr style=\"text-align: right;\">\n",
              "      <th></th>\n",
              "      <th>symboling</th>\n",
              "      <th>normalized-losses</th>\n",
              "      <th>make</th>\n",
              "      <th>fuel-type</th>\n",
              "      <th>aspiration</th>\n",
              "      <th>num-of-doors</th>\n",
              "      <th>body-style</th>\n",
              "      <th>drive-wheels</th>\n",
              "      <th>engine-location</th>\n",
              "      <th>wheel-base</th>\n",
              "      <th>length</th>\n",
              "      <th>width</th>\n",
              "      <th>height</th>\n",
              "      <th>curb-weight</th>\n",
              "      <th>engine-type</th>\n",
              "      <th>num-of-cylinders</th>\n",
              "      <th>engine-size</th>\n",
              "      <th>fuel-system</th>\n",
              "      <th>bore</th>\n",
              "      <th>stroke</th>\n",
              "      <th>compression-ratio</th>\n",
              "      <th>horsepower</th>\n",
              "      <th>peak-rpm</th>\n",
              "      <th>city-mpg</th>\n",
              "      <th>highway-mpg</th>\n",
              "      <th>price</th>\n",
              "    </tr>\n",
              "  </thead>\n",
              "  <tbody>\n",
              "    <tr>\n",
              "      <th>0</th>\n",
              "      <td>3</td>\n",
              "      <td>122.0</td>\n",
              "      <td>alfa-romero</td>\n",
              "      <td>gas</td>\n",
              "      <td>std</td>\n",
              "      <td>two</td>\n",
              "      <td>convertible</td>\n",
              "      <td>rwd</td>\n",
              "      <td>front</td>\n",
              "      <td>88.6</td>\n",
              "      <td>168.8</td>\n",
              "      <td>64.1</td>\n",
              "      <td>48.8</td>\n",
              "      <td>2548</td>\n",
              "      <td>dohc</td>\n",
              "      <td>four</td>\n",
              "      <td>130</td>\n",
              "      <td>mpfi</td>\n",
              "      <td>3.47</td>\n",
              "      <td>2.68</td>\n",
              "      <td>9.0</td>\n",
              "      <td>111.0</td>\n",
              "      <td>5000.0</td>\n",
              "      <td>21</td>\n",
              "      <td>27</td>\n",
              "      <td>13495</td>\n",
              "    </tr>\n",
              "    <tr>\n",
              "      <th>1</th>\n",
              "      <td>3</td>\n",
              "      <td>122.0</td>\n",
              "      <td>alfa-romero</td>\n",
              "      <td>gas</td>\n",
              "      <td>std</td>\n",
              "      <td>two</td>\n",
              "      <td>convertible</td>\n",
              "      <td>rwd</td>\n",
              "      <td>front</td>\n",
              "      <td>88.6</td>\n",
              "      <td>168.8</td>\n",
              "      <td>64.1</td>\n",
              "      <td>48.8</td>\n",
              "      <td>2548</td>\n",
              "      <td>dohc</td>\n",
              "      <td>four</td>\n",
              "      <td>130</td>\n",
              "      <td>mpfi</td>\n",
              "      <td>3.47</td>\n",
              "      <td>2.68</td>\n",
              "      <td>9.0</td>\n",
              "      <td>111.0</td>\n",
              "      <td>5000.0</td>\n",
              "      <td>21</td>\n",
              "      <td>27</td>\n",
              "      <td>16500</td>\n",
              "    </tr>\n",
              "    <tr>\n",
              "      <th>2</th>\n",
              "      <td>1</td>\n",
              "      <td>122.0</td>\n",
              "      <td>alfa-romero</td>\n",
              "      <td>gas</td>\n",
              "      <td>std</td>\n",
              "      <td>two</td>\n",
              "      <td>hatchback</td>\n",
              "      <td>rwd</td>\n",
              "      <td>front</td>\n",
              "      <td>94.5</td>\n",
              "      <td>171.2</td>\n",
              "      <td>65.5</td>\n",
              "      <td>52.4</td>\n",
              "      <td>2823</td>\n",
              "      <td>ohcv</td>\n",
              "      <td>six</td>\n",
              "      <td>152</td>\n",
              "      <td>mpfi</td>\n",
              "      <td>2.68</td>\n",
              "      <td>3.47</td>\n",
              "      <td>9.0</td>\n",
              "      <td>154.0</td>\n",
              "      <td>5000.0</td>\n",
              "      <td>19</td>\n",
              "      <td>26</td>\n",
              "      <td>16500</td>\n",
              "    </tr>\n",
              "    <tr>\n",
              "      <th>3</th>\n",
              "      <td>2</td>\n",
              "      <td>164.0</td>\n",
              "      <td>audi</td>\n",
              "      <td>gas</td>\n",
              "      <td>std</td>\n",
              "      <td>four</td>\n",
              "      <td>sedan</td>\n",
              "      <td>fwd</td>\n",
              "      <td>front</td>\n",
              "      <td>99.8</td>\n",
              "      <td>176.6</td>\n",
              "      <td>66.2</td>\n",
              "      <td>54.3</td>\n",
              "      <td>2337</td>\n",
              "      <td>ohc</td>\n",
              "      <td>four</td>\n",
              "      <td>109</td>\n",
              "      <td>mpfi</td>\n",
              "      <td>3.19</td>\n",
              "      <td>3.40</td>\n",
              "      <td>10.0</td>\n",
              "      <td>102.0</td>\n",
              "      <td>5500.0</td>\n",
              "      <td>24</td>\n",
              "      <td>30</td>\n",
              "      <td>13950</td>\n",
              "    </tr>\n",
              "    <tr>\n",
              "      <th>4</th>\n",
              "      <td>2</td>\n",
              "      <td>164.0</td>\n",
              "      <td>audi</td>\n",
              "      <td>gas</td>\n",
              "      <td>std</td>\n",
              "      <td>four</td>\n",
              "      <td>sedan</td>\n",
              "      <td>4wd</td>\n",
              "      <td>front</td>\n",
              "      <td>99.4</td>\n",
              "      <td>176.6</td>\n",
              "      <td>66.4</td>\n",
              "      <td>54.3</td>\n",
              "      <td>2824</td>\n",
              "      <td>ohc</td>\n",
              "      <td>five</td>\n",
              "      <td>136</td>\n",
              "      <td>mpfi</td>\n",
              "      <td>3.19</td>\n",
              "      <td>3.40</td>\n",
              "      <td>8.0</td>\n",
              "      <td>115.0</td>\n",
              "      <td>5500.0</td>\n",
              "      <td>18</td>\n",
              "      <td>22</td>\n",
              "      <td>17450</td>\n",
              "    </tr>\n",
              "  </tbody>\n",
              "</table>\n",
              "</div>"
            ],
            "text/plain": [
              "   symboling  normalized-losses         make  ... city-mpg highway-mpg  price\n",
              "0          3              122.0  alfa-romero  ...       21          27  13495\n",
              "1          3              122.0  alfa-romero  ...       21          27  16500\n",
              "2          1              122.0  alfa-romero  ...       19          26  16500\n",
              "3          2              164.0         audi  ...       24          30  13950\n",
              "4          2              164.0         audi  ...       18          22  17450\n",
              "\n",
              "[5 rows x 26 columns]"
            ]
          },
          "execution_count": 25,
          "metadata": {},
          "output_type": "execute_result"
        }
      ]
    },
    {
      "cell_type": "markdown",
      "metadata": {
        "id": "pfbSG8xmScFA"
      },
      "source": [
        "Good! Now, we have a dataset with no missing values"
      ]
    },
    {
      "cell_type": "markdown",
      "metadata": {
        "id": "MLTJrJ17SgcH"
      },
      "source": [
        "**Correct data format**\n",
        "\n",
        "the last step in data cleaning is checking and making sure that all the data is in the correct format (int, float, string or other)\n",
        "\n",
        "* .dtype to check the data type\n",
        "* .astype to change the data type"
      ]
    },
    {
      "cell_type": "code",
      "metadata": {
        "colab": {
          "base_uri": "https://localhost:8080/"
        },
        "id": "HuF25yuPS3Bg",
        "outputId": "050e4b61-7c3b-4f03-b8b8-de31094d3cdd"
      },
      "source": [
        "d_f.dtypes"
      ],
      "execution_count": null,
      "outputs": [
        {
          "data": {
            "text/plain": [
              "symboling              int64\n",
              "normalized-losses    float64\n",
              "make                  object\n",
              "fuel-type             object\n",
              "aspiration            object\n",
              "num-of-doors          object\n",
              "body-style            object\n",
              "drive-wheels          object\n",
              "engine-location       object\n",
              "wheel-base           float64\n",
              "length               float64\n",
              "width                float64\n",
              "height               float64\n",
              "curb-weight            int64\n",
              "engine-type           object\n",
              "num-of-cylinders      object\n",
              "engine-size            int64\n",
              "fuel-system           object\n",
              "bore                 float64\n",
              "stroke               float64\n",
              "compression-ratio    float64\n",
              "horsepower           float64\n",
              "peak-rpm             float64\n",
              "city-mpg               int64\n",
              "highway-mpg            int64\n",
              "price                  int64\n",
              "dtype: object"
            ]
          },
          "execution_count": 26,
          "metadata": {},
          "output_type": "execute_result"
        }
      ]
    },
    {
      "cell_type": "code",
      "metadata": {
        "id": "F9fjwhxKTHbE"
      },
      "source": [
        "#convert data types to proper format\n",
        "\n",
        "d_f[[\"bore\", \"stroke\"]] = d_f[[\"bore\", \"stroke\"]].astype(\"float\")\n",
        "d_f[\"normalized-losses\"] = d_f[\"normalized-losses\"].astype(\"int\")\n",
        "d_f[\"price\"] = d_f[\"price\"].astype(\"float\")\n",
        "d_f[\"peak-rpm\"] = d_f[\"peak-rpm\"].astype(\"float\")"
      ],
      "execution_count": null,
      "outputs": []
    },
    {
      "cell_type": "code",
      "metadata": {
        "colab": {
          "base_uri": "https://localhost:8080/"
        },
        "id": "k0EJ9b6ATqqh",
        "outputId": "e727d360-cb24-44ab-cad1-8f0b441720a0"
      },
      "source": [
        "d_f.dtypes"
      ],
      "execution_count": null,
      "outputs": [
        {
          "data": {
            "text/plain": [
              "symboling              int64\n",
              "normalized-losses      int64\n",
              "make                  object\n",
              "fuel-type             object\n",
              "aspiration            object\n",
              "num-of-doors          object\n",
              "body-style            object\n",
              "drive-wheels          object\n",
              "engine-location       object\n",
              "wheel-base           float64\n",
              "length               float64\n",
              "width                float64\n",
              "height               float64\n",
              "curb-weight            int64\n",
              "engine-type           object\n",
              "num-of-cylinders      object\n",
              "engine-size            int64\n",
              "fuel-system           object\n",
              "bore                 float64\n",
              "stroke               float64\n",
              "compression-ratio    float64\n",
              "horsepower           float64\n",
              "peak-rpm             float64\n",
              "city-mpg               int64\n",
              "highway-mpg            int64\n",
              "price                float64\n",
              "dtype: object"
            ]
          },
          "execution_count": 28,
          "metadata": {},
          "output_type": "execute_result"
        }
      ]
    },
    {
      "cell_type": "markdown",
      "metadata": {
        "id": "lsVIV7CPTvY9"
      },
      "source": [
        "**Data Standarization**\n",
        "\n",
        "Standarization is the process of transforming data into a common format, allowing the researcher to make the meaningful comparison"
      ]
    },
    {
      "cell_type": "markdown",
      "metadata": {
        "id": "nxxqf-faUJMo"
      },
      "source": [
        "in this project:\n",
        "L/100km - 235 / mpg"
      ]
    },
    {
      "cell_type": "code",
      "metadata": {
        "colab": {
          "base_uri": "https://localhost:8080/",
          "height": 309
        },
        "id": "-p7mBKOiUP4I",
        "outputId": "af70b6a7-3c52-4f7f-db89-0e7360ac4b3b"
      },
      "source": [
        "d_f[\"city-L/100km\"] = 235 / d_f[\"city-mpg\"]\n",
        "d_f.head()"
      ],
      "execution_count": null,
      "outputs": [
        {
          "data": {
            "text/html": [
              "<div>\n",
              "<style scoped>\n",
              "    .dataframe tbody tr th:only-of-type {\n",
              "        vertical-align: middle;\n",
              "    }\n",
              "\n",
              "    .dataframe tbody tr th {\n",
              "        vertical-align: top;\n",
              "    }\n",
              "\n",
              "    .dataframe thead th {\n",
              "        text-align: right;\n",
              "    }\n",
              "</style>\n",
              "<table border=\"1\" class=\"dataframe\">\n",
              "  <thead>\n",
              "    <tr style=\"text-align: right;\">\n",
              "      <th></th>\n",
              "      <th>symboling</th>\n",
              "      <th>normalized-losses</th>\n",
              "      <th>make</th>\n",
              "      <th>fuel-type</th>\n",
              "      <th>aspiration</th>\n",
              "      <th>num-of-doors</th>\n",
              "      <th>body-style</th>\n",
              "      <th>drive-wheels</th>\n",
              "      <th>engine-location</th>\n",
              "      <th>wheel-base</th>\n",
              "      <th>length</th>\n",
              "      <th>width</th>\n",
              "      <th>height</th>\n",
              "      <th>curb-weight</th>\n",
              "      <th>engine-type</th>\n",
              "      <th>num-of-cylinders</th>\n",
              "      <th>engine-size</th>\n",
              "      <th>fuel-system</th>\n",
              "      <th>bore</th>\n",
              "      <th>stroke</th>\n",
              "      <th>compression-ratio</th>\n",
              "      <th>horsepower</th>\n",
              "      <th>peak-rpm</th>\n",
              "      <th>city-mpg</th>\n",
              "      <th>highway-mpg</th>\n",
              "      <th>price</th>\n",
              "      <th>city-L/100km</th>\n",
              "    </tr>\n",
              "  </thead>\n",
              "  <tbody>\n",
              "    <tr>\n",
              "      <th>0</th>\n",
              "      <td>3</td>\n",
              "      <td>122</td>\n",
              "      <td>alfa-romero</td>\n",
              "      <td>gas</td>\n",
              "      <td>std</td>\n",
              "      <td>two</td>\n",
              "      <td>convertible</td>\n",
              "      <td>rwd</td>\n",
              "      <td>front</td>\n",
              "      <td>88.6</td>\n",
              "      <td>168.8</td>\n",
              "      <td>64.1</td>\n",
              "      <td>48.8</td>\n",
              "      <td>2548</td>\n",
              "      <td>dohc</td>\n",
              "      <td>four</td>\n",
              "      <td>130</td>\n",
              "      <td>mpfi</td>\n",
              "      <td>3.47</td>\n",
              "      <td>2.68</td>\n",
              "      <td>9.0</td>\n",
              "      <td>111.0</td>\n",
              "      <td>5000.0</td>\n",
              "      <td>21</td>\n",
              "      <td>27</td>\n",
              "      <td>13495.0</td>\n",
              "      <td>11.190476</td>\n",
              "    </tr>\n",
              "    <tr>\n",
              "      <th>1</th>\n",
              "      <td>3</td>\n",
              "      <td>122</td>\n",
              "      <td>alfa-romero</td>\n",
              "      <td>gas</td>\n",
              "      <td>std</td>\n",
              "      <td>two</td>\n",
              "      <td>convertible</td>\n",
              "      <td>rwd</td>\n",
              "      <td>front</td>\n",
              "      <td>88.6</td>\n",
              "      <td>168.8</td>\n",
              "      <td>64.1</td>\n",
              "      <td>48.8</td>\n",
              "      <td>2548</td>\n",
              "      <td>dohc</td>\n",
              "      <td>four</td>\n",
              "      <td>130</td>\n",
              "      <td>mpfi</td>\n",
              "      <td>3.47</td>\n",
              "      <td>2.68</td>\n",
              "      <td>9.0</td>\n",
              "      <td>111.0</td>\n",
              "      <td>5000.0</td>\n",
              "      <td>21</td>\n",
              "      <td>27</td>\n",
              "      <td>16500.0</td>\n",
              "      <td>11.190476</td>\n",
              "    </tr>\n",
              "    <tr>\n",
              "      <th>2</th>\n",
              "      <td>1</td>\n",
              "      <td>122</td>\n",
              "      <td>alfa-romero</td>\n",
              "      <td>gas</td>\n",
              "      <td>std</td>\n",
              "      <td>two</td>\n",
              "      <td>hatchback</td>\n",
              "      <td>rwd</td>\n",
              "      <td>front</td>\n",
              "      <td>94.5</td>\n",
              "      <td>171.2</td>\n",
              "      <td>65.5</td>\n",
              "      <td>52.4</td>\n",
              "      <td>2823</td>\n",
              "      <td>ohcv</td>\n",
              "      <td>six</td>\n",
              "      <td>152</td>\n",
              "      <td>mpfi</td>\n",
              "      <td>2.68</td>\n",
              "      <td>3.47</td>\n",
              "      <td>9.0</td>\n",
              "      <td>154.0</td>\n",
              "      <td>5000.0</td>\n",
              "      <td>19</td>\n",
              "      <td>26</td>\n",
              "      <td>16500.0</td>\n",
              "      <td>12.368421</td>\n",
              "    </tr>\n",
              "    <tr>\n",
              "      <th>3</th>\n",
              "      <td>2</td>\n",
              "      <td>164</td>\n",
              "      <td>audi</td>\n",
              "      <td>gas</td>\n",
              "      <td>std</td>\n",
              "      <td>four</td>\n",
              "      <td>sedan</td>\n",
              "      <td>fwd</td>\n",
              "      <td>front</td>\n",
              "      <td>99.8</td>\n",
              "      <td>176.6</td>\n",
              "      <td>66.2</td>\n",
              "      <td>54.3</td>\n",
              "      <td>2337</td>\n",
              "      <td>ohc</td>\n",
              "      <td>four</td>\n",
              "      <td>109</td>\n",
              "      <td>mpfi</td>\n",
              "      <td>3.19</td>\n",
              "      <td>3.40</td>\n",
              "      <td>10.0</td>\n",
              "      <td>102.0</td>\n",
              "      <td>5500.0</td>\n",
              "      <td>24</td>\n",
              "      <td>30</td>\n",
              "      <td>13950.0</td>\n",
              "      <td>9.791667</td>\n",
              "    </tr>\n",
              "    <tr>\n",
              "      <th>4</th>\n",
              "      <td>2</td>\n",
              "      <td>164</td>\n",
              "      <td>audi</td>\n",
              "      <td>gas</td>\n",
              "      <td>std</td>\n",
              "      <td>four</td>\n",
              "      <td>sedan</td>\n",
              "      <td>4wd</td>\n",
              "      <td>front</td>\n",
              "      <td>99.4</td>\n",
              "      <td>176.6</td>\n",
              "      <td>66.4</td>\n",
              "      <td>54.3</td>\n",
              "      <td>2824</td>\n",
              "      <td>ohc</td>\n",
              "      <td>five</td>\n",
              "      <td>136</td>\n",
              "      <td>mpfi</td>\n",
              "      <td>3.19</td>\n",
              "      <td>3.40</td>\n",
              "      <td>8.0</td>\n",
              "      <td>115.0</td>\n",
              "      <td>5500.0</td>\n",
              "      <td>18</td>\n",
              "      <td>22</td>\n",
              "      <td>17450.0</td>\n",
              "      <td>13.055556</td>\n",
              "    </tr>\n",
              "  </tbody>\n",
              "</table>\n",
              "</div>"
            ],
            "text/plain": [
              "   symboling  normalized-losses  ...    price city-L/100km\n",
              "0          3                122  ...  13495.0    11.190476\n",
              "1          3                122  ...  16500.0    11.190476\n",
              "2          1                122  ...  16500.0    12.368421\n",
              "3          2                164  ...  13950.0     9.791667\n",
              "4          2                164  ...  17450.0    13.055556\n",
              "\n",
              "[5 rows x 27 columns]"
            ]
          },
          "execution_count": 29,
          "metadata": {},
          "output_type": "execute_result"
        }
      ]
    },
    {
      "cell_type": "code",
      "metadata": {
        "colab": {
          "base_uri": "https://localhost:8080/",
          "height": 309
        },
        "id": "6uB6zHPoUc-i",
        "outputId": "fb416a7a-35bf-41bf-8004-4134a01f7fe1"
      },
      "source": [
        "d_f[\"highway-mpg\"] = 235 / d_f[\"highway-mpg\"]\n",
        "\n",
        "d_f.rename(columns = {\"highway-mpg\":\"highway-L/100km\"}, inplace = True)\n",
        "d_f.head()"
      ],
      "execution_count": null,
      "outputs": [
        {
          "data": {
            "text/html": [
              "<div>\n",
              "<style scoped>\n",
              "    .dataframe tbody tr th:only-of-type {\n",
              "        vertical-align: middle;\n",
              "    }\n",
              "\n",
              "    .dataframe tbody tr th {\n",
              "        vertical-align: top;\n",
              "    }\n",
              "\n",
              "    .dataframe thead th {\n",
              "        text-align: right;\n",
              "    }\n",
              "</style>\n",
              "<table border=\"1\" class=\"dataframe\">\n",
              "  <thead>\n",
              "    <tr style=\"text-align: right;\">\n",
              "      <th></th>\n",
              "      <th>symboling</th>\n",
              "      <th>normalized-losses</th>\n",
              "      <th>make</th>\n",
              "      <th>fuel-type</th>\n",
              "      <th>aspiration</th>\n",
              "      <th>num-of-doors</th>\n",
              "      <th>body-style</th>\n",
              "      <th>drive-wheels</th>\n",
              "      <th>engine-location</th>\n",
              "      <th>wheel-base</th>\n",
              "      <th>length</th>\n",
              "      <th>width</th>\n",
              "      <th>height</th>\n",
              "      <th>curb-weight</th>\n",
              "      <th>engine-type</th>\n",
              "      <th>num-of-cylinders</th>\n",
              "      <th>engine-size</th>\n",
              "      <th>fuel-system</th>\n",
              "      <th>bore</th>\n",
              "      <th>stroke</th>\n",
              "      <th>compression-ratio</th>\n",
              "      <th>horsepower</th>\n",
              "      <th>peak-rpm</th>\n",
              "      <th>city-mpg</th>\n",
              "      <th>highway-L/100km</th>\n",
              "      <th>price</th>\n",
              "      <th>city-L/100km</th>\n",
              "    </tr>\n",
              "  </thead>\n",
              "  <tbody>\n",
              "    <tr>\n",
              "      <th>0</th>\n",
              "      <td>3</td>\n",
              "      <td>122</td>\n",
              "      <td>alfa-romero</td>\n",
              "      <td>gas</td>\n",
              "      <td>std</td>\n",
              "      <td>two</td>\n",
              "      <td>convertible</td>\n",
              "      <td>rwd</td>\n",
              "      <td>front</td>\n",
              "      <td>88.6</td>\n",
              "      <td>168.8</td>\n",
              "      <td>64.1</td>\n",
              "      <td>48.8</td>\n",
              "      <td>2548</td>\n",
              "      <td>dohc</td>\n",
              "      <td>four</td>\n",
              "      <td>130</td>\n",
              "      <td>mpfi</td>\n",
              "      <td>3.47</td>\n",
              "      <td>2.68</td>\n",
              "      <td>9.0</td>\n",
              "      <td>111.0</td>\n",
              "      <td>5000.0</td>\n",
              "      <td>21</td>\n",
              "      <td>8.703704</td>\n",
              "      <td>13495.0</td>\n",
              "      <td>11.190476</td>\n",
              "    </tr>\n",
              "    <tr>\n",
              "      <th>1</th>\n",
              "      <td>3</td>\n",
              "      <td>122</td>\n",
              "      <td>alfa-romero</td>\n",
              "      <td>gas</td>\n",
              "      <td>std</td>\n",
              "      <td>two</td>\n",
              "      <td>convertible</td>\n",
              "      <td>rwd</td>\n",
              "      <td>front</td>\n",
              "      <td>88.6</td>\n",
              "      <td>168.8</td>\n",
              "      <td>64.1</td>\n",
              "      <td>48.8</td>\n",
              "      <td>2548</td>\n",
              "      <td>dohc</td>\n",
              "      <td>four</td>\n",
              "      <td>130</td>\n",
              "      <td>mpfi</td>\n",
              "      <td>3.47</td>\n",
              "      <td>2.68</td>\n",
              "      <td>9.0</td>\n",
              "      <td>111.0</td>\n",
              "      <td>5000.0</td>\n",
              "      <td>21</td>\n",
              "      <td>8.703704</td>\n",
              "      <td>16500.0</td>\n",
              "      <td>11.190476</td>\n",
              "    </tr>\n",
              "    <tr>\n",
              "      <th>2</th>\n",
              "      <td>1</td>\n",
              "      <td>122</td>\n",
              "      <td>alfa-romero</td>\n",
              "      <td>gas</td>\n",
              "      <td>std</td>\n",
              "      <td>two</td>\n",
              "      <td>hatchback</td>\n",
              "      <td>rwd</td>\n",
              "      <td>front</td>\n",
              "      <td>94.5</td>\n",
              "      <td>171.2</td>\n",
              "      <td>65.5</td>\n",
              "      <td>52.4</td>\n",
              "      <td>2823</td>\n",
              "      <td>ohcv</td>\n",
              "      <td>six</td>\n",
              "      <td>152</td>\n",
              "      <td>mpfi</td>\n",
              "      <td>2.68</td>\n",
              "      <td>3.47</td>\n",
              "      <td>9.0</td>\n",
              "      <td>154.0</td>\n",
              "      <td>5000.0</td>\n",
              "      <td>19</td>\n",
              "      <td>9.038462</td>\n",
              "      <td>16500.0</td>\n",
              "      <td>12.368421</td>\n",
              "    </tr>\n",
              "    <tr>\n",
              "      <th>3</th>\n",
              "      <td>2</td>\n",
              "      <td>164</td>\n",
              "      <td>audi</td>\n",
              "      <td>gas</td>\n",
              "      <td>std</td>\n",
              "      <td>four</td>\n",
              "      <td>sedan</td>\n",
              "      <td>fwd</td>\n",
              "      <td>front</td>\n",
              "      <td>99.8</td>\n",
              "      <td>176.6</td>\n",
              "      <td>66.2</td>\n",
              "      <td>54.3</td>\n",
              "      <td>2337</td>\n",
              "      <td>ohc</td>\n",
              "      <td>four</td>\n",
              "      <td>109</td>\n",
              "      <td>mpfi</td>\n",
              "      <td>3.19</td>\n",
              "      <td>3.40</td>\n",
              "      <td>10.0</td>\n",
              "      <td>102.0</td>\n",
              "      <td>5500.0</td>\n",
              "      <td>24</td>\n",
              "      <td>7.833333</td>\n",
              "      <td>13950.0</td>\n",
              "      <td>9.791667</td>\n",
              "    </tr>\n",
              "    <tr>\n",
              "      <th>4</th>\n",
              "      <td>2</td>\n",
              "      <td>164</td>\n",
              "      <td>audi</td>\n",
              "      <td>gas</td>\n",
              "      <td>std</td>\n",
              "      <td>four</td>\n",
              "      <td>sedan</td>\n",
              "      <td>4wd</td>\n",
              "      <td>front</td>\n",
              "      <td>99.4</td>\n",
              "      <td>176.6</td>\n",
              "      <td>66.4</td>\n",
              "      <td>54.3</td>\n",
              "      <td>2824</td>\n",
              "      <td>ohc</td>\n",
              "      <td>five</td>\n",
              "      <td>136</td>\n",
              "      <td>mpfi</td>\n",
              "      <td>3.19</td>\n",
              "      <td>3.40</td>\n",
              "      <td>8.0</td>\n",
              "      <td>115.0</td>\n",
              "      <td>5500.0</td>\n",
              "      <td>18</td>\n",
              "      <td>10.681818</td>\n",
              "      <td>17450.0</td>\n",
              "      <td>13.055556</td>\n",
              "    </tr>\n",
              "  </tbody>\n",
              "</table>\n",
              "</div>"
            ],
            "text/plain": [
              "   symboling  normalized-losses  ...    price city-L/100km\n",
              "0          3                122  ...  13495.0    11.190476\n",
              "1          3                122  ...  16500.0    11.190476\n",
              "2          1                122  ...  16500.0    12.368421\n",
              "3          2                164  ...  13950.0     9.791667\n",
              "4          2                164  ...  17450.0    13.055556\n",
              "\n",
              "[5 rows x 27 columns]"
            ]
          },
          "execution_count": 30,
          "metadata": {},
          "output_type": "execute_result"
        }
      ]
    },
    {
      "cell_type": "markdown",
      "metadata": {
        "id": "GRJdUAs2VFH5"
      },
      "source": [
        "**Data Normalization**\n",
        "\n",
        "Normalization is the process of transforming values of several into a similar range\n",
        "\n",
        "Typicals normalizations are:\n",
        "* Simple feature scaling:   $x_{new} = \\frac{x_{old}}{x_{max}}$\n",
        "* Min - Max:   $x_{new} = \\frac{x_{old} - x_{min}}{x_{max} - x_{min}}$\n",
        "* Z - score:  $x_{new} = \\frac{x_{old} - \\mu}{\\sigma}$\n",
        "\n"
      ]
    },
    {
      "cell_type": "markdown",
      "metadata": {
        "id": "RwjoY957VbdL"
      },
      "source": [
        "In this project, let's say we want to scale the columns \"length\", \"Width\", \"height\""
      ]
    },
    {
      "cell_type": "code",
      "metadata": {
        "colab": {
          "base_uri": "https://localhost:8080/",
          "height": 204
        },
        "id": "tqjOgUz2VmE-",
        "outputId": "b0a337cb-2d54-48c3-dbb0-bc15827d4b9e"
      },
      "source": [
        "d_f[\"length\"] = d_f[\"length\"] / d_f[\"length\"].max()\n",
        "d_f[\"width\"] = d_f[\"width\"] / d_f[\"width\"].max()\n",
        "d_f[\"height\"] = d_f[\"height\"] / d_f[\"height\"].max()\n",
        "\n",
        "d_f[[\"length\", \"width\", \"height\"]].head()"
      ],
      "execution_count": null,
      "outputs": [
        {
          "data": {
            "text/html": [
              "<div>\n",
              "<style scoped>\n",
              "    .dataframe tbody tr th:only-of-type {\n",
              "        vertical-align: middle;\n",
              "    }\n",
              "\n",
              "    .dataframe tbody tr th {\n",
              "        vertical-align: top;\n",
              "    }\n",
              "\n",
              "    .dataframe thead th {\n",
              "        text-align: right;\n",
              "    }\n",
              "</style>\n",
              "<table border=\"1\" class=\"dataframe\">\n",
              "  <thead>\n",
              "    <tr style=\"text-align: right;\">\n",
              "      <th></th>\n",
              "      <th>length</th>\n",
              "      <th>width</th>\n",
              "      <th>height</th>\n",
              "    </tr>\n",
              "  </thead>\n",
              "  <tbody>\n",
              "    <tr>\n",
              "      <th>0</th>\n",
              "      <td>0.811148</td>\n",
              "      <td>0.890278</td>\n",
              "      <td>0.816054</td>\n",
              "    </tr>\n",
              "    <tr>\n",
              "      <th>1</th>\n",
              "      <td>0.811148</td>\n",
              "      <td>0.890278</td>\n",
              "      <td>0.816054</td>\n",
              "    </tr>\n",
              "    <tr>\n",
              "      <th>2</th>\n",
              "      <td>0.822681</td>\n",
              "      <td>0.909722</td>\n",
              "      <td>0.876254</td>\n",
              "    </tr>\n",
              "    <tr>\n",
              "      <th>3</th>\n",
              "      <td>0.848630</td>\n",
              "      <td>0.919444</td>\n",
              "      <td>0.908027</td>\n",
              "    </tr>\n",
              "    <tr>\n",
              "      <th>4</th>\n",
              "      <td>0.848630</td>\n",
              "      <td>0.922222</td>\n",
              "      <td>0.908027</td>\n",
              "    </tr>\n",
              "  </tbody>\n",
              "</table>\n",
              "</div>"
            ],
            "text/plain": [
              "     length     width    height\n",
              "0  0.811148  0.890278  0.816054\n",
              "1  0.811148  0.890278  0.816054\n",
              "2  0.822681  0.909722  0.876254\n",
              "3  0.848630  0.919444  0.908027\n",
              "4  0.848630  0.922222  0.908027"
            ]
          },
          "execution_count": 31,
          "metadata": {},
          "output_type": "execute_result"
        }
      ]
    },
    {
      "cell_type": "markdown",
      "metadata": {
        "id": "cHZuhWoYXUxk"
      },
      "source": [
        "**Binning**\n",
        "\n",
        "is the process of transforming continuous numerical variable into discrete categorical \"bins\" for grouped analysis\n",
        "\n"
      ]
    },
    {
      "cell_type": "markdown",
      "metadata": {
        "id": "qpfBWQI2XjAR"
      },
      "source": [
        "\"horsepower\" is a real valued variable ranging from 48 to 288 and it has 59 unique values  "
      ]
    },
    {
      "cell_type": "code",
      "metadata": {
        "id": "cMeMnrtNXpKG"
      },
      "source": [
        "d_f[\"horsepower\"] = d_f[\"horsepower\"].astype(int, copy = True)"
      ],
      "execution_count": null,
      "outputs": []
    },
    {
      "cell_type": "code",
      "metadata": {
        "colab": {
          "base_uri": "https://localhost:8080/",
          "height": 312
        },
        "id": "FQPaAYaVYHxr",
        "outputId": "1cef25b1-15ab-455f-b31e-d11142120380"
      },
      "source": [
        "%matplotlib inline\n",
        "import matplotlib.pyplot as plt\n",
        "\n",
        "plt.hist(d_f[\"horsepower\"])\n",
        "plt.ylabel(\"count\")\n",
        "plt.xlabel(\"horsepower\")\n",
        "plt.title(\"horsepower bins\")\n",
        "plt.show()\n",
        "\n",
        "print(\"This is the distribution of the data column horsepower\")"
      ],
      "execution_count": null,
      "outputs": [
        {
          "data": {
            "image/png": "[encoded data removed]",
            "text/plain": [
              "<Figure size 432x288 with 1 Axes>"
            ]
          },
          "metadata": {},
          "output_type": "display_data"
        },
        {
          "name": "stdout",
          "output_type": "stream",
          "text": [
            "This is the distribution of the data column horsepower\n"
          ]
        }
      ]
    },
    {
      "cell_type": "markdown",
      "metadata": {
        "id": "xiDs6-9KYpQh"
      },
      "source": [
        "we would like 3 bins of equal size bandwidth \n",
        "\n",
        "**linspace(start_value, end_value, number_generated)** \n",
        "\n",
        "start_value = min(df[])\n",
        "\n",
        "end_value = max(df[])\n",
        "\n",
        "number_generated = in this case we are building 3 bins of equal length, there should be 4 dividers"
      ]
    },
    {
      "cell_type": "code",
      "metadata": {
        "colab": {
          "base_uri": "https://localhost:8080/"
        },
        "id": "_3KVnA3fZMDk",
        "outputId": "92b6f1a4-0e5d-4d6e-adf6-d1e37ad4598e"
      },
      "source": [
        "bins = np.linspace(min(d_f[\"horsepower\"]), max(d_f[\"horsepower\"]), 4)\n",
        "bins"
      ],
      "execution_count": null,
      "outputs": [
        {
          "data": {
            "text/plain": [
              "array([ 48.        , 119.33333333, 190.66666667, 262.        ])"
            ]
          },
          "execution_count": 34,
          "metadata": {},
          "output_type": "execute_result"
        }
      ]
    },
    {
      "cell_type": "code",
      "metadata": {
        "id": "MFaJQYigZYAS"
      },
      "source": [
        "group_names = [\"Low\", \"Medium\", \"High\"]"
      ],
      "execution_count": null,
      "outputs": []
    },
    {
      "cell_type": "markdown",
      "metadata": {
        "id": "_6IZW_leaEDR"
      },
      "source": [
        "**pd.cut:**\n",
        "\n",
        "Bin values into discrete intervals.\n",
        "\n",
        "Use cut when you need to segment and sort data values into bins. This function is also useful for going from a continuous variable to a categorical variable. For example, cut could convert ages to groups of age ranges. Supports binning into an equal number of bins, or a pre-specified array of bins"
      ]
    },
    {
      "cell_type": "code",
      "metadata": {
        "colab": {
          "base_uri": "https://localhost:8080/",
          "height": 204
        },
        "id": "9CNeW572ZeF2",
        "outputId": "718b976c-5f8a-40d7-dc8f-434dac93f2e6"
      },
      "source": [
        "d_f[\"horsepower-binned\"] = pd.cut(d_f[\"horsepower\"], bins, labels = group_names, include_lowest = True)\n",
        "d_f[[\"horsepower\", \"horsepower-binned\"]].head()"
      ],
      "execution_count": null,
      "outputs": [
        {
          "data": {
            "text/html": [
              "<div>\n",
              "<style scoped>\n",
              "    .dataframe tbody tr th:only-of-type {\n",
              "        vertical-align: middle;\n",
              "    }\n",
              "\n",
              "    .dataframe tbody tr th {\n",
              "        vertical-align: top;\n",
              "    }\n",
              "\n",
              "    .dataframe thead th {\n",
              "        text-align: right;\n",
              "    }\n",
              "</style>\n",
              "<table border=\"1\" class=\"dataframe\">\n",
              "  <thead>\n",
              "    <tr style=\"text-align: right;\">\n",
              "      <th></th>\n",
              "      <th>horsepower</th>\n",
              "      <th>horsepower-binned</th>\n",
              "    </tr>\n",
              "  </thead>\n",
              "  <tbody>\n",
              "    <tr>\n",
              "      <th>0</th>\n",
              "      <td>111</td>\n",
              "      <td>Low</td>\n",
              "    </tr>\n",
              "    <tr>\n",
              "      <th>1</th>\n",
              "      <td>111</td>\n",
              "      <td>Low</td>\n",
              "    </tr>\n",
              "    <tr>\n",
              "      <th>2</th>\n",
              "      <td>154</td>\n",
              "      <td>Medium</td>\n",
              "    </tr>\n",
              "    <tr>\n",
              "      <th>3</th>\n",
              "      <td>102</td>\n",
              "      <td>Low</td>\n",
              "    </tr>\n",
              "    <tr>\n",
              "      <th>4</th>\n",
              "      <td>115</td>\n",
              "      <td>Low</td>\n",
              "    </tr>\n",
              "  </tbody>\n",
              "</table>\n",
              "</div>"
            ],
            "text/plain": [
              "   horsepower horsepower-binned\n",
              "0         111               Low\n",
              "1         111               Low\n",
              "2         154            Medium\n",
              "3         102               Low\n",
              "4         115               Low"
            ]
          },
          "execution_count": 36,
          "metadata": {},
          "output_type": "execute_result"
        }
      ]
    },
    {
      "cell_type": "code",
      "metadata": {
        "colab": {
          "base_uri": "https://localhost:8080/"
        },
        "id": "BximcksqaUb3",
        "outputId": "e0a6cb92-9f5e-453d-dbff-65f51569ef33"
      },
      "source": [
        "d_f[\"horsepower-binned\"].value_counts()"
      ],
      "execution_count": null,
      "outputs": [
        {
          "data": {
            "text/plain": [
              "Low       153\n",
              "Medium     43\n",
              "High        5\n",
              "Name: horsepower-binned, dtype: int64"
            ]
          },
          "execution_count": 37,
          "metadata": {},
          "output_type": "execute_result"
        }
      ]
    },
    {
      "cell_type": "code",
      "metadata": {
        "colab": {
          "base_uri": "https://localhost:8080/",
          "height": 312
        },
        "id": "2o6YnOC5aeE8",
        "outputId": "4f742e90-b131-434d-df75-58293c741bc6"
      },
      "source": [
        "plt.bar(group_names, d_f[\"horsepower-binned\"].value_counts())\n",
        "plt.ylabel(\"count\")\n",
        "plt.xlabel(\"horsepower\")\n",
        "plt.title(\"horsepower bins\")\n",
        "plt.show()\n",
        "\n",
        "print(\"This is the distribution of the new data column horsepower-binned\")"
      ],
      "execution_count": null,
      "outputs": [
        {
          "data": {
            "image/png": "[encoded data removed]",
            "text/plain": [
              "<Figure size 432x288 with 1 Axes>"
            ]
          },
          "metadata": {},
          "output_type": "display_data"
        },
        {
          "name": "stdout",
          "output_type": "stream",
          "text": [
            "This is the distribution of the new data column horsepower-binned\n"
          ]
        }
      ]
    },
    {
      "cell_type": "markdown",
      "metadata": {
        "id": "Is7kgfk-azT2"
      },
      "source": [
        "**Bind Visualization**\n",
        "\n",
        "Normally, a histogram is used to visualize the distribution of bins we created above"
      ]
    },
    {
      "cell_type": "code",
      "metadata": {
        "colab": {
          "base_uri": "https://localhost:8080/",
          "height": 295
        },
        "id": "2dawfQYpa_xk",
        "outputId": "2046b4f2-014f-4bed-bdea-d29aa77d03c1"
      },
      "source": [
        "plt.hist(d_f[\"horsepower\"], bins = 3)\n",
        "plt.ylabel(\"count\")\n",
        "plt.xlabel(\"horsepower\")\n",
        "plt.title(\"horsepower bins\")\n",
        "plt.show()\n"
      ],
      "execution_count": null,
      "outputs": [
        {
          "data": {
            "image/png": "[encoded data removed]",
            "text/plain": [
              "<Figure size 432x288 with 1 Axes>"
            ]
          },
          "metadata": {},
          "output_type": "display_data"
        }
      ]
    },
    {
      "cell_type": "markdown",
      "metadata": {
        "id": "2raubDKhbLPE"
      },
      "source": [
        "**Indicator Variable (or Dummy Variable)**\n",
        "\n",
        "An indicator variable is a numerical variable ised to label categories. They are called \"dummies\" because the numbers themselves don´t have inherent meaning\n",
        "\n",
        "We use indicator variables so we can use categorical variables for regression analysis n the later modules\n",
        "\n",
        "**pd.get_dummies**\n",
        "\n",
        "Convert categorical variable into dummy/indicator variables."
      ]
    },
    {
      "cell_type": "code",
      "metadata": {
        "colab": {
          "base_uri": "https://localhost:8080/"
        },
        "id": "l5uBx4KSbm-9",
        "outputId": "dde4019c-82a5-4c4d-c591-0ccc544ddafe"
      },
      "source": [
        "d_f.columns"
      ],
      "execution_count": null,
      "outputs": [
        {
          "data": {
            "text/plain": [
              "Index(['symboling', 'normalized-losses', 'make', 'fuel-type', 'aspiration',\n",
              "       'num-of-doors', 'body-style', 'drive-wheels', 'engine-location',\n",
              "       'wheel-base', 'length', 'width', 'height', 'curb-weight', 'engine-type',\n",
              "       'num-of-cylinders', 'engine-size', 'fuel-system', 'bore', 'stroke',\n",
              "       'compression-ratio', 'horsepower', 'peak-rpm', 'city-mpg',\n",
              "       'highway-L/100km', 'price', 'city-L/100km', 'horsepower-binned'],\n",
              "      dtype='object')"
            ]
          },
          "execution_count": 40,
          "metadata": {},
          "output_type": "execute_result"
        }
      ]
    },
    {
      "cell_type": "code",
      "metadata": {
        "colab": {
          "base_uri": "https://localhost:8080/",
          "height": 204
        },
        "id": "92ekHOFxb1wK",
        "outputId": "a561079f-9b63-488d-c9c0-dc45614822f5"
      },
      "source": [
        "dummy_variable_1 = pd.get_dummies(d_f[\"fuel-type\"])\n",
        "dummy_variable_1.head()"
      ],
      "execution_count": null,
      "outputs": [
        {
          "data": {
            "text/html": [
              "<div>\n",
              "<style scoped>\n",
              "    .dataframe tbody tr th:only-of-type {\n",
              "        vertical-align: middle;\n",
              "    }\n",
              "\n",
              "    .dataframe tbody tr th {\n",
              "        vertical-align: top;\n",
              "    }\n",
              "\n",
              "    .dataframe thead th {\n",
              "        text-align: right;\n",
              "    }\n",
              "</style>\n",
              "<table border=\"1\" class=\"dataframe\">\n",
              "  <thead>\n",
              "    <tr style=\"text-align: right;\">\n",
              "      <th></th>\n",
              "      <th>diesel</th>\n",
              "      <th>gas</th>\n",
              "    </tr>\n",
              "  </thead>\n",
              "  <tbody>\n",
              "    <tr>\n",
              "      <th>0</th>\n",
              "      <td>0</td>\n",
              "      <td>1</td>\n",
              "    </tr>\n",
              "    <tr>\n",
              "      <th>1</th>\n",
              "      <td>0</td>\n",
              "      <td>1</td>\n",
              "    </tr>\n",
              "    <tr>\n",
              "      <th>2</th>\n",
              "      <td>0</td>\n",
              "      <td>1</td>\n",
              "    </tr>\n",
              "    <tr>\n",
              "      <th>3</th>\n",
              "      <td>0</td>\n",
              "      <td>1</td>\n",
              "    </tr>\n",
              "    <tr>\n",
              "      <th>4</th>\n",
              "      <td>0</td>\n",
              "      <td>1</td>\n",
              "    </tr>\n",
              "  </tbody>\n",
              "</table>\n",
              "</div>"
            ],
            "text/plain": [
              "   diesel  gas\n",
              "0       0    1\n",
              "1       0    1\n",
              "2       0    1\n",
              "3       0    1\n",
              "4       0    1"
            ]
          },
          "execution_count": 41,
          "metadata": {},
          "output_type": "execute_result"
        }
      ]
    },
    {
      "cell_type": "markdown",
      "metadata": {
        "id": "FKSuAnie7a8L"
      },
      "source": [
        "Chane the column names for clarity"
      ]
    },
    {
      "cell_type": "code",
      "metadata": {
        "colab": {
          "base_uri": "https://localhost:8080/",
          "height": 204
        },
        "id": "rs4Y9Ynj7fQ8",
        "outputId": "f6fda774-c59c-4357-c216-a00786af7487"
      },
      "source": [
        "dummy_variable_1.rename(columns = {\"gas\":\"fuel-type-gas\", \"diesel\":\"fuel-type-diesel\"}, inplace = True)\n",
        "dummy_variable_1.head()"
      ],
      "execution_count": null,
      "outputs": [
        {
          "data": {
            "text/html": [
              "<div>\n",
              "<style scoped>\n",
              "    .dataframe tbody tr th:only-of-type {\n",
              "        vertical-align: middle;\n",
              "    }\n",
              "\n",
              "    .dataframe tbody tr th {\n",
              "        vertical-align: top;\n",
              "    }\n",
              "\n",
              "    .dataframe thead th {\n",
              "        text-align: right;\n",
              "    }\n",
              "</style>\n",
              "<table border=\"1\" class=\"dataframe\">\n",
              "  <thead>\n",
              "    <tr style=\"text-align: right;\">\n",
              "      <th></th>\n",
              "      <th>fuel-type-diesel</th>\n",
              "      <th>fuel-type-gas</th>\n",
              "    </tr>\n",
              "  </thead>\n",
              "  <tbody>\n",
              "    <tr>\n",
              "      <th>0</th>\n",
              "      <td>0</td>\n",
              "      <td>1</td>\n",
              "    </tr>\n",
              "    <tr>\n",
              "      <th>1</th>\n",
              "      <td>0</td>\n",
              "      <td>1</td>\n",
              "    </tr>\n",
              "    <tr>\n",
              "      <th>2</th>\n",
              "      <td>0</td>\n",
              "      <td>1</td>\n",
              "    </tr>\n",
              "    <tr>\n",
              "      <th>3</th>\n",
              "      <td>0</td>\n",
              "      <td>1</td>\n",
              "    </tr>\n",
              "    <tr>\n",
              "      <th>4</th>\n",
              "      <td>0</td>\n",
              "      <td>1</td>\n",
              "    </tr>\n",
              "  </tbody>\n",
              "</table>\n",
              "</div>"
            ],
            "text/plain": [
              "   fuel-type-diesel  fuel-type-gas\n",
              "0                 0              1\n",
              "1                 0              1\n",
              "2                 0              1\n",
              "3                 0              1\n",
              "4                 0              1"
            ]
          },
          "execution_count": 42,
          "metadata": {},
          "output_type": "execute_result"
        }
      ]
    },
    {
      "cell_type": "code",
      "metadata": {
        "id": "N1HrrEqr7yAF"
      },
      "source": [
        "#Merge data frame \"df\" and \"dummy_variable\"\n",
        "d_f = pd.concat([d_f, dummy_variable_1], axis = 1)\n",
        "\n",
        "#Drop original column \"fuel-type\" from \"df\"\n",
        "d_f.drop(\"fuel-type\", axis = 1, inplace = True)"
      ],
      "execution_count": null,
      "outputs": []
    },
    {
      "cell_type": "code",
      "metadata": {
        "colab": {
          "base_uri": "https://localhost:8080/",
          "height": 309
        },
        "id": "FnP65SIS8P_3",
        "outputId": "7c4e3ad6-1af3-4f69-c108-2f5d54c2623a"
      },
      "source": [
        "d_f.head()"
      ],
      "execution_count": null,
      "outputs": [
        {
          "data": {
            "text/html": [
              "<div>\n",
              "<style scoped>\n",
              "    .dataframe tbody tr th:only-of-type {\n",
              "        vertical-align: middle;\n",
              "    }\n",
              "\n",
              "    .dataframe tbody tr th {\n",
              "        vertical-align: top;\n",
              "    }\n",
              "\n",
              "    .dataframe thead th {\n",
              "        text-align: right;\n",
              "    }\n",
              "</style>\n",
              "<table border=\"1\" class=\"dataframe\">\n",
              "  <thead>\n",
              "    <tr style=\"text-align: right;\">\n",
              "      <th></th>\n",
              "      <th>symboling</th>\n",
              "      <th>normalized-losses</th>\n",
              "      <th>make</th>\n",
              "      <th>aspiration</th>\n",
              "      <th>num-of-doors</th>\n",
              "      <th>body-style</th>\n",
              "      <th>drive-wheels</th>\n",
              "      <th>engine-location</th>\n",
              "      <th>wheel-base</th>\n",
              "      <th>length</th>\n",
              "      <th>width</th>\n",
              "      <th>height</th>\n",
              "      <th>curb-weight</th>\n",
              "      <th>engine-type</th>\n",
              "      <th>num-of-cylinders</th>\n",
              "      <th>engine-size</th>\n",
              "      <th>fuel-system</th>\n",
              "      <th>bore</th>\n",
              "      <th>stroke</th>\n",
              "      <th>compression-ratio</th>\n",
              "      <th>horsepower</th>\n",
              "      <th>peak-rpm</th>\n",
              "      <th>city-mpg</th>\n",
              "      <th>highway-L/100km</th>\n",
              "      <th>price</th>\n",
              "      <th>city-L/100km</th>\n",
              "      <th>horsepower-binned</th>\n",
              "      <th>fuel-type-diesel</th>\n",
              "      <th>fuel-type-gas</th>\n",
              "    </tr>\n",
              "  </thead>\n",
              "  <tbody>\n",
              "    <tr>\n",
              "      <th>0</th>\n",
              "      <td>3</td>\n",
              "      <td>122</td>\n",
              "      <td>alfa-romero</td>\n",
              "      <td>std</td>\n",
              "      <td>two</td>\n",
              "      <td>convertible</td>\n",
              "      <td>rwd</td>\n",
              "      <td>front</td>\n",
              "      <td>88.6</td>\n",
              "      <td>0.811148</td>\n",
              "      <td>0.890278</td>\n",
              "      <td>0.816054</td>\n",
              "      <td>2548</td>\n",
              "      <td>dohc</td>\n",
              "      <td>four</td>\n",
              "      <td>130</td>\n",
              "      <td>mpfi</td>\n",
              "      <td>3.47</td>\n",
              "      <td>2.68</td>\n",
              "      <td>9.0</td>\n",
              "      <td>111</td>\n",
              "      <td>5000.0</td>\n",
              "      <td>21</td>\n",
              "      <td>8.703704</td>\n",
              "      <td>13495.0</td>\n",
              "      <td>11.190476</td>\n",
              "      <td>Low</td>\n",
              "      <td>0</td>\n",
              "      <td>1</td>\n",
              "    </tr>\n",
              "    <tr>\n",
              "      <th>1</th>\n",
              "      <td>3</td>\n",
              "      <td>122</td>\n",
              "      <td>alfa-romero</td>\n",
              "      <td>std</td>\n",
              "      <td>two</td>\n",
              "      <td>convertible</td>\n",
              "      <td>rwd</td>\n",
              "      <td>front</td>\n",
              "      <td>88.6</td>\n",
              "      <td>0.811148</td>\n",
              "      <td>0.890278</td>\n",
              "      <td>0.816054</td>\n",
              "      <td>2548</td>\n",
              "      <td>dohc</td>\n",
              "      <td>four</td>\n",
              "      <td>130</td>\n",
              "      <td>mpfi</td>\n",
              "      <td>3.47</td>\n",
              "      <td>2.68</td>\n",
              "      <td>9.0</td>\n",
              "      <td>111</td>\n",
              "      <td>5000.0</td>\n",
              "      <td>21</td>\n",
              "      <td>8.703704</td>\n",
              "      <td>16500.0</td>\n",
              "      <td>11.190476</td>\n",
              "      <td>Low</td>\n",
              "      <td>0</td>\n",
              "      <td>1</td>\n",
              "    </tr>\n",
              "    <tr>\n",
              "      <th>2</th>\n",
              "      <td>1</td>\n",
              "      <td>122</td>\n",
              "      <td>alfa-romero</td>\n",
              "      <td>std</td>\n",
              "      <td>two</td>\n",
              "      <td>hatchback</td>\n",
              "      <td>rwd</td>\n",
              "      <td>front</td>\n",
              "      <td>94.5</td>\n",
              "      <td>0.822681</td>\n",
              "      <td>0.909722</td>\n",
              "      <td>0.876254</td>\n",
              "      <td>2823</td>\n",
              "      <td>ohcv</td>\n",
              "      <td>six</td>\n",
              "      <td>152</td>\n",
              "      <td>mpfi</td>\n",
              "      <td>2.68</td>\n",
              "      <td>3.47</td>\n",
              "      <td>9.0</td>\n",
              "      <td>154</td>\n",
              "      <td>5000.0</td>\n",
              "      <td>19</td>\n",
              "      <td>9.038462</td>\n",
              "      <td>16500.0</td>\n",
              "      <td>12.368421</td>\n",
              "      <td>Medium</td>\n",
              "      <td>0</td>\n",
              "      <td>1</td>\n",
              "    </tr>\n",
              "    <tr>\n",
              "      <th>3</th>\n",
              "      <td>2</td>\n",
              "      <td>164</td>\n",
              "      <td>audi</td>\n",
              "      <td>std</td>\n",
              "      <td>four</td>\n",
              "      <td>sedan</td>\n",
              "      <td>fwd</td>\n",
              "      <td>front</td>\n",
              "      <td>99.8</td>\n",
              "      <td>0.848630</td>\n",
              "      <td>0.919444</td>\n",
              "      <td>0.908027</td>\n",
              "      <td>2337</td>\n",
              "      <td>ohc</td>\n",
              "      <td>four</td>\n",
              "      <td>109</td>\n",
              "      <td>mpfi</td>\n",
              "      <td>3.19</td>\n",
              "      <td>3.40</td>\n",
              "      <td>10.0</td>\n",
              "      <td>102</td>\n",
              "      <td>5500.0</td>\n",
              "      <td>24</td>\n",
              "      <td>7.833333</td>\n",
              "      <td>13950.0</td>\n",
              "      <td>9.791667</td>\n",
              "      <td>Low</td>\n",
              "      <td>0</td>\n",
              "      <td>1</td>\n",
              "    </tr>\n",
              "    <tr>\n",
              "      <th>4</th>\n",
              "      <td>2</td>\n",
              "      <td>164</td>\n",
              "      <td>audi</td>\n",
              "      <td>std</td>\n",
              "      <td>four</td>\n",
              "      <td>sedan</td>\n",
              "      <td>4wd</td>\n",
              "      <td>front</td>\n",
              "      <td>99.4</td>\n",
              "      <td>0.848630</td>\n",
              "      <td>0.922222</td>\n",
              "      <td>0.908027</td>\n",
              "      <td>2824</td>\n",
              "      <td>ohc</td>\n",
              "      <td>five</td>\n",
              "      <td>136</td>\n",
              "      <td>mpfi</td>\n",
              "      <td>3.19</td>\n",
              "      <td>3.40</td>\n",
              "      <td>8.0</td>\n",
              "      <td>115</td>\n",
              "      <td>5500.0</td>\n",
              "      <td>18</td>\n",
              "      <td>10.681818</td>\n",
              "      <td>17450.0</td>\n",
              "      <td>13.055556</td>\n",
              "      <td>Low</td>\n",
              "      <td>0</td>\n",
              "      <td>1</td>\n",
              "    </tr>\n",
              "  </tbody>\n",
              "</table>\n",
              "</div>"
            ],
            "text/plain": [
              "   symboling  normalized-losses  ... fuel-type-diesel fuel-type-gas\n",
              "0          3                122  ...                0             1\n",
              "1          3                122  ...                0             1\n",
              "2          1                122  ...                0             1\n",
              "3          2                164  ...                0             1\n",
              "4          2                164  ...                0             1\n",
              "\n",
              "[5 rows x 29 columns]"
            ]
          },
          "execution_count": 44,
          "metadata": {},
          "output_type": "execute_result"
        }
      ]
    },
    {
      "cell_type": "code",
      "metadata": {
        "colab": {
          "base_uri": "https://localhost:8080/",
          "height": 204
        },
        "id": "ZD5419_48bNg",
        "outputId": "92e80e5b-48f1-455e-b35a-e02286e2d745"
      },
      "source": [
        "#Get the indicator variables of aspiration \n",
        "dummy_variable_2 = pd.get_dummies(d_f[\"aspiration\"])\n",
        "\n",
        "#change column names for clarity\n",
        "dummy_variable_2.rename(columns = {\"std\":\"aspiration-std\", \"turbo\":\"aspiration-turbo\"}, inplace = True)\n",
        "\n",
        "dummy_variable_2.head()"
      ],
      "execution_count": null,
      "outputs": [
        {
          "data": {
            "text/html": [
              "<div>\n",
              "<style scoped>\n",
              "    .dataframe tbody tr th:only-of-type {\n",
              "        vertical-align: middle;\n",
              "    }\n",
              "\n",
              "    .dataframe tbody tr th {\n",
              "        vertical-align: top;\n",
              "    }\n",
              "\n",
              "    .dataframe thead th {\n",
              "        text-align: right;\n",
              "    }\n",
              "</style>\n",
              "<table border=\"1\" class=\"dataframe\">\n",
              "  <thead>\n",
              "    <tr style=\"text-align: right;\">\n",
              "      <th></th>\n",
              "      <th>aspiration-std</th>\n",
              "      <th>aspiration-turbo</th>\n",
              "    </tr>\n",
              "  </thead>\n",
              "  <tbody>\n",
              "    <tr>\n",
              "      <th>0</th>\n",
              "      <td>1</td>\n",
              "      <td>0</td>\n",
              "    </tr>\n",
              "    <tr>\n",
              "      <th>1</th>\n",
              "      <td>1</td>\n",
              "      <td>0</td>\n",
              "    </tr>\n",
              "    <tr>\n",
              "      <th>2</th>\n",
              "      <td>1</td>\n",
              "      <td>0</td>\n",
              "    </tr>\n",
              "    <tr>\n",
              "      <th>3</th>\n",
              "      <td>1</td>\n",
              "      <td>0</td>\n",
              "    </tr>\n",
              "    <tr>\n",
              "      <th>4</th>\n",
              "      <td>1</td>\n",
              "      <td>0</td>\n",
              "    </tr>\n",
              "  </tbody>\n",
              "</table>\n",
              "</div>"
            ],
            "text/plain": [
              "   aspiration-std  aspiration-turbo\n",
              "0               1                 0\n",
              "1               1                 0\n",
              "2               1                 0\n",
              "3               1                 0\n",
              "4               1                 0"
            ]
          },
          "execution_count": 45,
          "metadata": {},
          "output_type": "execute_result"
        }
      ]
    },
    {
      "cell_type": "code",
      "metadata": {
        "id": "GBrIyIGa89-E"
      },
      "source": [
        "d_f = pd.concat([d_f, dummy_variable_2], axis = 1)\n",
        "d_f.drop(\"aspiration\", axis = 1, inplace = True)"
      ],
      "execution_count": null,
      "outputs": []
    },
    {
      "cell_type": "code",
      "metadata": {
        "colab": {
          "base_uri": "https://localhost:8080/",
          "height": 309
        },
        "id": "3Nl19wI69Xw8",
        "outputId": "1c3ff8c2-e898-496d-debf-ab5af1a376f8"
      },
      "source": [
        "d_f.head()"
      ],
      "execution_count": null,
      "outputs": [
        {
          "data": {
            "text/html": [
              "<div>\n",
              "<style scoped>\n",
              "    .dataframe tbody tr th:only-of-type {\n",
              "        vertical-align: middle;\n",
              "    }\n",
              "\n",
              "    .dataframe tbody tr th {\n",
              "        vertical-align: top;\n",
              "    }\n",
              "\n",
              "    .dataframe thead th {\n",
              "        text-align: right;\n",
              "    }\n",
              "</style>\n",
              "<table border=\"1\" class=\"dataframe\">\n",
              "  <thead>\n",
              "    <tr style=\"text-align: right;\">\n",
              "      <th></th>\n",
              "      <th>symboling</th>\n",
              "      <th>normalized-losses</th>\n",
              "      <th>make</th>\n",
              "      <th>num-of-doors</th>\n",
              "      <th>body-style</th>\n",
              "      <th>drive-wheels</th>\n",
              "      <th>engine-location</th>\n",
              "      <th>wheel-base</th>\n",
              "      <th>length</th>\n",
              "      <th>width</th>\n",
              "      <th>height</th>\n",
              "      <th>curb-weight</th>\n",
              "      <th>engine-type</th>\n",
              "      <th>num-of-cylinders</th>\n",
              "      <th>engine-size</th>\n",
              "      <th>fuel-system</th>\n",
              "      <th>bore</th>\n",
              "      <th>stroke</th>\n",
              "      <th>compression-ratio</th>\n",
              "      <th>horsepower</th>\n",
              "      <th>peak-rpm</th>\n",
              "      <th>city-mpg</th>\n",
              "      <th>highway-L/100km</th>\n",
              "      <th>price</th>\n",
              "      <th>city-L/100km</th>\n",
              "      <th>horsepower-binned</th>\n",
              "      <th>fuel-type-diesel</th>\n",
              "      <th>fuel-type-gas</th>\n",
              "      <th>aspiration-std</th>\n",
              "      <th>aspiration-turbo</th>\n",
              "    </tr>\n",
              "  </thead>\n",
              "  <tbody>\n",
              "    <tr>\n",
              "      <th>0</th>\n",
              "      <td>3</td>\n",
              "      <td>122</td>\n",
              "      <td>alfa-romero</td>\n",
              "      <td>two</td>\n",
              "      <td>convertible</td>\n",
              "      <td>rwd</td>\n",
              "      <td>front</td>\n",
              "      <td>88.6</td>\n",
              "      <td>0.811148</td>\n",
              "      <td>0.890278</td>\n",
              "      <td>0.816054</td>\n",
              "      <td>2548</td>\n",
              "      <td>dohc</td>\n",
              "      <td>four</td>\n",
              "      <td>130</td>\n",
              "      <td>mpfi</td>\n",
              "      <td>3.47</td>\n",
              "      <td>2.68</td>\n",
              "      <td>9.0</td>\n",
              "      <td>111</td>\n",
              "      <td>5000.0</td>\n",
              "      <td>21</td>\n",
              "      <td>8.703704</td>\n",
              "      <td>13495.0</td>\n",
              "      <td>11.190476</td>\n",
              "      <td>Low</td>\n",
              "      <td>0</td>\n",
              "      <td>1</td>\n",
              "      <td>1</td>\n",
              "      <td>0</td>\n",
              "    </tr>\n",
              "    <tr>\n",
              "      <th>1</th>\n",
              "      <td>3</td>\n",
              "      <td>122</td>\n",
              "      <td>alfa-romero</td>\n",
              "      <td>two</td>\n",
              "      <td>convertible</td>\n",
              "      <td>rwd</td>\n",
              "      <td>front</td>\n",
              "      <td>88.6</td>\n",
              "      <td>0.811148</td>\n",
              "      <td>0.890278</td>\n",
              "      <td>0.816054</td>\n",
              "      <td>2548</td>\n",
              "      <td>dohc</td>\n",
              "      <td>four</td>\n",
              "      <td>130</td>\n",
              "      <td>mpfi</td>\n",
              "      <td>3.47</td>\n",
              "      <td>2.68</td>\n",
              "      <td>9.0</td>\n",
              "      <td>111</td>\n",
              "      <td>5000.0</td>\n",
              "      <td>21</td>\n",
              "      <td>8.703704</td>\n",
              "      <td>16500.0</td>\n",
              "      <td>11.190476</td>\n",
              "      <td>Low</td>\n",
              "      <td>0</td>\n",
              "      <td>1</td>\n",
              "      <td>1</td>\n",
              "      <td>0</td>\n",
              "    </tr>\n",
              "    <tr>\n",
              "      <th>2</th>\n",
              "      <td>1</td>\n",
              "      <td>122</td>\n",
              "      <td>alfa-romero</td>\n",
              "      <td>two</td>\n",
              "      <td>hatchback</td>\n",
              "      <td>rwd</td>\n",
              "      <td>front</td>\n",
              "      <td>94.5</td>\n",
              "      <td>0.822681</td>\n",
              "      <td>0.909722</td>\n",
              "      <td>0.876254</td>\n",
              "      <td>2823</td>\n",
              "      <td>ohcv</td>\n",
              "      <td>six</td>\n",
              "      <td>152</td>\n",
              "      <td>mpfi</td>\n",
              "      <td>2.68</td>\n",
              "      <td>3.47</td>\n",
              "      <td>9.0</td>\n",
              "      <td>154</td>\n",
              "      <td>5000.0</td>\n",
              "      <td>19</td>\n",
              "      <td>9.038462</td>\n",
              "      <td>16500.0</td>\n",
              "      <td>12.368421</td>\n",
              "      <td>Medium</td>\n",
              "      <td>0</td>\n",
              "      <td>1</td>\n",
              "      <td>1</td>\n",
              "      <td>0</td>\n",
              "    </tr>\n",
              "    <tr>\n",
              "      <th>3</th>\n",
              "      <td>2</td>\n",
              "      <td>164</td>\n",
              "      <td>audi</td>\n",
              "      <td>four</td>\n",
              "      <td>sedan</td>\n",
              "      <td>fwd</td>\n",
              "      <td>front</td>\n",
              "      <td>99.8</td>\n",
              "      <td>0.848630</td>\n",
              "      <td>0.919444</td>\n",
              "      <td>0.908027</td>\n",
              "      <td>2337</td>\n",
              "      <td>ohc</td>\n",
              "      <td>four</td>\n",
              "      <td>109</td>\n",
              "      <td>mpfi</td>\n",
              "      <td>3.19</td>\n",
              "      <td>3.40</td>\n",
              "      <td>10.0</td>\n",
              "      <td>102</td>\n",
              "      <td>5500.0</td>\n",
              "      <td>24</td>\n",
              "      <td>7.833333</td>\n",
              "      <td>13950.0</td>\n",
              "      <td>9.791667</td>\n",
              "      <td>Low</td>\n",
              "      <td>0</td>\n",
              "      <td>1</td>\n",
              "      <td>1</td>\n",
              "      <td>0</td>\n",
              "    </tr>\n",
              "    <tr>\n",
              "      <th>4</th>\n",
              "      <td>2</td>\n",
              "      <td>164</td>\n",
              "      <td>audi</td>\n",
              "      <td>four</td>\n",
              "      <td>sedan</td>\n",
              "      <td>4wd</td>\n",
              "      <td>front</td>\n",
              "      <td>99.4</td>\n",
              "      <td>0.848630</td>\n",
              "      <td>0.922222</td>\n",
              "      <td>0.908027</td>\n",
              "      <td>2824</td>\n",
              "      <td>ohc</td>\n",
              "      <td>five</td>\n",
              "      <td>136</td>\n",
              "      <td>mpfi</td>\n",
              "      <td>3.19</td>\n",
              "      <td>3.40</td>\n",
              "      <td>8.0</td>\n",
              "      <td>115</td>\n",
              "      <td>5500.0</td>\n",
              "      <td>18</td>\n",
              "      <td>10.681818</td>\n",
              "      <td>17450.0</td>\n",
              "      <td>13.055556</td>\n",
              "      <td>Low</td>\n",
              "      <td>0</td>\n",
              "      <td>1</td>\n",
              "      <td>1</td>\n",
              "      <td>0</td>\n",
              "    </tr>\n",
              "  </tbody>\n",
              "</table>\n",
              "</div>"
            ],
            "text/plain": [
              "   symboling  normalized-losses  ... aspiration-std aspiration-turbo\n",
              "0          3                122  ...              1                0\n",
              "1          3                122  ...              1                0\n",
              "2          1                122  ...              1                0\n",
              "3          2                164  ...              1                0\n",
              "4          2                164  ...              1                0\n",
              "\n",
              "[5 rows x 30 columns]"
            ]
          },
          "execution_count": 47,
          "metadata": {},
          "output_type": "execute_result"
        }
      ]
    },
    {
      "cell_type": "code",
      "metadata": {
        "id": "wJT71MqWIvrT"
      },
      "source": [
        "d_f.to_csv(\"clean_automobile.csv\", index = False)"
      ],
      "execution_count": null,
      "outputs": []
    },
    {
      "cell_type": "markdown",
      "metadata": {
        "id": "FuozgoYRuyG7"
      },
      "source": [
        "# Module 3 - Exploratory Data Analysis"
      ]
    },
    {
      "cell_type": "markdown",
      "metadata": {
        "id": "CrKzjrf0-XMW"
      },
      "source": [
        "**Analyzing individual feature pattern using visualization**\n",
        "\n",
        "How to choose the right visualization method\n",
        "\n",
        "When visualizing individual variables, it is important to first understand what type of variable you are dealing with. This will help us find the right visualization method for that variable."
      ]
    },
    {
      "cell_type": "code",
      "metadata": {
        "colab": {
          "base_uri": "https://localhost:8080/",
          "height": 309
        },
        "id": "vWfASj0HJGXl",
        "outputId": "d51285ad-8f50-4f94-94a5-67dd6c5a3e59"
      },
      "source": [
        "d_f.head()"
      ],
      "execution_count": null,
      "outputs": [
        {
          "data": {
            "text/html": [
              "<div>\n",
              "<style scoped>\n",
              "    .dataframe tbody tr th:only-of-type {\n",
              "        vertical-align: middle;\n",
              "    }\n",
              "\n",
              "    .dataframe tbody tr th {\n",
              "        vertical-align: top;\n",
              "    }\n",
              "\n",
              "    .dataframe thead th {\n",
              "        text-align: right;\n",
              "    }\n",
              "</style>\n",
              "<table border=\"1\" class=\"dataframe\">\n",
              "  <thead>\n",
              "    <tr style=\"text-align: right;\">\n",
              "      <th></th>\n",
              "      <th>symboling</th>\n",
              "      <th>normalized-losses</th>\n",
              "      <th>make</th>\n",
              "      <th>num-of-doors</th>\n",
              "      <th>body-style</th>\n",
              "      <th>drive-wheels</th>\n",
              "      <th>engine-location</th>\n",
              "      <th>wheel-base</th>\n",
              "      <th>length</th>\n",
              "      <th>width</th>\n",
              "      <th>height</th>\n",
              "      <th>curb-weight</th>\n",
              "      <th>engine-type</th>\n",
              "      <th>num-of-cylinders</th>\n",
              "      <th>engine-size</th>\n",
              "      <th>fuel-system</th>\n",
              "      <th>bore</th>\n",
              "      <th>stroke</th>\n",
              "      <th>compression-ratio</th>\n",
              "      <th>horsepower</th>\n",
              "      <th>peak-rpm</th>\n",
              "      <th>city-mpg</th>\n",
              "      <th>highway-L/100km</th>\n",
              "      <th>price</th>\n",
              "      <th>city-L/100km</th>\n",
              "      <th>horsepower-binned</th>\n",
              "      <th>fuel-type-diesel</th>\n",
              "      <th>fuel-type-gas</th>\n",
              "      <th>aspiration-std</th>\n",
              "      <th>aspiration-turbo</th>\n",
              "    </tr>\n",
              "  </thead>\n",
              "  <tbody>\n",
              "    <tr>\n",
              "      <th>0</th>\n",
              "      <td>3</td>\n",
              "      <td>122</td>\n",
              "      <td>alfa-romero</td>\n",
              "      <td>two</td>\n",
              "      <td>convertible</td>\n",
              "      <td>rwd</td>\n",
              "      <td>front</td>\n",
              "      <td>88.6</td>\n",
              "      <td>0.811148</td>\n",
              "      <td>0.890278</td>\n",
              "      <td>0.816054</td>\n",
              "      <td>2548</td>\n",
              "      <td>dohc</td>\n",
              "      <td>four</td>\n",
              "      <td>130</td>\n",
              "      <td>mpfi</td>\n",
              "      <td>3.47</td>\n",
              "      <td>2.68</td>\n",
              "      <td>9.0</td>\n",
              "      <td>111</td>\n",
              "      <td>5000.0</td>\n",
              "      <td>21</td>\n",
              "      <td>8.703704</td>\n",
              "      <td>13495.0</td>\n",
              "      <td>11.190476</td>\n",
              "      <td>Low</td>\n",
              "      <td>0</td>\n",
              "      <td>1</td>\n",
              "      <td>1</td>\n",
              "      <td>0</td>\n",
              "    </tr>\n",
              "    <tr>\n",
              "      <th>1</th>\n",
              "      <td>3</td>\n",
              "      <td>122</td>\n",
              "      <td>alfa-romero</td>\n",
              "      <td>two</td>\n",
              "      <td>convertible</td>\n",
              "      <td>rwd</td>\n",
              "      <td>front</td>\n",
              "      <td>88.6</td>\n",
              "      <td>0.811148</td>\n",
              "      <td>0.890278</td>\n",
              "      <td>0.816054</td>\n",
              "      <td>2548</td>\n",
              "      <td>dohc</td>\n",
              "      <td>four</td>\n",
              "      <td>130</td>\n",
              "      <td>mpfi</td>\n",
              "      <td>3.47</td>\n",
              "      <td>2.68</td>\n",
              "      <td>9.0</td>\n",
              "      <td>111</td>\n",
              "      <td>5000.0</td>\n",
              "      <td>21</td>\n",
              "      <td>8.703704</td>\n",
              "      <td>16500.0</td>\n",
              "      <td>11.190476</td>\n",
              "      <td>Low</td>\n",
              "      <td>0</td>\n",
              "      <td>1</td>\n",
              "      <td>1</td>\n",
              "      <td>0</td>\n",
              "    </tr>\n",
              "    <tr>\n",
              "      <th>2</th>\n",
              "      <td>1</td>\n",
              "      <td>122</td>\n",
              "      <td>alfa-romero</td>\n",
              "      <td>two</td>\n",
              "      <td>hatchback</td>\n",
              "      <td>rwd</td>\n",
              "      <td>front</td>\n",
              "      <td>94.5</td>\n",
              "      <td>0.822681</td>\n",
              "      <td>0.909722</td>\n",
              "      <td>0.876254</td>\n",
              "      <td>2823</td>\n",
              "      <td>ohcv</td>\n",
              "      <td>six</td>\n",
              "      <td>152</td>\n",
              "      <td>mpfi</td>\n",
              "      <td>2.68</td>\n",
              "      <td>3.47</td>\n",
              "      <td>9.0</td>\n",
              "      <td>154</td>\n",
              "      <td>5000.0</td>\n",
              "      <td>19</td>\n",
              "      <td>9.038462</td>\n",
              "      <td>16500.0</td>\n",
              "      <td>12.368421</td>\n",
              "      <td>Medium</td>\n",
              "      <td>0</td>\n",
              "      <td>1</td>\n",
              "      <td>1</td>\n",
              "      <td>0</td>\n",
              "    </tr>\n",
              "    <tr>\n",
              "      <th>3</th>\n",
              "      <td>2</td>\n",
              "      <td>164</td>\n",
              "      <td>audi</td>\n",
              "      <td>four</td>\n",
              "      <td>sedan</td>\n",
              "      <td>fwd</td>\n",
              "      <td>front</td>\n",
              "      <td>99.8</td>\n",
              "      <td>0.848630</td>\n",
              "      <td>0.919444</td>\n",
              "      <td>0.908027</td>\n",
              "      <td>2337</td>\n",
              "      <td>ohc</td>\n",
              "      <td>four</td>\n",
              "      <td>109</td>\n",
              "      <td>mpfi</td>\n",
              "      <td>3.19</td>\n",
              "      <td>3.40</td>\n",
              "      <td>10.0</td>\n",
              "      <td>102</td>\n",
              "      <td>5500.0</td>\n",
              "      <td>24</td>\n",
              "      <td>7.833333</td>\n",
              "      <td>13950.0</td>\n",
              "      <td>9.791667</td>\n",
              "      <td>Low</td>\n",
              "      <td>0</td>\n",
              "      <td>1</td>\n",
              "      <td>1</td>\n",
              "      <td>0</td>\n",
              "    </tr>\n",
              "    <tr>\n",
              "      <th>4</th>\n",
              "      <td>2</td>\n",
              "      <td>164</td>\n",
              "      <td>audi</td>\n",
              "      <td>four</td>\n",
              "      <td>sedan</td>\n",
              "      <td>4wd</td>\n",
              "      <td>front</td>\n",
              "      <td>99.4</td>\n",
              "      <td>0.848630</td>\n",
              "      <td>0.922222</td>\n",
              "      <td>0.908027</td>\n",
              "      <td>2824</td>\n",
              "      <td>ohc</td>\n",
              "      <td>five</td>\n",
              "      <td>136</td>\n",
              "      <td>mpfi</td>\n",
              "      <td>3.19</td>\n",
              "      <td>3.40</td>\n",
              "      <td>8.0</td>\n",
              "      <td>115</td>\n",
              "      <td>5500.0</td>\n",
              "      <td>18</td>\n",
              "      <td>10.681818</td>\n",
              "      <td>17450.0</td>\n",
              "      <td>13.055556</td>\n",
              "      <td>Low</td>\n",
              "      <td>0</td>\n",
              "      <td>1</td>\n",
              "      <td>1</td>\n",
              "      <td>0</td>\n",
              "    </tr>\n",
              "  </tbody>\n",
              "</table>\n",
              "</div>"
            ],
            "text/plain": [
              "   symboling  normalized-losses  ... aspiration-std aspiration-turbo\n",
              "0          3                122  ...              1                0\n",
              "1          3                122  ...              1                0\n",
              "2          1                122  ...              1                0\n",
              "3          2                164  ...              1                0\n",
              "4          2                164  ...              1                0\n",
              "\n",
              "[5 rows x 30 columns]"
            ]
          },
          "execution_count": 51,
          "metadata": {},
          "output_type": "execute_result"
        }
      ]
    },
    {
      "cell_type": "code",
      "metadata": {
        "colab": {
          "base_uri": "https://localhost:8080/"
        },
        "id": "Wzi-mb8c_Hv4",
        "outputId": "eda7371e-c649-4de3-daf8-7af172637456"
      },
      "source": [
        "d_f.dtypes"
      ],
      "execution_count": null,
      "outputs": [
        {
          "data": {
            "text/plain": [
              "symboling               int64\n",
              "normalized-losses       int64\n",
              "make                   object\n",
              "num-of-doors           object\n",
              "body-style             object\n",
              "drive-wheels           object\n",
              "engine-location        object\n",
              "wheel-base            float64\n",
              "length                float64\n",
              "width                 float64\n",
              "height                float64\n",
              "curb-weight             int64\n",
              "engine-type            object\n",
              "num-of-cylinders       object\n",
              "engine-size             int64\n",
              "fuel-system            object\n",
              "bore                  float64\n",
              "stroke                float64\n",
              "compression-ratio     float64\n",
              "horsepower              int64\n",
              "peak-rpm              float64\n",
              "city-mpg                int64\n",
              "highway-L/100km       float64\n",
              "price                 float64\n",
              "city-L/100km          float64\n",
              "horsepower-binned    category\n",
              "fuel-type-diesel        uint8\n",
              "fuel-type-gas           uint8\n",
              "aspiration-std          uint8\n",
              "aspiration-turbo        uint8\n",
              "dtype: object"
            ]
          },
          "execution_count": 49,
          "metadata": {},
          "output_type": "execute_result"
        }
      ]
    },
    {
      "cell_type": "code",
      "metadata": {
        "colab": {
          "base_uri": "https://localhost:8080/",
          "height": 856
        },
        "id": "LuLn1-v4_XED",
        "outputId": "5c228beb-0a73-4d14-db78-f53da8c57483"
      },
      "source": [
        "d_f.corr()"
      ],
      "execution_count": null,
      "outputs": [
        {
          "data": {
            "text/html": [
              "<div>\n",
              "<style scoped>\n",
              "    .dataframe tbody tr th:only-of-type {\n",
              "        vertical-align: middle;\n",
              "    }\n",
              "\n",
              "    .dataframe tbody tr th {\n",
              "        vertical-align: top;\n",
              "    }\n",
              "\n",
              "    .dataframe thead th {\n",
              "        text-align: right;\n",
              "    }\n",
              "</style>\n",
              "<table border=\"1\" class=\"dataframe\">\n",
              "  <thead>\n",
              "    <tr style=\"text-align: right;\">\n",
              "      <th></th>\n",
              "      <th>symboling</th>\n",
              "      <th>normalized-losses</th>\n",
              "      <th>wheel-base</th>\n",
              "      <th>length</th>\n",
              "      <th>width</th>\n",
              "      <th>height</th>\n",
              "      <th>curb-weight</th>\n",
              "      <th>engine-size</th>\n",
              "      <th>bore</th>\n",
              "      <th>stroke</th>\n",
              "      <th>compression-ratio</th>\n",
              "      <th>horsepower</th>\n",
              "      <th>peak-rpm</th>\n",
              "      <th>city-mpg</th>\n",
              "      <th>highway-L/100km</th>\n",
              "      <th>price</th>\n",
              "      <th>city-L/100km</th>\n",
              "      <th>fuel-type-diesel</th>\n",
              "      <th>fuel-type-gas</th>\n",
              "      <th>aspiration-std</th>\n",
              "      <th>aspiration-turbo</th>\n",
              "    </tr>\n",
              "  </thead>\n",
              "  <tbody>\n",
              "    <tr>\n",
              "      <th>symboling</th>\n",
              "      <td>1.000000</td>\n",
              "      <td>0.466264</td>\n",
              "      <td>-0.535987</td>\n",
              "      <td>-0.365404</td>\n",
              "      <td>-0.242423</td>\n",
              "      <td>-0.550160</td>\n",
              "      <td>-0.233118</td>\n",
              "      <td>-0.110581</td>\n",
              "      <td>-0.139896</td>\n",
              "      <td>-0.007992</td>\n",
              "      <td>-0.182196</td>\n",
              "      <td>0.075776</td>\n",
              "      <td>0.279719</td>\n",
              "      <td>-0.035527</td>\n",
              "      <td>-0.029807</td>\n",
              "      <td>-0.082391</td>\n",
              "      <td>0.066171</td>\n",
              "      <td>-0.196735</td>\n",
              "      <td>0.196735</td>\n",
              "      <td>0.054615</td>\n",
              "      <td>-0.054615</td>\n",
              "    </tr>\n",
              "    <tr>\n",
              "      <th>normalized-losses</th>\n",
              "      <td>0.466264</td>\n",
              "      <td>1.000000</td>\n",
              "      <td>-0.056661</td>\n",
              "      <td>0.019424</td>\n",
              "      <td>0.086802</td>\n",
              "      <td>-0.373737</td>\n",
              "      <td>0.099404</td>\n",
              "      <td>0.112360</td>\n",
              "      <td>-0.029800</td>\n",
              "      <td>0.055127</td>\n",
              "      <td>-0.114713</td>\n",
              "      <td>0.217300</td>\n",
              "      <td>0.239544</td>\n",
              "      <td>-0.225016</td>\n",
              "      <td>0.181189</td>\n",
              "      <td>0.133999</td>\n",
              "      <td>0.238567</td>\n",
              "      <td>-0.101546</td>\n",
              "      <td>0.101546</td>\n",
              "      <td>0.006911</td>\n",
              "      <td>-0.006911</td>\n",
              "    </tr>\n",
              "    <tr>\n",
              "      <th>wheel-base</th>\n",
              "      <td>-0.535987</td>\n",
              "      <td>-0.056661</td>\n",
              "      <td>1.000000</td>\n",
              "      <td>0.876024</td>\n",
              "      <td>0.814507</td>\n",
              "      <td>0.590742</td>\n",
              "      <td>0.782097</td>\n",
              "      <td>0.572027</td>\n",
              "      <td>0.493203</td>\n",
              "      <td>0.157964</td>\n",
              "      <td>0.250313</td>\n",
              "      <td>0.371297</td>\n",
              "      <td>-0.360233</td>\n",
              "      <td>-0.470606</td>\n",
              "      <td>0.577576</td>\n",
              "      <td>0.584642</td>\n",
              "      <td>0.476153</td>\n",
              "      <td>0.307237</td>\n",
              "      <td>-0.307237</td>\n",
              "      <td>-0.256889</td>\n",
              "      <td>0.256889</td>\n",
              "    </tr>\n",
              "    <tr>\n",
              "      <th>length</th>\n",
              "      <td>-0.365404</td>\n",
              "      <td>0.019424</td>\n",
              "      <td>0.876024</td>\n",
              "      <td>1.000000</td>\n",
              "      <td>0.857170</td>\n",
              "      <td>0.492063</td>\n",
              "      <td>0.880665</td>\n",
              "      <td>0.685025</td>\n",
              "      <td>0.608941</td>\n",
              "      <td>0.123913</td>\n",
              "      <td>0.159733</td>\n",
              "      <td>0.579688</td>\n",
              "      <td>-0.286035</td>\n",
              "      <td>-0.665192</td>\n",
              "      <td>0.707108</td>\n",
              "      <td>0.690628</td>\n",
              "      <td>0.657373</td>\n",
              "      <td>0.211187</td>\n",
              "      <td>-0.211187</td>\n",
              "      <td>-0.230085</td>\n",
              "      <td>0.230085</td>\n",
              "    </tr>\n",
              "    <tr>\n",
              "      <th>width</th>\n",
              "      <td>-0.242423</td>\n",
              "      <td>0.086802</td>\n",
              "      <td>0.814507</td>\n",
              "      <td>0.857170</td>\n",
              "      <td>1.000000</td>\n",
              "      <td>0.306002</td>\n",
              "      <td>0.866201</td>\n",
              "      <td>0.729436</td>\n",
              "      <td>0.544879</td>\n",
              "      <td>0.188814</td>\n",
              "      <td>0.189867</td>\n",
              "      <td>0.614972</td>\n",
              "      <td>-0.245852</td>\n",
              "      <td>-0.633531</td>\n",
              "      <td>0.736728</td>\n",
              "      <td>0.751265</td>\n",
              "      <td>0.673363</td>\n",
              "      <td>0.244356</td>\n",
              "      <td>-0.244356</td>\n",
              "      <td>-0.305732</td>\n",
              "      <td>0.305732</td>\n",
              "    </tr>\n",
              "    <tr>\n",
              "      <th>height</th>\n",
              "      <td>-0.550160</td>\n",
              "      <td>-0.373737</td>\n",
              "      <td>0.590742</td>\n",
              "      <td>0.492063</td>\n",
              "      <td>0.306002</td>\n",
              "      <td>1.000000</td>\n",
              "      <td>0.307581</td>\n",
              "      <td>0.074694</td>\n",
              "      <td>0.180327</td>\n",
              "      <td>-0.060822</td>\n",
              "      <td>0.259737</td>\n",
              "      <td>-0.086901</td>\n",
              "      <td>-0.309913</td>\n",
              "      <td>-0.049800</td>\n",
              "      <td>0.084301</td>\n",
              "      <td>0.135486</td>\n",
              "      <td>0.003811</td>\n",
              "      <td>0.281578</td>\n",
              "      <td>-0.281578</td>\n",
              "      <td>-0.090336</td>\n",
              "      <td>0.090336</td>\n",
              "    </tr>\n",
              "    <tr>\n",
              "      <th>curb-weight</th>\n",
              "      <td>-0.233118</td>\n",
              "      <td>0.099404</td>\n",
              "      <td>0.782097</td>\n",
              "      <td>0.880665</td>\n",
              "      <td>0.866201</td>\n",
              "      <td>0.307581</td>\n",
              "      <td>1.000000</td>\n",
              "      <td>0.849072</td>\n",
              "      <td>0.644041</td>\n",
              "      <td>0.167412</td>\n",
              "      <td>0.156433</td>\n",
              "      <td>0.758001</td>\n",
              "      <td>-0.279350</td>\n",
              "      <td>-0.749543</td>\n",
              "      <td>0.836921</td>\n",
              "      <td>0.834415</td>\n",
              "      <td>0.785353</td>\n",
              "      <td>0.221046</td>\n",
              "      <td>-0.221046</td>\n",
              "      <td>-0.321955</td>\n",
              "      <td>0.321955</td>\n",
              "    </tr>\n",
              "    <tr>\n",
              "      <th>engine-size</th>\n",
              "      <td>-0.110581</td>\n",
              "      <td>0.112360</td>\n",
              "      <td>0.572027</td>\n",
              "      <td>0.685025</td>\n",
              "      <td>0.729436</td>\n",
              "      <td>0.074694</td>\n",
              "      <td>0.849072</td>\n",
              "      <td>1.000000</td>\n",
              "      <td>0.572516</td>\n",
              "      <td>0.205806</td>\n",
              "      <td>0.028889</td>\n",
              "      <td>0.822636</td>\n",
              "      <td>-0.256753</td>\n",
              "      <td>-0.650546</td>\n",
              "      <td>0.783465</td>\n",
              "      <td>0.872335</td>\n",
              "      <td>0.745059</td>\n",
              "      <td>0.070779</td>\n",
              "      <td>-0.070779</td>\n",
              "      <td>-0.110040</td>\n",
              "      <td>0.110040</td>\n",
              "    </tr>\n",
              "    <tr>\n",
              "      <th>bore</th>\n",
              "      <td>-0.139896</td>\n",
              "      <td>-0.029800</td>\n",
              "      <td>0.493203</td>\n",
              "      <td>0.608941</td>\n",
              "      <td>0.544879</td>\n",
              "      <td>0.180327</td>\n",
              "      <td>0.644041</td>\n",
              "      <td>0.572516</td>\n",
              "      <td>1.000000</td>\n",
              "      <td>-0.055390</td>\n",
              "      <td>0.001250</td>\n",
              "      <td>0.566786</td>\n",
              "      <td>-0.267338</td>\n",
              "      <td>-0.582121</td>\n",
              "      <td>0.559197</td>\n",
              "      <td>0.543154</td>\n",
              "      <td>0.554726</td>\n",
              "      <td>0.054435</td>\n",
              "      <td>-0.054435</td>\n",
              "      <td>-0.227782</td>\n",
              "      <td>0.227782</td>\n",
              "    </tr>\n",
              "    <tr>\n",
              "      <th>stroke</th>\n",
              "      <td>-0.007992</td>\n",
              "      <td>0.055127</td>\n",
              "      <td>0.157964</td>\n",
              "      <td>0.123913</td>\n",
              "      <td>0.188814</td>\n",
              "      <td>-0.060822</td>\n",
              "      <td>0.167412</td>\n",
              "      <td>0.205806</td>\n",
              "      <td>-0.055390</td>\n",
              "      <td>1.000000</td>\n",
              "      <td>0.187854</td>\n",
              "      <td>0.097598</td>\n",
              "      <td>-0.063720</td>\n",
              "      <td>-0.034079</td>\n",
              "      <td>0.047199</td>\n",
              "      <td>0.082267</td>\n",
              "      <td>0.036285</td>\n",
              "      <td>0.241033</td>\n",
              "      <td>-0.241033</td>\n",
              "      <td>-0.218190</td>\n",
              "      <td>0.218190</td>\n",
              "    </tr>\n",
              "    <tr>\n",
              "      <th>compression-ratio</th>\n",
              "      <td>-0.182196</td>\n",
              "      <td>-0.114713</td>\n",
              "      <td>0.250313</td>\n",
              "      <td>0.159733</td>\n",
              "      <td>0.189867</td>\n",
              "      <td>0.259737</td>\n",
              "      <td>0.156433</td>\n",
              "      <td>0.028889</td>\n",
              "      <td>0.001250</td>\n",
              "      <td>0.187854</td>\n",
              "      <td>1.000000</td>\n",
              "      <td>-0.214392</td>\n",
              "      <td>-0.435721</td>\n",
              "      <td>0.331425</td>\n",
              "      <td>-0.223361</td>\n",
              "      <td>0.071107</td>\n",
              "      <td>-0.299372</td>\n",
              "      <td>0.985231</td>\n",
              "      <td>-0.985231</td>\n",
              "      <td>-0.307522</td>\n",
              "      <td>0.307522</td>\n",
              "    </tr>\n",
              "    <tr>\n",
              "      <th>horsepower</th>\n",
              "      <td>0.075776</td>\n",
              "      <td>0.217300</td>\n",
              "      <td>0.371297</td>\n",
              "      <td>0.579688</td>\n",
              "      <td>0.614972</td>\n",
              "      <td>-0.086901</td>\n",
              "      <td>0.758001</td>\n",
              "      <td>0.822636</td>\n",
              "      <td>0.566786</td>\n",
              "      <td>0.097598</td>\n",
              "      <td>-0.214392</td>\n",
              "      <td>1.000000</td>\n",
              "      <td>0.107882</td>\n",
              "      <td>-0.822102</td>\n",
              "      <td>0.840695</td>\n",
              "      <td>0.809729</td>\n",
              "      <td>0.889454</td>\n",
              "      <td>-0.168941</td>\n",
              "      <td>0.168941</td>\n",
              "      <td>-0.251284</td>\n",
              "      <td>0.251284</td>\n",
              "    </tr>\n",
              "    <tr>\n",
              "      <th>peak-rpm</th>\n",
              "      <td>0.279719</td>\n",
              "      <td>0.239544</td>\n",
              "      <td>-0.360233</td>\n",
              "      <td>-0.286035</td>\n",
              "      <td>-0.245852</td>\n",
              "      <td>-0.309913</td>\n",
              "      <td>-0.279350</td>\n",
              "      <td>-0.256753</td>\n",
              "      <td>-0.267338</td>\n",
              "      <td>-0.063720</td>\n",
              "      <td>-0.435721</td>\n",
              "      <td>0.107882</td>\n",
              "      <td>1.000000</td>\n",
              "      <td>-0.115358</td>\n",
              "      <td>0.017736</td>\n",
              "      <td>-0.101542</td>\n",
              "      <td>0.115813</td>\n",
              "      <td>-0.475759</td>\n",
              "      <td>0.475759</td>\n",
              "      <td>0.189982</td>\n",
              "      <td>-0.189982</td>\n",
              "    </tr>\n",
              "    <tr>\n",
              "      <th>city-mpg</th>\n",
              "      <td>-0.035527</td>\n",
              "      <td>-0.225016</td>\n",
              "      <td>-0.470606</td>\n",
              "      <td>-0.665192</td>\n",
              "      <td>-0.633531</td>\n",
              "      <td>-0.049800</td>\n",
              "      <td>-0.749543</td>\n",
              "      <td>-0.650546</td>\n",
              "      <td>-0.582121</td>\n",
              "      <td>-0.034079</td>\n",
              "      <td>0.331425</td>\n",
              "      <td>-0.822102</td>\n",
              "      <td>-0.115358</td>\n",
              "      <td>1.000000</td>\n",
              "      <td>-0.909024</td>\n",
              "      <td>-0.686571</td>\n",
              "      <td>-0.949713</td>\n",
              "      <td>0.265676</td>\n",
              "      <td>-0.265676</td>\n",
              "      <td>0.189237</td>\n",
              "      <td>-0.189237</td>\n",
              "    </tr>\n",
              "    <tr>\n",
              "      <th>highway-L/100km</th>\n",
              "      <td>-0.029807</td>\n",
              "      <td>0.181189</td>\n",
              "      <td>0.577576</td>\n",
              "      <td>0.707108</td>\n",
              "      <td>0.736728</td>\n",
              "      <td>0.084301</td>\n",
              "      <td>0.836921</td>\n",
              "      <td>0.783465</td>\n",
              "      <td>0.559197</td>\n",
              "      <td>0.047199</td>\n",
              "      <td>-0.223361</td>\n",
              "      <td>0.840695</td>\n",
              "      <td>0.017736</td>\n",
              "      <td>-0.909024</td>\n",
              "      <td>1.000000</td>\n",
              "      <td>0.801118</td>\n",
              "      <td>0.958306</td>\n",
              "      <td>-0.158091</td>\n",
              "      <td>0.158091</td>\n",
              "      <td>-0.210720</td>\n",
              "      <td>0.210720</td>\n",
              "    </tr>\n",
              "    <tr>\n",
              "      <th>price</th>\n",
              "      <td>-0.082391</td>\n",
              "      <td>0.133999</td>\n",
              "      <td>0.584642</td>\n",
              "      <td>0.690628</td>\n",
              "      <td>0.751265</td>\n",
              "      <td>0.135486</td>\n",
              "      <td>0.834415</td>\n",
              "      <td>0.872335</td>\n",
              "      <td>0.543154</td>\n",
              "      <td>0.082267</td>\n",
              "      <td>0.071107</td>\n",
              "      <td>0.809729</td>\n",
              "      <td>-0.101542</td>\n",
              "      <td>-0.686571</td>\n",
              "      <td>0.801118</td>\n",
              "      <td>1.000000</td>\n",
              "      <td>0.789898</td>\n",
              "      <td>0.110326</td>\n",
              "      <td>-0.110326</td>\n",
              "      <td>-0.179578</td>\n",
              "      <td>0.179578</td>\n",
              "    </tr>\n",
              "    <tr>\n",
              "      <th>city-L/100km</th>\n",
              "      <td>0.066171</td>\n",
              "      <td>0.238567</td>\n",
              "      <td>0.476153</td>\n",
              "      <td>0.657373</td>\n",
              "      <td>0.673363</td>\n",
              "      <td>0.003811</td>\n",
              "      <td>0.785353</td>\n",
              "      <td>0.745059</td>\n",
              "      <td>0.554726</td>\n",
              "      <td>0.036285</td>\n",
              "      <td>-0.299372</td>\n",
              "      <td>0.889454</td>\n",
              "      <td>0.115813</td>\n",
              "      <td>-0.949713</td>\n",
              "      <td>0.958306</td>\n",
              "      <td>0.789898</td>\n",
              "      <td>1.000000</td>\n",
              "      <td>-0.241282</td>\n",
              "      <td>0.241282</td>\n",
              "      <td>-0.157578</td>\n",
              "      <td>0.157578</td>\n",
              "    </tr>\n",
              "    <tr>\n",
              "      <th>fuel-type-diesel</th>\n",
              "      <td>-0.196735</td>\n",
              "      <td>-0.101546</td>\n",
              "      <td>0.307237</td>\n",
              "      <td>0.211187</td>\n",
              "      <td>0.244356</td>\n",
              "      <td>0.281578</td>\n",
              "      <td>0.221046</td>\n",
              "      <td>0.070779</td>\n",
              "      <td>0.054435</td>\n",
              "      <td>0.241033</td>\n",
              "      <td>0.985231</td>\n",
              "      <td>-0.168941</td>\n",
              "      <td>-0.475759</td>\n",
              "      <td>0.265676</td>\n",
              "      <td>-0.158091</td>\n",
              "      <td>0.110326</td>\n",
              "      <td>-0.241282</td>\n",
              "      <td>1.000000</td>\n",
              "      <td>-1.000000</td>\n",
              "      <td>-0.408228</td>\n",
              "      <td>0.408228</td>\n",
              "    </tr>\n",
              "    <tr>\n",
              "      <th>fuel-type-gas</th>\n",
              "      <td>0.196735</td>\n",
              "      <td>0.101546</td>\n",
              "      <td>-0.307237</td>\n",
              "      <td>-0.211187</td>\n",
              "      <td>-0.244356</td>\n",
              "      <td>-0.281578</td>\n",
              "      <td>-0.221046</td>\n",
              "      <td>-0.070779</td>\n",
              "      <td>-0.054435</td>\n",
              "      <td>-0.241033</td>\n",
              "      <td>-0.985231</td>\n",
              "      <td>0.168941</td>\n",
              "      <td>0.475759</td>\n",
              "      <td>-0.265676</td>\n",
              "      <td>0.158091</td>\n",
              "      <td>-0.110326</td>\n",
              "      <td>0.241282</td>\n",
              "      <td>-1.000000</td>\n",
              "      <td>1.000000</td>\n",
              "      <td>0.408228</td>\n",
              "      <td>-0.408228</td>\n",
              "    </tr>\n",
              "    <tr>\n",
              "      <th>aspiration-std</th>\n",
              "      <td>0.054615</td>\n",
              "      <td>0.006911</td>\n",
              "      <td>-0.256889</td>\n",
              "      <td>-0.230085</td>\n",
              "      <td>-0.305732</td>\n",
              "      <td>-0.090336</td>\n",
              "      <td>-0.321955</td>\n",
              "      <td>-0.110040</td>\n",
              "      <td>-0.227782</td>\n",
              "      <td>-0.218190</td>\n",
              "      <td>-0.307522</td>\n",
              "      <td>-0.251284</td>\n",
              "      <td>0.189982</td>\n",
              "      <td>0.189237</td>\n",
              "      <td>-0.210720</td>\n",
              "      <td>-0.179578</td>\n",
              "      <td>-0.157578</td>\n",
              "      <td>-0.408228</td>\n",
              "      <td>0.408228</td>\n",
              "      <td>1.000000</td>\n",
              "      <td>-1.000000</td>\n",
              "    </tr>\n",
              "    <tr>\n",
              "      <th>aspiration-turbo</th>\n",
              "      <td>-0.054615</td>\n",
              "      <td>-0.006911</td>\n",
              "      <td>0.256889</td>\n",
              "      <td>0.230085</td>\n",
              "      <td>0.305732</td>\n",
              "      <td>0.090336</td>\n",
              "      <td>0.321955</td>\n",
              "      <td>0.110040</td>\n",
              "      <td>0.227782</td>\n",
              "      <td>0.218190</td>\n",
              "      <td>0.307522</td>\n",
              "      <td>0.251284</td>\n",
              "      <td>-0.189982</td>\n",
              "      <td>-0.189237</td>\n",
              "      <td>0.210720</td>\n",
              "      <td>0.179578</td>\n",
              "      <td>0.157578</td>\n",
              "      <td>0.408228</td>\n",
              "      <td>-0.408228</td>\n",
              "      <td>-1.000000</td>\n",
              "      <td>1.000000</td>\n",
              "    </tr>\n",
              "  </tbody>\n",
              "</table>\n",
              "</div>"
            ],
            "text/plain": [
              "                   symboling  ...  aspiration-turbo\n",
              "symboling           1.000000  ...         -0.054615\n",
              "normalized-losses   0.466264  ...         -0.006911\n",
              "wheel-base         -0.535987  ...          0.256889\n",
              "length             -0.365404  ...          0.230085\n",
              "width              -0.242423  ...          0.305732\n",
              "height             -0.550160  ...          0.090336\n",
              "curb-weight        -0.233118  ...          0.321955\n",
              "engine-size        -0.110581  ...          0.110040\n",
              "bore               -0.139896  ...          0.227782\n",
              "stroke             -0.007992  ...          0.218190\n",
              "compression-ratio  -0.182196  ...          0.307522\n",
              "horsepower          0.075776  ...          0.251284\n",
              "peak-rpm            0.279719  ...         -0.189982\n",
              "city-mpg           -0.035527  ...         -0.189237\n",
              "highway-L/100km    -0.029807  ...          0.210720\n",
              "price              -0.082391  ...          0.179578\n",
              "city-L/100km        0.066171  ...          0.157578\n",
              "fuel-type-diesel   -0.196735  ...          0.408228\n",
              "fuel-type-gas       0.196735  ...         -0.408228\n",
              "aspiration-std      0.054615  ...         -1.000000\n",
              "aspiration-turbo   -0.054615  ...          1.000000\n",
              "\n",
              "[21 rows x 21 columns]"
            ]
          },
          "execution_count": 50,
          "metadata": {},
          "output_type": "execute_result"
        }
      ]
    },
    {
      "cell_type": "code",
      "metadata": {
        "colab": {
          "base_uri": "https://localhost:8080/",
          "height": 173
        },
        "id": "CuWasgVA_fU5",
        "outputId": "1e7c795f-40cb-48c1-adb0-a04037da6fa2"
      },
      "source": [
        "d_f[['bore', 'stroke', 'compression-ratio', 'horsepower']].corr()"
      ],
      "execution_count": null,
      "outputs": [
        {
          "data": {
            "text/html": [
              "<div>\n",
              "<style scoped>\n",
              "    .dataframe tbody tr th:only-of-type {\n",
              "        vertical-align: middle;\n",
              "    }\n",
              "\n",
              "    .dataframe tbody tr th {\n",
              "        vertical-align: top;\n",
              "    }\n",
              "\n",
              "    .dataframe thead th {\n",
              "        text-align: right;\n",
              "    }\n",
              "</style>\n",
              "<table border=\"1\" class=\"dataframe\">\n",
              "  <thead>\n",
              "    <tr style=\"text-align: right;\">\n",
              "      <th></th>\n",
              "      <th>bore</th>\n",
              "      <th>stroke</th>\n",
              "      <th>compression-ratio</th>\n",
              "      <th>horsepower</th>\n",
              "    </tr>\n",
              "  </thead>\n",
              "  <tbody>\n",
              "    <tr>\n",
              "      <th>bore</th>\n",
              "      <td>1.000000</td>\n",
              "      <td>-0.055390</td>\n",
              "      <td>0.001250</td>\n",
              "      <td>0.566786</td>\n",
              "    </tr>\n",
              "    <tr>\n",
              "      <th>stroke</th>\n",
              "      <td>-0.055390</td>\n",
              "      <td>1.000000</td>\n",
              "      <td>0.187854</td>\n",
              "      <td>0.097598</td>\n",
              "    </tr>\n",
              "    <tr>\n",
              "      <th>compression-ratio</th>\n",
              "      <td>0.001250</td>\n",
              "      <td>0.187854</td>\n",
              "      <td>1.000000</td>\n",
              "      <td>-0.214392</td>\n",
              "    </tr>\n",
              "    <tr>\n",
              "      <th>horsepower</th>\n",
              "      <td>0.566786</td>\n",
              "      <td>0.097598</td>\n",
              "      <td>-0.214392</td>\n",
              "      <td>1.000000</td>\n",
              "    </tr>\n",
              "  </tbody>\n",
              "</table>\n",
              "</div>"
            ],
            "text/plain": [
              "                       bore    stroke  compression-ratio  horsepower\n",
              "bore               1.000000 -0.055390           0.001250    0.566786\n",
              "stroke            -0.055390  1.000000           0.187854    0.097598\n",
              "compression-ratio  0.001250  0.187854           1.000000   -0.214392\n",
              "horsepower         0.566786  0.097598          -0.214392    1.000000"
            ]
          },
          "execution_count": 53,
          "metadata": {},
          "output_type": "execute_result"
        }
      ]
    },
    {
      "cell_type": "markdown",
      "metadata": {
        "id": "q_P4C2-L_mbg"
      },
      "source": [
        "\n",
        "**Continuous Numerical Variables**\n",
        "\n",
        "Continuous numerical variables are variables that may contain any value within some range. They can be of type \"int64\" or \"float64\". A great way to visualize these variables is by using scatterplots with fitted lines.\n",
        "\n",
        "In order to start understanding the (linear) relationship between an individual variable and the price, we can use \"regplot\" which plots the **scatterplot** plus the fitted **regression line** for the data."
      ]
    },
    {
      "cell_type": "markdown",
      "metadata": {
        "id": "gR_DoywG_2me"
      },
      "source": [
        "**Positive Linear Relationship**\n",
        "\n"
      ]
    },
    {
      "cell_type": "code",
      "metadata": {
        "colab": {
          "base_uri": "https://localhost:8080/",
          "height": 296
        },
        "id": "76yRlf-WAEv0",
        "outputId": "4da9e94c-3bd2-4eeb-db35-a71ea5f86ff7"
      },
      "source": [
        "# Engine size as potential predictor variable of price\n",
        "sns.regplot(x=\"engine-size\", y=\"price\", data=d_f)\n",
        "plt.ylim(0,)"
      ],
      "execution_count": null,
      "outputs": [
        {
          "data": {
            "text/plain": [
              "(0.0, 53280.60619685668)"
            ]
          },
          "execution_count": 55,
          "metadata": {},
          "output_type": "execute_result"
        },
        {
          "data": {
            "image/png": "[encoded data removed]",
            "text/plain": [
              "<Figure size 432x288 with 1 Axes>"
            ]
          },
          "metadata": {},
          "output_type": "display_data"
        }
      ]
    },
    {
      "cell_type": "code",
      "metadata": {
        "colab": {
          "base_uri": "https://localhost:8080/",
          "height": 111
        },
        "id": "5jiStpUWAJwW",
        "outputId": "f8b28bb3-689c-4f52-8eac-d8281f726ef2"
      },
      "source": [
        "d_f[[\"engine-size\", \"price\"]].corr()"
      ],
      "execution_count": null,
      "outputs": [
        {
          "data": {
            "text/html": [
              "<div>\n",
              "<style scoped>\n",
              "    .dataframe tbody tr th:only-of-type {\n",
              "        vertical-align: middle;\n",
              "    }\n",
              "\n",
              "    .dataframe tbody tr th {\n",
              "        vertical-align: top;\n",
              "    }\n",
              "\n",
              "    .dataframe thead th {\n",
              "        text-align: right;\n",
              "    }\n",
              "</style>\n",
              "<table border=\"1\" class=\"dataframe\">\n",
              "  <thead>\n",
              "    <tr style=\"text-align: right;\">\n",
              "      <th></th>\n",
              "      <th>engine-size</th>\n",
              "      <th>price</th>\n",
              "    </tr>\n",
              "  </thead>\n",
              "  <tbody>\n",
              "    <tr>\n",
              "      <th>engine-size</th>\n",
              "      <td>1.000000</td>\n",
              "      <td>0.872335</td>\n",
              "    </tr>\n",
              "    <tr>\n",
              "      <th>price</th>\n",
              "      <td>0.872335</td>\n",
              "      <td>1.000000</td>\n",
              "    </tr>\n",
              "  </tbody>\n",
              "</table>\n",
              "</div>"
            ],
            "text/plain": [
              "             engine-size     price\n",
              "engine-size     1.000000  0.872335\n",
              "price           0.872335  1.000000"
            ]
          },
          "execution_count": 56,
          "metadata": {},
          "output_type": "execute_result"
        }
      ]
    },
    {
      "cell_type": "markdown",
      "metadata": {
        "id": "gn09rsBtAZGY"
      },
      "source": [
        "**Positive Linear Relationship**"
      ]
    },
    {
      "cell_type": "code",
      "metadata": {
        "colab": {
          "base_uri": "https://localhost:8080/",
          "height": 296
        },
        "id": "Y5IgI8zBATkz",
        "outputId": "a35b25d6-49a0-41df-b193-02eca856184c"
      },
      "source": [
        "sns.regplot(x=\"highway-L/100km\", y=\"price\", data=d_f)"
      ],
      "execution_count": null,
      "outputs": [
        {
          "data": {
            "text/plain": [
              "<matplotlib.axes._subplots.AxesSubplot at 0x7fa11102a5d0>"
            ]
          },
          "execution_count": 58,
          "metadata": {},
          "output_type": "execute_result"
        },
        {
          "data": {
            "image/png": "[encoded data removed]",
            "text/plain": [
              "<Figure size 432x288 with 1 Axes>"
            ]
          },
          "metadata": {},
          "output_type": "display_data"
        }
      ]
    },
    {
      "cell_type": "code",
      "metadata": {
        "colab": {
          "base_uri": "https://localhost:8080/",
          "height": 111
        },
        "id": "Dh11-nzHAWFO",
        "outputId": "810de760-2446-42a6-c393-a8a33daae462"
      },
      "source": [
        "d_f[['highway-L/100km', 'price']].corr()"
      ],
      "execution_count": null,
      "outputs": [
        {
          "data": {
            "text/html": [
              "<div>\n",
              "<style scoped>\n",
              "    .dataframe tbody tr th:only-of-type {\n",
              "        vertical-align: middle;\n",
              "    }\n",
              "\n",
              "    .dataframe tbody tr th {\n",
              "        vertical-align: top;\n",
              "    }\n",
              "\n",
              "    .dataframe thead th {\n",
              "        text-align: right;\n",
              "    }\n",
              "</style>\n",
              "<table border=\"1\" class=\"dataframe\">\n",
              "  <thead>\n",
              "    <tr style=\"text-align: right;\">\n",
              "      <th></th>\n",
              "      <th>highway-L/100km</th>\n",
              "      <th>price</th>\n",
              "    </tr>\n",
              "  </thead>\n",
              "  <tbody>\n",
              "    <tr>\n",
              "      <th>highway-L/100km</th>\n",
              "      <td>1.000000</td>\n",
              "      <td>0.801118</td>\n",
              "    </tr>\n",
              "    <tr>\n",
              "      <th>price</th>\n",
              "      <td>0.801118</td>\n",
              "      <td>1.000000</td>\n",
              "    </tr>\n",
              "  </tbody>\n",
              "</table>\n",
              "</div>"
            ],
            "text/plain": [
              "                 highway-L/100km     price\n",
              "highway-L/100km         1.000000  0.801118\n",
              "price                   0.801118  1.000000"
            ]
          },
          "execution_count": 59,
          "metadata": {},
          "output_type": "execute_result"
        }
      ]
    },
    {
      "cell_type": "markdown",
      "metadata": {
        "id": "Sc9j0iv2Ac34"
      },
      "source": [
        "**Weak Linear Relationship**"
      ]
    },
    {
      "cell_type": "code",
      "metadata": {
        "colab": {
          "base_uri": "https://localhost:8080/",
          "height": 296
        },
        "id": "PI9CkP_FAivR",
        "outputId": "71fc6745-69d3-459c-e05d-4667f64fbea9"
      },
      "source": [
        "sns.regplot(x=\"peak-rpm\", y=\"price\", data=d_f)"
      ],
      "execution_count": null,
      "outputs": [
        {
          "data": {
            "text/plain": [
              "<matplotlib.axes._subplots.AxesSubplot at 0x7fa110f54110>"
            ]
          },
          "execution_count": 60,
          "metadata": {},
          "output_type": "execute_result"
        },
        {
          "data": {
            "image/png": "[encoded data removed]",
            "text/plain": [
              "<Figure size 432x288 with 1 Axes>"
            ]
          },
          "metadata": {},
          "output_type": "display_data"
        }
      ]
    },
    {
      "cell_type": "code",
      "metadata": {
        "colab": {
          "base_uri": "https://localhost:8080/",
          "height": 111
        },
        "id": "g8bposXpAk7A",
        "outputId": "0a4a79fc-a1ca-4e7b-e9c3-7c4b8806ec21"
      },
      "source": [
        "d_f[['peak-rpm','price']].corr()"
      ],
      "execution_count": null,
      "outputs": [
        {
          "data": {
            "text/html": [
              "<div>\n",
              "<style scoped>\n",
              "    .dataframe tbody tr th:only-of-type {\n",
              "        vertical-align: middle;\n",
              "    }\n",
              "\n",
              "    .dataframe tbody tr th {\n",
              "        vertical-align: top;\n",
              "    }\n",
              "\n",
              "    .dataframe thead th {\n",
              "        text-align: right;\n",
              "    }\n",
              "</style>\n",
              "<table border=\"1\" class=\"dataframe\">\n",
              "  <thead>\n",
              "    <tr style=\"text-align: right;\">\n",
              "      <th></th>\n",
              "      <th>peak-rpm</th>\n",
              "      <th>price</th>\n",
              "    </tr>\n",
              "  </thead>\n",
              "  <tbody>\n",
              "    <tr>\n",
              "      <th>peak-rpm</th>\n",
              "      <td>1.000000</td>\n",
              "      <td>-0.101542</td>\n",
              "    </tr>\n",
              "    <tr>\n",
              "      <th>price</th>\n",
              "      <td>-0.101542</td>\n",
              "      <td>1.000000</td>\n",
              "    </tr>\n",
              "  </tbody>\n",
              "</table>\n",
              "</div>"
            ],
            "text/plain": [
              "          peak-rpm     price\n",
              "peak-rpm  1.000000 -0.101542\n",
              "price    -0.101542  1.000000"
            ]
          },
          "execution_count": 61,
          "metadata": {},
          "output_type": "execute_result"
        }
      ]
    },
    {
      "cell_type": "code",
      "metadata": {
        "colab": {
          "base_uri": "https://localhost:8080/",
          "height": 296
        },
        "id": "NbmoPRMNLJQW",
        "outputId": "ac10665c-8e9d-4add-bc01-ca9eeb4b9ac1"
      },
      "source": [
        "sns.regplot(x = \"stroke\", y = \"price\", data = d_f)"
      ],
      "execution_count": null,
      "outputs": [
        {
          "data": {
            "text/plain": [
              "<matplotlib.axes._subplots.AxesSubplot at 0x7fa10c78bf90>"
            ]
          },
          "execution_count": 63,
          "metadata": {},
          "output_type": "execute_result"
        },
        {
          "data": {
            "image/png": "[encoded data removed]",
            "text/plain": [
              "<Figure size 432x288 with 1 Axes>"
            ]
          },
          "metadata": {},
          "output_type": "display_data"
        }
      ]
    },
    {
      "cell_type": "code",
      "metadata": {
        "colab": {
          "base_uri": "https://localhost:8080/",
          "height": 111
        },
        "id": "2xZd4lTiK-0H",
        "outputId": "6eba45d8-fd7e-47d2-c7be-21195517ecd9"
      },
      "source": [
        "d_f[[\"stroke\", \"price\"]].corr()"
      ],
      "execution_count": null,
      "outputs": [
        {
          "data": {
            "text/html": [
              "<div>\n",
              "<style scoped>\n",
              "    .dataframe tbody tr th:only-of-type {\n",
              "        vertical-align: middle;\n",
              "    }\n",
              "\n",
              "    .dataframe tbody tr th {\n",
              "        vertical-align: top;\n",
              "    }\n",
              "\n",
              "    .dataframe thead th {\n",
              "        text-align: right;\n",
              "    }\n",
              "</style>\n",
              "<table border=\"1\" class=\"dataframe\">\n",
              "  <thead>\n",
              "    <tr style=\"text-align: right;\">\n",
              "      <th></th>\n",
              "      <th>stroke</th>\n",
              "      <th>price</th>\n",
              "    </tr>\n",
              "  </thead>\n",
              "  <tbody>\n",
              "    <tr>\n",
              "      <th>stroke</th>\n",
              "      <td>1.000000</td>\n",
              "      <td>0.082267</td>\n",
              "    </tr>\n",
              "    <tr>\n",
              "      <th>price</th>\n",
              "      <td>0.082267</td>\n",
              "      <td>1.000000</td>\n",
              "    </tr>\n",
              "  </tbody>\n",
              "</table>\n",
              "</div>"
            ],
            "text/plain": [
              "          stroke     price\n",
              "stroke  1.000000  0.082267\n",
              "price   0.082267  1.000000"
            ]
          },
          "execution_count": 62,
          "metadata": {},
          "output_type": "execute_result"
        }
      ]
    },
    {
      "cell_type": "markdown",
      "metadata": {
        "id": "TZUAWA9DA6Iy"
      },
      "source": [
        "**Categorical Variables**\n",
        "\n",
        "These are variables that describe a 'characteristic' of a data unit, and are selected from a small group of categories. The categorical variables can have the type \"object\" or \"int64\". A good way to visualize categorical variables is by using **boxplots**."
      ]
    },
    {
      "cell_type": "code",
      "metadata": {
        "colab": {
          "base_uri": "https://localhost:8080/",
          "height": 296
        },
        "id": "eQ1VRFKLBDX3",
        "outputId": "306c7504-f9c8-4704-fcd2-ac274dcf6bc6"
      },
      "source": [
        "sns.boxplot(x=\"body-style\", y=\"price\", data=d_f)"
      ],
      "execution_count": null,
      "outputs": [
        {
          "data": {
            "text/plain": [
              "<matplotlib.axes._subplots.AxesSubplot at 0x7fa10c768e90>"
            ]
          },
          "execution_count": 65,
          "metadata": {},
          "output_type": "execute_result"
        },
        {
          "data": {
            "image/png": "[encoded data removed]",
            "text/plain": [
              "<Figure size 432x288 with 1 Axes>"
            ]
          },
          "metadata": {},
          "output_type": "display_data"
        }
      ]
    },
    {
      "cell_type": "markdown",
      "metadata": {
        "id": "p00oQZ2VBKzA"
      },
      "source": [
        "We see that the distributions of price between the different body-style categories have a significant overlap, so body-style would not be a good predictor of price."
      ]
    },
    {
      "cell_type": "code",
      "metadata": {
        "colab": {
          "base_uri": "https://localhost:8080/",
          "height": 296
        },
        "id": "MdR1n4QhBNtV",
        "outputId": "b99172d8-0262-418a-df74-252144029128"
      },
      "source": [
        "sns.boxplot(x=\"engine-location\", y=\"price\", data=d_f)"
      ],
      "execution_count": null,
      "outputs": [
        {
          "data": {
            "text/plain": [
              "<matplotlib.axes._subplots.AxesSubplot at 0x7fa10c65c610>"
            ]
          },
          "execution_count": 66,
          "metadata": {},
          "output_type": "execute_result"
        },
        {
          "data": {
            "image/png": "[encoded data removed]",
            "text/plain": [
              "<Figure size 432x288 with 1 Axes>"
            ]
          },
          "metadata": {},
          "output_type": "display_data"
        }
      ]
    },
    {
      "cell_type": "markdown",
      "metadata": {
        "id": "UXEG7mxGBSUp"
      },
      "source": [
        "Here we see that the distribution of price between these two engine-location categories, front and rear, are distinct enough to take engine-location as a potential good predictor of price."
      ]
    },
    {
      "cell_type": "code",
      "metadata": {
        "colab": {
          "base_uri": "https://localhost:8080/",
          "height": 296
        },
        "id": "I6QGnLXJBWE5",
        "outputId": "08bfa213-6bea-464d-c9bd-b44cf734b746"
      },
      "source": [
        "# drive-wheels\n",
        "sns.boxplot(x=\"drive-wheels\", y=\"price\", data=d_f)"
      ],
      "execution_count": null,
      "outputs": [
        {
          "data": {
            "text/plain": [
              "<matplotlib.axes._subplots.AxesSubplot at 0x7fa10c5e62d0>"
            ]
          },
          "execution_count": 68,
          "metadata": {},
          "output_type": "execute_result"
        },
        {
          "data": {
            "image/png": "[encoded data removed]",
            "text/plain": [
              "<Figure size 432x288 with 1 Axes>"
            ]
          },
          "metadata": {},
          "output_type": "display_data"
        }
      ]
    },
    {
      "cell_type": "markdown",
      "metadata": {
        "id": "et_kzzxaBW5S"
      },
      "source": [
        "Here we see that the distribution of price between the different drive-wheels categories differs. As such, drive-wheels could potentially be a predictor of price."
      ]
    },
    {
      "cell_type": "markdown",
      "metadata": {
        "id": "0boYfR46BftC"
      },
      "source": [
        "**Descriptive Statistical Analysis**\n",
        "\n",
        "The describe function automatically computes basic statistics for all continuous variables. Any NaN values are automatically skipped in these statistics.\n",
        "\n",
        "This will show:\n",
        "\n",
        "* the count of that variable\n",
        "* the mean\n",
        "* the standard deviation (std)\n",
        "* the minimum value\n",
        "* the IQR (Interquartile Range: 25%, 50% and 75%)\n",
        "* the maximum value"
      ]
    },
    {
      "cell_type": "code",
      "metadata": {
        "colab": {
          "base_uri": "https://localhost:8080/",
          "height": 351
        },
        "id": "BATIpCQrDbP5",
        "outputId": "4dc9cb3a-994a-481e-a63f-7f8ed657a62d"
      },
      "source": [
        "d_f.describe()"
      ],
      "execution_count": null,
      "outputs": [
        {
          "data": {
            "text/html": [
              "<div>\n",
              "<style scoped>\n",
              "    .dataframe tbody tr th:only-of-type {\n",
              "        vertical-align: middle;\n",
              "    }\n",
              "\n",
              "    .dataframe tbody tr th {\n",
              "        vertical-align: top;\n",
              "    }\n",
              "\n",
              "    .dataframe thead th {\n",
              "        text-align: right;\n",
              "    }\n",
              "</style>\n",
              "<table border=\"1\" class=\"dataframe\">\n",
              "  <thead>\n",
              "    <tr style=\"text-align: right;\">\n",
              "      <th></th>\n",
              "      <th>symboling</th>\n",
              "      <th>normalized-losses</th>\n",
              "      <th>wheel-base</th>\n",
              "      <th>length</th>\n",
              "      <th>width</th>\n",
              "      <th>height</th>\n",
              "      <th>curb-weight</th>\n",
              "      <th>engine-size</th>\n",
              "      <th>bore</th>\n",
              "      <th>stroke</th>\n",
              "      <th>compression-ratio</th>\n",
              "      <th>horsepower</th>\n",
              "      <th>peak-rpm</th>\n",
              "      <th>city-mpg</th>\n",
              "      <th>highway-L/100km</th>\n",
              "      <th>price</th>\n",
              "      <th>city-L/100km</th>\n",
              "      <th>fuel-type-diesel</th>\n",
              "      <th>fuel-type-gas</th>\n",
              "      <th>aspiration-std</th>\n",
              "      <th>aspiration-turbo</th>\n",
              "    </tr>\n",
              "  </thead>\n",
              "  <tbody>\n",
              "    <tr>\n",
              "      <th>count</th>\n",
              "      <td>201.000000</td>\n",
              "      <td>201.00000</td>\n",
              "      <td>201.000000</td>\n",
              "      <td>201.000000</td>\n",
              "      <td>201.000000</td>\n",
              "      <td>201.000000</td>\n",
              "      <td>201.000000</td>\n",
              "      <td>201.000000</td>\n",
              "      <td>201.000000</td>\n",
              "      <td>201.000000</td>\n",
              "      <td>201.000000</td>\n",
              "      <td>201.000000</td>\n",
              "      <td>201.000000</td>\n",
              "      <td>201.000000</td>\n",
              "      <td>201.000000</td>\n",
              "      <td>201.000000</td>\n",
              "      <td>201.000000</td>\n",
              "      <td>201.000000</td>\n",
              "      <td>201.000000</td>\n",
              "      <td>201.000000</td>\n",
              "      <td>201.000000</td>\n",
              "    </tr>\n",
              "    <tr>\n",
              "      <th>mean</th>\n",
              "      <td>0.840796</td>\n",
              "      <td>122.00000</td>\n",
              "      <td>98.797015</td>\n",
              "      <td>0.837102</td>\n",
              "      <td>0.915126</td>\n",
              "      <td>0.899108</td>\n",
              "      <td>2555.666667</td>\n",
              "      <td>126.875622</td>\n",
              "      <td>3.330711</td>\n",
              "      <td>3.256904</td>\n",
              "      <td>10.164279</td>\n",
              "      <td>103.393035</td>\n",
              "      <td>5117.587940</td>\n",
              "      <td>25.179104</td>\n",
              "      <td>8.044957</td>\n",
              "      <td>13207.129353</td>\n",
              "      <td>9.944145</td>\n",
              "      <td>0.099502</td>\n",
              "      <td>0.900498</td>\n",
              "      <td>0.820896</td>\n",
              "      <td>0.179104</td>\n",
              "    </tr>\n",
              "    <tr>\n",
              "      <th>std</th>\n",
              "      <td>1.254802</td>\n",
              "      <td>31.99625</td>\n",
              "      <td>6.066366</td>\n",
              "      <td>0.059213</td>\n",
              "      <td>0.029187</td>\n",
              "      <td>0.040933</td>\n",
              "      <td>517.296727</td>\n",
              "      <td>41.546834</td>\n",
              "      <td>0.268072</td>\n",
              "      <td>0.316048</td>\n",
              "      <td>4.004965</td>\n",
              "      <td>37.365623</td>\n",
              "      <td>478.113178</td>\n",
              "      <td>6.423220</td>\n",
              "      <td>1.840739</td>\n",
              "      <td>7947.066342</td>\n",
              "      <td>2.534599</td>\n",
              "      <td>0.300083</td>\n",
              "      <td>0.300083</td>\n",
              "      <td>0.384397</td>\n",
              "      <td>0.384397</td>\n",
              "    </tr>\n",
              "    <tr>\n",
              "      <th>min</th>\n",
              "      <td>-2.000000</td>\n",
              "      <td>65.00000</td>\n",
              "      <td>86.600000</td>\n",
              "      <td>0.678039</td>\n",
              "      <td>0.837500</td>\n",
              "      <td>0.799331</td>\n",
              "      <td>1488.000000</td>\n",
              "      <td>61.000000</td>\n",
              "      <td>2.540000</td>\n",
              "      <td>2.070000</td>\n",
              "      <td>7.000000</td>\n",
              "      <td>48.000000</td>\n",
              "      <td>4150.000000</td>\n",
              "      <td>13.000000</td>\n",
              "      <td>4.351852</td>\n",
              "      <td>5118.000000</td>\n",
              "      <td>4.795918</td>\n",
              "      <td>0.000000</td>\n",
              "      <td>0.000000</td>\n",
              "      <td>0.000000</td>\n",
              "      <td>0.000000</td>\n",
              "    </tr>\n",
              "    <tr>\n",
              "      <th>25%</th>\n",
              "      <td>0.000000</td>\n",
              "      <td>101.00000</td>\n",
              "      <td>94.500000</td>\n",
              "      <td>0.801538</td>\n",
              "      <td>0.890278</td>\n",
              "      <td>0.869565</td>\n",
              "      <td>2169.000000</td>\n",
              "      <td>98.000000</td>\n",
              "      <td>3.150000</td>\n",
              "      <td>3.110000</td>\n",
              "      <td>8.600000</td>\n",
              "      <td>70.000000</td>\n",
              "      <td>4800.000000</td>\n",
              "      <td>19.000000</td>\n",
              "      <td>6.911765</td>\n",
              "      <td>7775.000000</td>\n",
              "      <td>7.833333</td>\n",
              "      <td>0.000000</td>\n",
              "      <td>1.000000</td>\n",
              "      <td>1.000000</td>\n",
              "      <td>0.000000</td>\n",
              "    </tr>\n",
              "    <tr>\n",
              "      <th>50%</th>\n",
              "      <td>1.000000</td>\n",
              "      <td>122.00000</td>\n",
              "      <td>97.000000</td>\n",
              "      <td>0.832292</td>\n",
              "      <td>0.909722</td>\n",
              "      <td>0.904682</td>\n",
              "      <td>2414.000000</td>\n",
              "      <td>120.000000</td>\n",
              "      <td>3.310000</td>\n",
              "      <td>3.290000</td>\n",
              "      <td>9.000000</td>\n",
              "      <td>95.000000</td>\n",
              "      <td>5117.587940</td>\n",
              "      <td>24.000000</td>\n",
              "      <td>7.833333</td>\n",
              "      <td>10295.000000</td>\n",
              "      <td>9.791667</td>\n",
              "      <td>0.000000</td>\n",
              "      <td>1.000000</td>\n",
              "      <td>1.000000</td>\n",
              "      <td>0.000000</td>\n",
              "    </tr>\n",
              "    <tr>\n",
              "      <th>75%</th>\n",
              "      <td>2.000000</td>\n",
              "      <td>137.00000</td>\n",
              "      <td>102.400000</td>\n",
              "      <td>0.881788</td>\n",
              "      <td>0.925000</td>\n",
              "      <td>0.928094</td>\n",
              "      <td>2926.000000</td>\n",
              "      <td>141.000000</td>\n",
              "      <td>3.580000</td>\n",
              "      <td>3.410000</td>\n",
              "      <td>9.400000</td>\n",
              "      <td>116.000000</td>\n",
              "      <td>5500.000000</td>\n",
              "      <td>30.000000</td>\n",
              "      <td>9.400000</td>\n",
              "      <td>16500.000000</td>\n",
              "      <td>12.368421</td>\n",
              "      <td>0.000000</td>\n",
              "      <td>1.000000</td>\n",
              "      <td>1.000000</td>\n",
              "      <td>0.000000</td>\n",
              "    </tr>\n",
              "    <tr>\n",
              "      <th>max</th>\n",
              "      <td>3.000000</td>\n",
              "      <td>256.00000</td>\n",
              "      <td>120.900000</td>\n",
              "      <td>1.000000</td>\n",
              "      <td>1.000000</td>\n",
              "      <td>1.000000</td>\n",
              "      <td>4066.000000</td>\n",
              "      <td>326.000000</td>\n",
              "      <td>3.940000</td>\n",
              "      <td>4.170000</td>\n",
              "      <td>23.000000</td>\n",
              "      <td>262.000000</td>\n",
              "      <td>6600.000000</td>\n",
              "      <td>49.000000</td>\n",
              "      <td>14.687500</td>\n",
              "      <td>45400.000000</td>\n",
              "      <td>18.076923</td>\n",
              "      <td>1.000000</td>\n",
              "      <td>1.000000</td>\n",
              "      <td>1.000000</td>\n",
              "      <td>1.000000</td>\n",
              "    </tr>\n",
              "  </tbody>\n",
              "</table>\n",
              "</div>"
            ],
            "text/plain": [
              "        symboling  normalized-losses  ...  aspiration-std  aspiration-turbo\n",
              "count  201.000000          201.00000  ...      201.000000        201.000000\n",
              "mean     0.840796          122.00000  ...        0.820896          0.179104\n",
              "std      1.254802           31.99625  ...        0.384397          0.384397\n",
              "min     -2.000000           65.00000  ...        0.000000          0.000000\n",
              "25%      0.000000          101.00000  ...        1.000000          0.000000\n",
              "50%      1.000000          122.00000  ...        1.000000          0.000000\n",
              "75%      2.000000          137.00000  ...        1.000000          0.000000\n",
              "max      3.000000          256.00000  ...        1.000000          1.000000\n",
              "\n",
              "[8 rows x 21 columns]"
            ]
          },
          "execution_count": 70,
          "metadata": {},
          "output_type": "execute_result"
        }
      ]
    },
    {
      "cell_type": "code",
      "metadata": {
        "colab": {
          "base_uri": "https://localhost:8080/",
          "height": 173
        },
        "id": "_CvUnt13DfQn",
        "outputId": "cc40475c-b26e-4b88-b6d9-734e181b7876"
      },
      "source": [
        "d_f.describe(include = [\"object\"])"
      ],
      "execution_count": null,
      "outputs": [
        {
          "data": {
            "text/html": [
              "<div>\n",
              "<style scoped>\n",
              "    .dataframe tbody tr th:only-of-type {\n",
              "        vertical-align: middle;\n",
              "    }\n",
              "\n",
              "    .dataframe tbody tr th {\n",
              "        vertical-align: top;\n",
              "    }\n",
              "\n",
              "    .dataframe thead th {\n",
              "        text-align: right;\n",
              "    }\n",
              "</style>\n",
              "<table border=\"1\" class=\"dataframe\">\n",
              "  <thead>\n",
              "    <tr style=\"text-align: right;\">\n",
              "      <th></th>\n",
              "      <th>make</th>\n",
              "      <th>num-of-doors</th>\n",
              "      <th>body-style</th>\n",
              "      <th>drive-wheels</th>\n",
              "      <th>engine-location</th>\n",
              "      <th>engine-type</th>\n",
              "      <th>num-of-cylinders</th>\n",
              "      <th>fuel-system</th>\n",
              "    </tr>\n",
              "  </thead>\n",
              "  <tbody>\n",
              "    <tr>\n",
              "      <th>count</th>\n",
              "      <td>201</td>\n",
              "      <td>201</td>\n",
              "      <td>201</td>\n",
              "      <td>201</td>\n",
              "      <td>201</td>\n",
              "      <td>201</td>\n",
              "      <td>201</td>\n",
              "      <td>201</td>\n",
              "    </tr>\n",
              "    <tr>\n",
              "      <th>unique</th>\n",
              "      <td>22</td>\n",
              "      <td>2</td>\n",
              "      <td>5</td>\n",
              "      <td>3</td>\n",
              "      <td>2</td>\n",
              "      <td>6</td>\n",
              "      <td>7</td>\n",
              "      <td>8</td>\n",
              "    </tr>\n",
              "    <tr>\n",
              "      <th>top</th>\n",
              "      <td>toyota</td>\n",
              "      <td>four</td>\n",
              "      <td>sedan</td>\n",
              "      <td>fwd</td>\n",
              "      <td>front</td>\n",
              "      <td>ohc</td>\n",
              "      <td>four</td>\n",
              "      <td>mpfi</td>\n",
              "    </tr>\n",
              "    <tr>\n",
              "      <th>freq</th>\n",
              "      <td>32</td>\n",
              "      <td>115</td>\n",
              "      <td>94</td>\n",
              "      <td>118</td>\n",
              "      <td>198</td>\n",
              "      <td>145</td>\n",
              "      <td>157</td>\n",
              "      <td>92</td>\n",
              "    </tr>\n",
              "  </tbody>\n",
              "</table>\n",
              "</div>"
            ],
            "text/plain": [
              "          make num-of-doors body-style  ... engine-type num-of-cylinders fuel-system\n",
              "count      201          201        201  ...         201              201         201\n",
              "unique      22            2          5  ...           6                7           8\n",
              "top     toyota         four      sedan  ...         ohc             four        mpfi\n",
              "freq        32          115         94  ...         145              157          92\n",
              "\n",
              "[4 rows x 8 columns]"
            ]
          },
          "execution_count": 71,
          "metadata": {},
          "output_type": "execute_result"
        }
      ]
    },
    {
      "cell_type": "markdown",
      "metadata": {
        "id": "LLZZzrPCDscA"
      },
      "source": [
        "**value_counts()**\n",
        "\n",
        "Value counts is a good way of understanding how many units of each characteristic/variable we have.\n",
        "\n",
        "Don’t forget the method \"value_counts\" only works on pandas series, not pandas dataframes"
      ]
    },
    {
      "cell_type": "code",
      "metadata": {
        "colab": {
          "base_uri": "https://localhost:8080/"
        },
        "id": "WGwOoPFWEAob",
        "outputId": "291b8d0c-2aff-4809-f876-62222a177152"
      },
      "source": [
        "d_f[\"drive-wheels\"].value_counts()"
      ],
      "execution_count": null,
      "outputs": [
        {
          "data": {
            "text/plain": [
              "fwd    118\n",
              "rwd     75\n",
              "4wd      8\n",
              "Name: drive-wheels, dtype: int64"
            ]
          },
          "execution_count": 73,
          "metadata": {},
          "output_type": "execute_result"
        }
      ]
    },
    {
      "cell_type": "code",
      "metadata": {
        "colab": {
          "base_uri": "https://localhost:8080/",
          "height": 142
        },
        "id": "Nopd0hBeEOON",
        "outputId": "8dae32b9-46f7-425d-a48b-bb5cb446ff2e"
      },
      "source": [
        "drive_wheels_counts = d_f['drive-wheels'].value_counts().to_frame()\n",
        "drive_wheels_counts.rename(columns={'drive-wheels': 'value_counts'}, inplace=True)\n",
        "drive_wheels_counts"
      ],
      "execution_count": null,
      "outputs": [
        {
          "data": {
            "text/html": [
              "<div>\n",
              "<style scoped>\n",
              "    .dataframe tbody tr th:only-of-type {\n",
              "        vertical-align: middle;\n",
              "    }\n",
              "\n",
              "    .dataframe tbody tr th {\n",
              "        vertical-align: top;\n",
              "    }\n",
              "\n",
              "    .dataframe thead th {\n",
              "        text-align: right;\n",
              "    }\n",
              "</style>\n",
              "<table border=\"1\" class=\"dataframe\">\n",
              "  <thead>\n",
              "    <tr style=\"text-align: right;\">\n",
              "      <th></th>\n",
              "      <th>value_counts</th>\n",
              "    </tr>\n",
              "  </thead>\n",
              "  <tbody>\n",
              "    <tr>\n",
              "      <th>fwd</th>\n",
              "      <td>118</td>\n",
              "    </tr>\n",
              "    <tr>\n",
              "      <th>rwd</th>\n",
              "      <td>75</td>\n",
              "    </tr>\n",
              "    <tr>\n",
              "      <th>4wd</th>\n",
              "      <td>8</td>\n",
              "    </tr>\n",
              "  </tbody>\n",
              "</table>\n",
              "</div>"
            ],
            "text/plain": [
              "     value_counts\n",
              "fwd           118\n",
              "rwd            75\n",
              "4wd             8"
            ]
          },
          "execution_count": 74,
          "metadata": {},
          "output_type": "execute_result"
        }
      ]
    },
    {
      "cell_type": "code",
      "metadata": {
        "colab": {
          "base_uri": "https://localhost:8080/",
          "height": 173
        },
        "id": "BOHLshayES7-",
        "outputId": "3b2e0259-aa88-458d-dd89-c736b61bfd5c"
      },
      "source": [
        "drive_wheels_counts.index.name = 'drive-wheels'\n",
        "drive_wheels_counts"
      ],
      "execution_count": null,
      "outputs": [
        {
          "data": {
            "text/html": [
              "<div>\n",
              "<style scoped>\n",
              "    .dataframe tbody tr th:only-of-type {\n",
              "        vertical-align: middle;\n",
              "    }\n",
              "\n",
              "    .dataframe tbody tr th {\n",
              "        vertical-align: top;\n",
              "    }\n",
              "\n",
              "    .dataframe thead th {\n",
              "        text-align: right;\n",
              "    }\n",
              "</style>\n",
              "<table border=\"1\" class=\"dataframe\">\n",
              "  <thead>\n",
              "    <tr style=\"text-align: right;\">\n",
              "      <th></th>\n",
              "      <th>value_counts</th>\n",
              "    </tr>\n",
              "    <tr>\n",
              "      <th>drive-wheels</th>\n",
              "      <th></th>\n",
              "    </tr>\n",
              "  </thead>\n",
              "  <tbody>\n",
              "    <tr>\n",
              "      <th>fwd</th>\n",
              "      <td>118</td>\n",
              "    </tr>\n",
              "    <tr>\n",
              "      <th>rwd</th>\n",
              "      <td>75</td>\n",
              "    </tr>\n",
              "    <tr>\n",
              "      <th>4wd</th>\n",
              "      <td>8</td>\n",
              "    </tr>\n",
              "  </tbody>\n",
              "</table>\n",
              "</div>"
            ],
            "text/plain": [
              "              value_counts\n",
              "drive-wheels              \n",
              "fwd                    118\n",
              "rwd                     75\n",
              "4wd                      8"
            ]
          },
          "execution_count": 75,
          "metadata": {},
          "output_type": "execute_result"
        }
      ]
    },
    {
      "cell_type": "code",
      "metadata": {
        "colab": {
          "base_uri": "https://localhost:8080/",
          "height": 142
        },
        "id": "GZjNqJIoEa1b",
        "outputId": "ea2f11ea-351a-4202-dc87-e8a5e5f67548"
      },
      "source": [
        "# engine-location as variable\n",
        "engine_loc_counts = d_f['engine-location'].value_counts().to_frame()\n",
        "engine_loc_counts.rename(columns={'engine-location': 'value_counts'}, inplace=True)\n",
        "engine_loc_counts.index.name = 'engine-location'\n",
        "engine_loc_counts.head(10)"
      ],
      "execution_count": null,
      "outputs": [
        {
          "data": {
            "text/html": [
              "<div>\n",
              "<style scoped>\n",
              "    .dataframe tbody tr th:only-of-type {\n",
              "        vertical-align: middle;\n",
              "    }\n",
              "\n",
              "    .dataframe tbody tr th {\n",
              "        vertical-align: top;\n",
              "    }\n",
              "\n",
              "    .dataframe thead th {\n",
              "        text-align: right;\n",
              "    }\n",
              "</style>\n",
              "<table border=\"1\" class=\"dataframe\">\n",
              "  <thead>\n",
              "    <tr style=\"text-align: right;\">\n",
              "      <th></th>\n",
              "      <th>value_counts</th>\n",
              "    </tr>\n",
              "    <tr>\n",
              "      <th>engine-location</th>\n",
              "      <th></th>\n",
              "    </tr>\n",
              "  </thead>\n",
              "  <tbody>\n",
              "    <tr>\n",
              "      <th>front</th>\n",
              "      <td>198</td>\n",
              "    </tr>\n",
              "    <tr>\n",
              "      <th>rear</th>\n",
              "      <td>3</td>\n",
              "    </tr>\n",
              "  </tbody>\n",
              "</table>\n",
              "</div>"
            ],
            "text/plain": [
              "                 value_counts\n",
              "engine-location              \n",
              "front                     198\n",
              "rear                        3"
            ]
          },
          "execution_count": 76,
          "metadata": {},
          "output_type": "execute_result"
        }
      ]
    },
    {
      "cell_type": "markdown",
      "metadata": {
        "id": "OmUQ2QtjOmd1"
      },
      "source": [
        "After examining the value counts of the engine location, we see that engine location would not be a good predictor variable for the price. This is because we only have three cars with a rear engine and 198 with an engine in the front, so this result is skewed. Thus, we are not able to draw any conclusions about the engine location."
      ]
    },
    {
      "cell_type": "markdown",
      "metadata": {
        "id": "hvs0faQkzinW"
      },
      "source": [
        "**Basics of grouping**\n",
        "\n",
        "The \"groupby\" method groups data by different categories. The data is grouped based on one or several variables, and analysis is performed on the individual groups.\n"
      ]
    },
    {
      "cell_type": "code",
      "metadata": {
        "colab": {
          "base_uri": "https://localhost:8080/"
        },
        "id": "3wXAYZUIztaj",
        "outputId": "35947ba0-ff0e-4a7f-f42d-cd07bdd6af1c"
      },
      "source": [
        "d_f[\"drive-wheels\"].unique()"
      ],
      "execution_count": null,
      "outputs": [
        {
          "data": {
            "text/plain": [
              "array(['rwd', 'fwd', '4wd'], dtype=object)"
            ]
          },
          "execution_count": 77,
          "metadata": {},
          "output_type": "execute_result"
        }
      ]
    },
    {
      "cell_type": "markdown",
      "metadata": {
        "id": "VCsv138lz1fA"
      },
      "source": [
        "If we want to know, on average, which type of drive wheel is most valuable, we can group \"drive-wheels\" and then average them.\n",
        "\n",
        "We can select the columns 'drive-wheels', 'body-style' and 'price', then assign it to the variable \"df_group_one\".\n"
      ]
    },
    {
      "cell_type": "code",
      "metadata": {
        "id": "qlTpZFbgz5o3"
      },
      "source": [
        "d_f_group_one = d_f[['drive-wheels','body-style','price']]"
      ],
      "execution_count": null,
      "outputs": []
    },
    {
      "cell_type": "markdown",
      "metadata": {
        "id": "cDjuRa1Q0Gd0"
      },
      "source": [
        "We can then calculate the average price for each of the different categories of data."
      ]
    },
    {
      "cell_type": "code",
      "metadata": {
        "colab": {
          "base_uri": "https://localhost:8080/",
          "height": 142
        },
        "id": "FJqWy2KW0F4m",
        "outputId": "9629581a-bbbe-4f3b-a881-a3943b1d2c28"
      },
      "source": [
        "# grouping results\n",
        "d_f_group_one = d_f_group_one.groupby(['drive-wheels'],as_index=False).mean()\n",
        "d_f_group_one"
      ],
      "execution_count": null,
      "outputs": [
        {
          "data": {
            "text/html": [
              "<div>\n",
              "<style scoped>\n",
              "    .dataframe tbody tr th:only-of-type {\n",
              "        vertical-align: middle;\n",
              "    }\n",
              "\n",
              "    .dataframe tbody tr th {\n",
              "        vertical-align: top;\n",
              "    }\n",
              "\n",
              "    .dataframe thead th {\n",
              "        text-align: right;\n",
              "    }\n",
              "</style>\n",
              "<table border=\"1\" class=\"dataframe\">\n",
              "  <thead>\n",
              "    <tr style=\"text-align: right;\">\n",
              "      <th></th>\n",
              "      <th>drive-wheels</th>\n",
              "      <th>price</th>\n",
              "    </tr>\n",
              "  </thead>\n",
              "  <tbody>\n",
              "    <tr>\n",
              "      <th>0</th>\n",
              "      <td>4wd</td>\n",
              "      <td>10241.000000</td>\n",
              "    </tr>\n",
              "    <tr>\n",
              "      <th>1</th>\n",
              "      <td>fwd</td>\n",
              "      <td>9244.779661</td>\n",
              "    </tr>\n",
              "    <tr>\n",
              "      <th>2</th>\n",
              "      <td>rwd</td>\n",
              "      <td>19757.613333</td>\n",
              "    </tr>\n",
              "  </tbody>\n",
              "</table>\n",
              "</div>"
            ],
            "text/plain": [
              "  drive-wheels         price\n",
              "0          4wd  10241.000000\n",
              "1          fwd   9244.779661\n",
              "2          rwd  19757.613333"
            ]
          },
          "execution_count": 79,
          "metadata": {},
          "output_type": "execute_result"
        }
      ]
    },
    {
      "cell_type": "markdown",
      "metadata": {
        "id": "wGZmkjvL0Phr"
      },
      "source": [
        "From our data, it seems rear-wheel drive vehicles are, on average, the most expensive, while 4-wheel and front-wheel are approximately the same in price.\n"
      ]
    },
    {
      "cell_type": "markdown",
      "metadata": {
        "id": "KQ5qN85aPUxL"
      },
      "source": [
        "You can also group by multiple variables. For example, let's group by both 'drive-wheels' and 'body-style'. This groups the dataframe by the unique combination of 'drive-wheels' and 'body-style'. We can store the results in the variable 'grouped_test1'."
      ]
    },
    {
      "cell_type": "code",
      "metadata": {
        "colab": {
          "base_uri": "https://localhost:8080/",
          "height": 452
        },
        "id": "Ob5iqOU8PTBI",
        "outputId": "9bf5dabe-d3de-4d1a-f9d6-249ef14fd8e5"
      },
      "source": [
        "d_f_gptest = d_f[[\"drive-wheels\", \"body-style\", \"price\"]]\n",
        "grouped_test1 = d_f_gptest.groupby([\"drive-wheels\", \"body-style\"], as_index = False).mean()\n",
        "grouped_test1"
      ],
      "execution_count": null,
      "outputs": [
        {
          "data": {
            "text/html": [
              "<div>\n",
              "<style scoped>\n",
              "    .dataframe tbody tr th:only-of-type {\n",
              "        vertical-align: middle;\n",
              "    }\n",
              "\n",
              "    .dataframe tbody tr th {\n",
              "        vertical-align: top;\n",
              "    }\n",
              "\n",
              "    .dataframe thead th {\n",
              "        text-align: right;\n",
              "    }\n",
              "</style>\n",
              "<table border=\"1\" class=\"dataframe\">\n",
              "  <thead>\n",
              "    <tr style=\"text-align: right;\">\n",
              "      <th></th>\n",
              "      <th>drive-wheels</th>\n",
              "      <th>body-style</th>\n",
              "      <th>price</th>\n",
              "    </tr>\n",
              "  </thead>\n",
              "  <tbody>\n",
              "    <tr>\n",
              "      <th>0</th>\n",
              "      <td>4wd</td>\n",
              "      <td>hatchback</td>\n",
              "      <td>7603.000000</td>\n",
              "    </tr>\n",
              "    <tr>\n",
              "      <th>1</th>\n",
              "      <td>4wd</td>\n",
              "      <td>sedan</td>\n",
              "      <td>12647.333333</td>\n",
              "    </tr>\n",
              "    <tr>\n",
              "      <th>2</th>\n",
              "      <td>4wd</td>\n",
              "      <td>wagon</td>\n",
              "      <td>9095.750000</td>\n",
              "    </tr>\n",
              "    <tr>\n",
              "      <th>3</th>\n",
              "      <td>fwd</td>\n",
              "      <td>convertible</td>\n",
              "      <td>11595.000000</td>\n",
              "    </tr>\n",
              "    <tr>\n",
              "      <th>4</th>\n",
              "      <td>fwd</td>\n",
              "      <td>hardtop</td>\n",
              "      <td>8249.000000</td>\n",
              "    </tr>\n",
              "    <tr>\n",
              "      <th>5</th>\n",
              "      <td>fwd</td>\n",
              "      <td>hatchback</td>\n",
              "      <td>8396.387755</td>\n",
              "    </tr>\n",
              "    <tr>\n",
              "      <th>6</th>\n",
              "      <td>fwd</td>\n",
              "      <td>sedan</td>\n",
              "      <td>9811.800000</td>\n",
              "    </tr>\n",
              "    <tr>\n",
              "      <th>7</th>\n",
              "      <td>fwd</td>\n",
              "      <td>wagon</td>\n",
              "      <td>9997.333333</td>\n",
              "    </tr>\n",
              "    <tr>\n",
              "      <th>8</th>\n",
              "      <td>rwd</td>\n",
              "      <td>convertible</td>\n",
              "      <td>23949.600000</td>\n",
              "    </tr>\n",
              "    <tr>\n",
              "      <th>9</th>\n",
              "      <td>rwd</td>\n",
              "      <td>hardtop</td>\n",
              "      <td>24202.714286</td>\n",
              "    </tr>\n",
              "    <tr>\n",
              "      <th>10</th>\n",
              "      <td>rwd</td>\n",
              "      <td>hatchback</td>\n",
              "      <td>14337.777778</td>\n",
              "    </tr>\n",
              "    <tr>\n",
              "      <th>11</th>\n",
              "      <td>rwd</td>\n",
              "      <td>sedan</td>\n",
              "      <td>21711.833333</td>\n",
              "    </tr>\n",
              "    <tr>\n",
              "      <th>12</th>\n",
              "      <td>rwd</td>\n",
              "      <td>wagon</td>\n",
              "      <td>16994.222222</td>\n",
              "    </tr>\n",
              "  </tbody>\n",
              "</table>\n",
              "</div>"
            ],
            "text/plain": [
              "   drive-wheels   body-style         price\n",
              "0           4wd    hatchback   7603.000000\n",
              "1           4wd        sedan  12647.333333\n",
              "2           4wd        wagon   9095.750000\n",
              "3           fwd  convertible  11595.000000\n",
              "4           fwd      hardtop   8249.000000\n",
              "5           fwd    hatchback   8396.387755\n",
              "6           fwd        sedan   9811.800000\n",
              "7           fwd        wagon   9997.333333\n",
              "8           rwd  convertible  23949.600000\n",
              "9           rwd      hardtop  24202.714286\n",
              "10          rwd    hatchback  14337.777778\n",
              "11          rwd        sedan  21711.833333\n",
              "12          rwd        wagon  16994.222222"
            ]
          },
          "execution_count": 80,
          "metadata": {},
          "output_type": "execute_result"
        }
      ]
    },
    {
      "cell_type": "markdown",
      "metadata": {
        "id": "892LW2bu0XhT"
      },
      "source": [
        "This grouped data is much easier to visualize when it is made into a **pivot table**. A pivot table is like an Excel spreadsheet, with one variable along the column and another along the row. We can convert the dataframe to a pivot table using the method \"pivot\" to create a pivot table from the groups."
      ]
    },
    {
      "cell_type": "code",
      "metadata": {
        "colab": {
          "base_uri": "https://localhost:8080/",
          "height": 204
        },
        "id": "H00YYyvm0kNI",
        "outputId": "01f83838-5cd5-4020-a19c-00282e711227"
      },
      "source": [
        "grouped_pivot = grouped_test1.pivot(index='drive-wheels',columns='body-style')\n",
        "grouped_pivot"
      ],
      "execution_count": null,
      "outputs": [
        {
          "data": {
            "text/html": [
              "<div>\n",
              "<style scoped>\n",
              "    .dataframe tbody tr th:only-of-type {\n",
              "        vertical-align: middle;\n",
              "    }\n",
              "\n",
              "    .dataframe tbody tr th {\n",
              "        vertical-align: top;\n",
              "    }\n",
              "\n",
              "    .dataframe thead tr th {\n",
              "        text-align: left;\n",
              "    }\n",
              "\n",
              "    .dataframe thead tr:last-of-type th {\n",
              "        text-align: right;\n",
              "    }\n",
              "</style>\n",
              "<table border=\"1\" class=\"dataframe\">\n",
              "  <thead>\n",
              "    <tr>\n",
              "      <th></th>\n",
              "      <th colspan=\"5\" halign=\"left\">price</th>\n",
              "    </tr>\n",
              "    <tr>\n",
              "      <th>body-style</th>\n",
              "      <th>convertible</th>\n",
              "      <th>hardtop</th>\n",
              "      <th>hatchback</th>\n",
              "      <th>sedan</th>\n",
              "      <th>wagon</th>\n",
              "    </tr>\n",
              "    <tr>\n",
              "      <th>drive-wheels</th>\n",
              "      <th></th>\n",
              "      <th></th>\n",
              "      <th></th>\n",
              "      <th></th>\n",
              "      <th></th>\n",
              "    </tr>\n",
              "  </thead>\n",
              "  <tbody>\n",
              "    <tr>\n",
              "      <th>4wd</th>\n",
              "      <td>NaN</td>\n",
              "      <td>NaN</td>\n",
              "      <td>7603.000000</td>\n",
              "      <td>12647.333333</td>\n",
              "      <td>9095.750000</td>\n",
              "    </tr>\n",
              "    <tr>\n",
              "      <th>fwd</th>\n",
              "      <td>11595.0</td>\n",
              "      <td>8249.000000</td>\n",
              "      <td>8396.387755</td>\n",
              "      <td>9811.800000</td>\n",
              "      <td>9997.333333</td>\n",
              "    </tr>\n",
              "    <tr>\n",
              "      <th>rwd</th>\n",
              "      <td>23949.6</td>\n",
              "      <td>24202.714286</td>\n",
              "      <td>14337.777778</td>\n",
              "      <td>21711.833333</td>\n",
              "      <td>16994.222222</td>\n",
              "    </tr>\n",
              "  </tbody>\n",
              "</table>\n",
              "</div>"
            ],
            "text/plain": [
              "                   price                ...                            \n",
              "body-style   convertible       hardtop  ...         sedan         wagon\n",
              "drive-wheels                            ...                            \n",
              "4wd                  NaN           NaN  ...  12647.333333   9095.750000\n",
              "fwd              11595.0   8249.000000  ...   9811.800000   9997.333333\n",
              "rwd              23949.6  24202.714286  ...  21711.833333  16994.222222\n",
              "\n",
              "[3 rows x 5 columns]"
            ]
          },
          "execution_count": 81,
          "metadata": {},
          "output_type": "execute_result"
        }
      ]
    },
    {
      "cell_type": "markdown",
      "metadata": {
        "id": "DDHsZT2W0rBt"
      },
      "source": [
        "Often, we won't have data for some of the pivot cells. We can fill these missing cells with the value 0, but any other value could potentially be used as well. It should be mentioned that missing data is quite a complex subject and is an entire course on its own."
      ]
    },
    {
      "cell_type": "code",
      "metadata": {
        "colab": {
          "base_uri": "https://localhost:8080/",
          "height": 204
        },
        "id": "w8mFpqya0twg",
        "outputId": "55c5c6de-515f-4c2d-ba05-15897d7c16ca"
      },
      "source": [
        "grouped_pivot = grouped_pivot.fillna(0) #fill missing values with 0\n",
        "grouped_pivot"
      ],
      "execution_count": null,
      "outputs": [
        {
          "data": {
            "text/html": [
              "<div>\n",
              "<style scoped>\n",
              "    .dataframe tbody tr th:only-of-type {\n",
              "        vertical-align: middle;\n",
              "    }\n",
              "\n",
              "    .dataframe tbody tr th {\n",
              "        vertical-align: top;\n",
              "    }\n",
              "\n",
              "    .dataframe thead tr th {\n",
              "        text-align: left;\n",
              "    }\n",
              "\n",
              "    .dataframe thead tr:last-of-type th {\n",
              "        text-align: right;\n",
              "    }\n",
              "</style>\n",
              "<table border=\"1\" class=\"dataframe\">\n",
              "  <thead>\n",
              "    <tr>\n",
              "      <th></th>\n",
              "      <th colspan=\"5\" halign=\"left\">price</th>\n",
              "    </tr>\n",
              "    <tr>\n",
              "      <th>body-style</th>\n",
              "      <th>convertible</th>\n",
              "      <th>hardtop</th>\n",
              "      <th>hatchback</th>\n",
              "      <th>sedan</th>\n",
              "      <th>wagon</th>\n",
              "    </tr>\n",
              "    <tr>\n",
              "      <th>drive-wheels</th>\n",
              "      <th></th>\n",
              "      <th></th>\n",
              "      <th></th>\n",
              "      <th></th>\n",
              "      <th></th>\n",
              "    </tr>\n",
              "  </thead>\n",
              "  <tbody>\n",
              "    <tr>\n",
              "      <th>4wd</th>\n",
              "      <td>0.0</td>\n",
              "      <td>0.000000</td>\n",
              "      <td>7603.000000</td>\n",
              "      <td>12647.333333</td>\n",
              "      <td>9095.750000</td>\n",
              "    </tr>\n",
              "    <tr>\n",
              "      <th>fwd</th>\n",
              "      <td>11595.0</td>\n",
              "      <td>8249.000000</td>\n",
              "      <td>8396.387755</td>\n",
              "      <td>9811.800000</td>\n",
              "      <td>9997.333333</td>\n",
              "    </tr>\n",
              "    <tr>\n",
              "      <th>rwd</th>\n",
              "      <td>23949.6</td>\n",
              "      <td>24202.714286</td>\n",
              "      <td>14337.777778</td>\n",
              "      <td>21711.833333</td>\n",
              "      <td>16994.222222</td>\n",
              "    </tr>\n",
              "  </tbody>\n",
              "</table>\n",
              "</div>"
            ],
            "text/plain": [
              "                   price                ...                            \n",
              "body-style   convertible       hardtop  ...         sedan         wagon\n",
              "drive-wheels                            ...                            \n",
              "4wd                  0.0      0.000000  ...  12647.333333   9095.750000\n",
              "fwd              11595.0   8249.000000  ...   9811.800000   9997.333333\n",
              "rwd              23949.6  24202.714286  ...  21711.833333  16994.222222\n",
              "\n",
              "[3 rows x 5 columns]"
            ]
          },
          "execution_count": 82,
          "metadata": {},
          "output_type": "execute_result"
        }
      ]
    },
    {
      "cell_type": "code",
      "metadata": {
        "colab": {
          "base_uri": "https://localhost:8080/",
          "height": 204
        },
        "id": "aGh8sLKh06AI",
        "outputId": "3c86c6fb-09ac-4a8e-acd3-de0a18310e50"
      },
      "source": [
        "# grouping results\n",
        "d_f_gptest2 = d_f[['body-style','price']]\n",
        "grouped_test_bodystyle = d_f_gptest2.groupby(['body-style'],as_index= False).mean()\n",
        "grouped_test_bodystyle"
      ],
      "execution_count": null,
      "outputs": [
        {
          "data": {
            "text/html": [
              "<div>\n",
              "<style scoped>\n",
              "    .dataframe tbody tr th:only-of-type {\n",
              "        vertical-align: middle;\n",
              "    }\n",
              "\n",
              "    .dataframe tbody tr th {\n",
              "        vertical-align: top;\n",
              "    }\n",
              "\n",
              "    .dataframe thead th {\n",
              "        text-align: right;\n",
              "    }\n",
              "</style>\n",
              "<table border=\"1\" class=\"dataframe\">\n",
              "  <thead>\n",
              "    <tr style=\"text-align: right;\">\n",
              "      <th></th>\n",
              "      <th>body-style</th>\n",
              "      <th>price</th>\n",
              "    </tr>\n",
              "  </thead>\n",
              "  <tbody>\n",
              "    <tr>\n",
              "      <th>0</th>\n",
              "      <td>convertible</td>\n",
              "      <td>21890.500000</td>\n",
              "    </tr>\n",
              "    <tr>\n",
              "      <th>1</th>\n",
              "      <td>hardtop</td>\n",
              "      <td>22208.500000</td>\n",
              "    </tr>\n",
              "    <tr>\n",
              "      <th>2</th>\n",
              "      <td>hatchback</td>\n",
              "      <td>9957.441176</td>\n",
              "    </tr>\n",
              "    <tr>\n",
              "      <th>3</th>\n",
              "      <td>sedan</td>\n",
              "      <td>14459.755319</td>\n",
              "    </tr>\n",
              "    <tr>\n",
              "      <th>4</th>\n",
              "      <td>wagon</td>\n",
              "      <td>12371.960000</td>\n",
              "    </tr>\n",
              "  </tbody>\n",
              "</table>\n",
              "</div>"
            ],
            "text/plain": [
              "    body-style         price\n",
              "0  convertible  21890.500000\n",
              "1      hardtop  22208.500000\n",
              "2    hatchback   9957.441176\n",
              "3        sedan  14459.755319\n",
              "4        wagon  12371.960000"
            ]
          },
          "execution_count": 83,
          "metadata": {},
          "output_type": "execute_result"
        }
      ]
    },
    {
      "cell_type": "markdown",
      "metadata": {
        "id": "_R5nBx1mRK4S"
      },
      "source": [
        "**Vairables: Drive Wheels and Body Style vs. Price**\n",
        "\n",
        "ñet´s use a heat map to visualize the relationship between Body Style and Price"
      ]
    },
    {
      "cell_type": "code",
      "metadata": {
        "colab": {
          "base_uri": "https://localhost:8080/",
          "height": 311
        },
        "id": "1ntiFUXGRWty",
        "outputId": "ca8d4118-01a3-45dc-bec0-f7248597d2b4"
      },
      "source": [
        "fig, ax = plt.subplots()\n",
        "im = ax.pcolor(grouped_pivot, cmap = \"RdBu\")\n",
        "\n",
        "#Label names\n",
        "row_labels = grouped_pivot.columns.levels[1]\n",
        "col_labels = grouped_pivot.index\n",
        "\n",
        "#Move\n",
        "ax.set_xticks(np.arange(grouped_pivot.shape[1]) + 0.5, minor = False)\n",
        "ax.set_yticks(np.arange(grouped_pivot.shape[0]) + 0.5, minor = False)\n",
        "\n",
        "#insert labels\n",
        "ax.set_xticklabels(row_labels, minor = False)\n",
        "ax.set_yticklabels(col_labels, minor = False)\n",
        "\n",
        "#rotate label if too long\n",
        "plt.xticks(rotation = 90)\n",
        "\n",
        "fig.colorbar(im)\n",
        "plt.show()"
      ],
      "execution_count": null,
      "outputs": [
        {
          "data": {
            "image/png": "[encoded data removed]",
            "text/plain": [
              "<Figure size 432x288 with 2 Axes>"
            ]
          },
          "metadata": {},
          "output_type": "display_data"
        }
      ]
    },
    {
      "cell_type": "markdown",
      "metadata": {
        "id": "hgnhS1EgRlc9"
      },
      "source": [
        "The heatmap plots the target variable proportional to colour with respect to the variables on the vertical and horizontal axis, respectively. This allows us to visualize how the price is related to drive-wheel and bodt-style"
      ]
    },
    {
      "cell_type": "markdown",
      "metadata": {
        "id": "LNo1JBGNTMmq"
      },
      "source": [
        "**Correlation and Causation**\n",
        "\n",
        "*Correlation*: A measure of the extent of interdependence between variables\n",
        "\n",
        "*Causation*: The relationship between cause and effect between two variables\n",
        "\n",
        "Determinig correlation is much simpler the determining causation as causation may require independent experiment\n",
        "\n",
        "**Pearson Correlation**\n",
        "\n",
        "Measures the linear dependence between two variables\n",
        "The resylting value is between [-1, 1] inclusive, where:\n",
        "* 1: Predict Positive Linear Correlation\n",
        "* 0: No linear correlation\n",
        "* -1: Perfect Negative Correlation\n",
        "\n",
        "**P-Value**\n",
        "\n",
        "is the probability values that the correlation between these two variables is statistically significant. Normally, we choose a significanse level of 0.05 which means that we are 95% confident that the correlation between the variables is significant"
      ]
    },
    {
      "cell_type": "code",
      "metadata": {
        "id": "z4WQjFl8ZM3N"
      },
      "source": [
        "from scipy import stats"
      ],
      "execution_count": null,
      "outputs": []
    },
    {
      "cell_type": "code",
      "metadata": {
        "colab": {
          "base_uri": "https://localhost:8080/"
        },
        "id": "8KRphZCDZRK2",
        "outputId": "03295d4e-ba32-4bac-f21d-a37baacb308f"
      },
      "source": [
        "#Wheel-Base vs Price\n",
        "\n",
        "pearson_coef, p_value = stats.pearsonr(d_f[\"wheel-base\"], d_f[\"price\"])\n",
        "print(\"The pearson Correlation Coefficient is: {}  and the p-value is: {}\".format(pearson_coef, p_value))"
      ],
      "execution_count": null,
      "outputs": [
        {
          "name": "stdout",
          "output_type": "stream",
          "text": [
            "The pearson Correlation Coefficient is: 0.584641822265508  and the p-value is: 8.076488270733218e-20\n"
          ]
        }
      ]
    },
    {
      "cell_type": "code",
      "metadata": {
        "colab": {
          "base_uri": "https://localhost:8080/"
        },
        "id": "wKI-tDLQZzgF",
        "outputId": "8fc448df-6e0b-4192-e375-18f6d7789e57"
      },
      "source": [
        "#Horsepower vs Price\n",
        "\n",
        "pearson_coef, p_value = stats.pearsonr(d_f[\"horsepower\"], d_f[\"price\"])\n",
        "print(\"The pearson Correlation Coefficient is: {}  and the p-value is: {}\".format(pearson_coef, p_value))"
      ],
      "execution_count": null,
      "outputs": [
        {
          "name": "stdout",
          "output_type": "stream",
          "text": [
            "The pearson Correlation Coefficient is: 0.8097290352560285  and the p-value is: 5.924001027593172e-48\n"
          ]
        }
      ]
    },
    {
      "cell_type": "code",
      "metadata": {
        "colab": {
          "base_uri": "https://localhost:8080/"
        },
        "id": "NDOya02haAUD",
        "outputId": "16a3334c-628c-4750-bed6-0581d77c47b3"
      },
      "source": [
        "#Width vs Price\n",
        "\n",
        "pearson_coef, p_value = stats.pearsonr(d_f[\"width\"], d_f[\"price\"])\n",
        "print(\"The pearson Correlation Coefficient is: {}  and the p-value is: {}\".format(pearson_coef, p_value))"
      ],
      "execution_count": null,
      "outputs": [
        {
          "name": "stdout",
          "output_type": "stream",
          "text": [
            "The pearson Correlation Coefficient is: 0.7512653440522673  and the p-value is: 9.200335510481646e-38\n"
          ]
        }
      ]
    },
    {
      "cell_type": "code",
      "metadata": {
        "colab": {
          "base_uri": "https://localhost:8080/"
        },
        "id": "IXrms_COaRgk",
        "outputId": "b831597e-7c53-4761-b967-fd08a591d65a"
      },
      "source": [
        "#Curb-Weigth vs Price\n",
        "\n",
        "pearson_coef, p_value = stats.pearsonr(d_f[\"curb-weight\"], d_f[\"price\"])\n",
        "print(\"The pearson Correlation Coefficient is: {}  and the p-value is: {}\".format(pearson_coef, p_value))"
      ],
      "execution_count": null,
      "outputs": [
        {
          "name": "stdout",
          "output_type": "stream",
          "text": [
            "The pearson Correlation Coefficient is: 0.8344145257702843  and the p-value is: 2.189577238894065e-53\n"
          ]
        }
      ]
    },
    {
      "cell_type": "code",
      "metadata": {
        "colab": {
          "base_uri": "https://localhost:8080/"
        },
        "id": "Df-SGMgkab7J",
        "outputId": "62ecfe84-5401-41a8-df39-ef755ddc06c4"
      },
      "source": [
        "#Wheel-Base vs Price\n",
        "\n",
        "pearson_coef, p_value = stats.pearsonr(d_f[\"engine-size\"], d_f[\"price\"])\n",
        "print(\"The pearson Correlation Coefficient is: {}  and the p-value is: {}\".format(pearson_coef, p_value))"
      ],
      "execution_count": null,
      "outputs": [
        {
          "name": "stdout",
          "output_type": "stream",
          "text": [
            "The pearson Correlation Coefficient is: 0.8723351674455185  and the p-value is: 9.265491622198389e-64\n"
          ]
        }
      ]
    },
    {
      "cell_type": "code",
      "metadata": {
        "colab": {
          "base_uri": "https://localhost:8080/"
        },
        "id": "UhcaUAC9bWAo",
        "outputId": "48eca6d3-d318-4ba8-8412-27c01117c34b"
      },
      "source": [
        "#Wheel-Base vs Price\n",
        "\n",
        "pearson_coef, p_value = stats.pearsonr(d_f[\"bore\"], d_f[\"price\"])\n",
        "print(\"The pearson Correlation Coefficient is: {}  and the p-value is: {}\".format(pearson_coef, p_value))"
      ],
      "execution_count": null,
      "outputs": [
        {
          "name": "stdout",
          "output_type": "stream",
          "text": [
            "The pearson Correlation Coefficient is: 0.5431537659807734  and the p-value is: 8.051208825441016e-17\n"
          ]
        }
      ]
    },
    {
      "cell_type": "code",
      "metadata": {
        "colab": {
          "base_uri": "https://localhost:8080/"
        },
        "id": "RrTtRoOuba5o",
        "outputId": "a210d751-e081-4746-af67-a2bb661cbf0c"
      },
      "source": [
        "#Wheel-Base vs Price\n",
        "\n",
        "pearson_coef, p_value = stats.pearsonr(d_f[\"city-mpg\"], d_f[\"price\"])\n",
        "print(\"The pearson Correlation Coefficient is: {}  and the p-value is: {}\".format(pearson_coef, p_value))"
      ],
      "execution_count": null,
      "outputs": [
        {
          "name": "stdout",
          "output_type": "stream",
          "text": [
            "The pearson Correlation Coefficient is: -0.6865710067844677  and the p-value is: 2.321132065567674e-29\n"
          ]
        }
      ]
    },
    {
      "cell_type": "code",
      "metadata": {
        "colab": {
          "base_uri": "https://localhost:8080/"
        },
        "id": "Ob5rAzh4bhGJ",
        "outputId": "b1809e94-b3ed-4676-f8ff-2ed1c559b409"
      },
      "source": [
        "#Wheel-Base vs Price\n",
        "\n",
        "pearson_coef, p_value = stats.pearsonr(d_f[\"highway-L/100km\"], d_f[\"price\"])\n",
        "print(\"The pearson Correlation Coefficient is: {}  and the p-value is: {}\".format(pearson_coef, p_value))"
      ],
      "execution_count": null,
      "outputs": [
        {
          "name": "stdout",
          "output_type": "stream",
          "text": [
            "The pearson Correlation Coefficient is: 0.8011176263981974  and the p-value is: 3.046784581041456e-46\n"
          ]
        }
      ]
    },
    {
      "cell_type": "markdown",
      "metadata": {
        "id": "Uv0uvz1zbuwv"
      },
      "source": [
        "**ANOVA**\n",
        "\n",
        "The analysis of Variance (ANOVA) is a statistical method used td test whether there are significant differences between the means of two or more groups\n",
        "\n",
        "*f-test score*: ANOVA assumes the means of all groups are the same, calculates how much the actual means deviate from the assumption, and reports to as the f-test score. **A larger score means there is a larger difference between means.**\n",
        "\n",
        "*P-value*: tells how statistically out calculated score value is\n",
        "\n",
        "\n"
      ]
    },
    {
      "cell_type": "code",
      "metadata": {
        "colab": {
          "base_uri": "https://localhost:8080/",
          "height": 204
        },
        "id": "jw_XICRNc6ej",
        "outputId": "71542763-36d7-440f-8c0d-5a7553c2c464"
      },
      "source": [
        "d_f_gptest.head()"
      ],
      "execution_count": null,
      "outputs": [
        {
          "data": {
            "text/html": [
              "<div>\n",
              "<style scoped>\n",
              "    .dataframe tbody tr th:only-of-type {\n",
              "        vertical-align: middle;\n",
              "    }\n",
              "\n",
              "    .dataframe tbody tr th {\n",
              "        vertical-align: top;\n",
              "    }\n",
              "\n",
              "    .dataframe thead th {\n",
              "        text-align: right;\n",
              "    }\n",
              "</style>\n",
              "<table border=\"1\" class=\"dataframe\">\n",
              "  <thead>\n",
              "    <tr style=\"text-align: right;\">\n",
              "      <th></th>\n",
              "      <th>drive-wheels</th>\n",
              "      <th>body-style</th>\n",
              "      <th>price</th>\n",
              "    </tr>\n",
              "  </thead>\n",
              "  <tbody>\n",
              "    <tr>\n",
              "      <th>0</th>\n",
              "      <td>rwd</td>\n",
              "      <td>convertible</td>\n",
              "      <td>13495.0</td>\n",
              "    </tr>\n",
              "    <tr>\n",
              "      <th>1</th>\n",
              "      <td>rwd</td>\n",
              "      <td>convertible</td>\n",
              "      <td>16500.0</td>\n",
              "    </tr>\n",
              "    <tr>\n",
              "      <th>2</th>\n",
              "      <td>rwd</td>\n",
              "      <td>hatchback</td>\n",
              "      <td>16500.0</td>\n",
              "    </tr>\n",
              "    <tr>\n",
              "      <th>3</th>\n",
              "      <td>fwd</td>\n",
              "      <td>sedan</td>\n",
              "      <td>13950.0</td>\n",
              "    </tr>\n",
              "    <tr>\n",
              "      <th>4</th>\n",
              "      <td>4wd</td>\n",
              "      <td>sedan</td>\n",
              "      <td>17450.0</td>\n",
              "    </tr>\n",
              "  </tbody>\n",
              "</table>\n",
              "</div>"
            ],
            "text/plain": [
              "  drive-wheels   body-style    price\n",
              "0          rwd  convertible  13495.0\n",
              "1          rwd  convertible  16500.0\n",
              "2          rwd    hatchback  16500.0\n",
              "3          fwd        sedan  13950.0\n",
              "4          4wd        sedan  17450.0"
            ]
          },
          "execution_count": 97,
          "metadata": {},
          "output_type": "execute_result"
        }
      ]
    },
    {
      "cell_type": "code",
      "metadata": {
        "colab": {
          "base_uri": "https://localhost:8080/",
          "height": 235
        },
        "id": "YyMc_mE1coP6",
        "outputId": "41fd0e6b-388c-45d7-b53e-930d33152fe6"
      },
      "source": [
        "grouped_test2 = d_f_gptest[[\"drive-wheels\", \"price\"]].groupby([\"drive-wheels\"])\n",
        "grouped_test2.head(2)"
      ],
      "execution_count": null,
      "outputs": [
        {
          "data": {
            "text/html": [
              "<div>\n",
              "<style scoped>\n",
              "    .dataframe tbody tr th:only-of-type {\n",
              "        vertical-align: middle;\n",
              "    }\n",
              "\n",
              "    .dataframe tbody tr th {\n",
              "        vertical-align: top;\n",
              "    }\n",
              "\n",
              "    .dataframe thead th {\n",
              "        text-align: right;\n",
              "    }\n",
              "</style>\n",
              "<table border=\"1\" class=\"dataframe\">\n",
              "  <thead>\n",
              "    <tr style=\"text-align: right;\">\n",
              "      <th></th>\n",
              "      <th>drive-wheels</th>\n",
              "      <th>price</th>\n",
              "    </tr>\n",
              "  </thead>\n",
              "  <tbody>\n",
              "    <tr>\n",
              "      <th>0</th>\n",
              "      <td>rwd</td>\n",
              "      <td>13495.0</td>\n",
              "    </tr>\n",
              "    <tr>\n",
              "      <th>1</th>\n",
              "      <td>rwd</td>\n",
              "      <td>16500.0</td>\n",
              "    </tr>\n",
              "    <tr>\n",
              "      <th>3</th>\n",
              "      <td>fwd</td>\n",
              "      <td>13950.0</td>\n",
              "    </tr>\n",
              "    <tr>\n",
              "      <th>4</th>\n",
              "      <td>4wd</td>\n",
              "      <td>17450.0</td>\n",
              "    </tr>\n",
              "    <tr>\n",
              "      <th>5</th>\n",
              "      <td>fwd</td>\n",
              "      <td>15250.0</td>\n",
              "    </tr>\n",
              "    <tr>\n",
              "      <th>136</th>\n",
              "      <td>4wd</td>\n",
              "      <td>7603.0</td>\n",
              "    </tr>\n",
              "  </tbody>\n",
              "</table>\n",
              "</div>"
            ],
            "text/plain": [
              "    drive-wheels    price\n",
              "0            rwd  13495.0\n",
              "1            rwd  16500.0\n",
              "3            fwd  13950.0\n",
              "4            4wd  17450.0\n",
              "5            fwd  15250.0\n",
              "136          4wd   7603.0"
            ]
          },
          "execution_count": 99,
          "metadata": {},
          "output_type": "execute_result"
        }
      ]
    },
    {
      "cell_type": "markdown",
      "metadata": {
        "id": "yu5iyiPwdbV0"
      },
      "source": [
        "we can obtain the values of the methos group using the method \n",
        "\n",
        "**get_group** \n",
        "\n",
        "Construct DataFrame from group with provided name."
      ]
    },
    {
      "cell_type": "code",
      "metadata": {
        "colab": {
          "base_uri": "https://localhost:8080/"
        },
        "id": "1ZB1qZLRdoXo",
        "outputId": "08ae8a75-b8e4-48a1-da4d-2fc1d09bdf1e"
      },
      "source": [
        "grouped_test2.get_group(\"4wd\")[\"price\"]"
      ],
      "execution_count": null,
      "outputs": [
        {
          "data": {
            "text/plain": [
              "4      17450.0\n",
              "136     7603.0\n",
              "140     9233.0\n",
              "141    11259.0\n",
              "144     8013.0\n",
              "145    11694.0\n",
              "150     7898.0\n",
              "151     8778.0\n",
              "Name: price, dtype: float64"
            ]
          },
          "execution_count": 100,
          "metadata": {},
          "output_type": "execute_result"
        }
      ]
    },
    {
      "cell_type": "markdown",
      "metadata": {
        "id": "hpmeTBc4d5UV"
      },
      "source": [
        "we can use the function **f_oneway** in the module **stats** to obatain the **F.test** score and **P-value**\n",
        "\n"
      ]
    },
    {
      "cell_type": "code",
      "metadata": {
        "colab": {
          "base_uri": "https://localhost:8080/"
        },
        "id": "RCcYWJ-_dzzr",
        "outputId": "a4482269-7cbe-4e5a-e9c4-77e512f8511e"
      },
      "source": [
        "f_val, p_val = stats.f_oneway(grouped_test2.get_group(\"fwd\")[\"price\"], grouped_test2.get_group(\"rwd\")[\"price\"], grouped_test2.get_group(\"4wd\")[\"price\"])\n",
        "print(\"ANOVA results: F = {}, p = {}\".format(f_val, p_val))"
      ],
      "execution_count": null,
      "outputs": [
        {
          "name": "stdout",
          "output_type": "stream",
          "text": [
            "ANOVA results: F = 67.95406500780399, p = 3.3945443577151245e-23\n"
          ]
        }
      ]
    },
    {
      "cell_type": "markdown",
      "metadata": {
        "id": "Mlp3IJWQe0R1"
      },
      "source": [
        "This is a great result with a large F-test score showing a strong correlation and P-value of almost 0 implying almost certain statistical significance. But does this mean all three groups are all this highly correlated?\n",
        "\n",
        "let´s examine them separately"
      ]
    },
    {
      "cell_type": "code",
      "metadata": {
        "colab": {
          "base_uri": "https://localhost:8080/"
        },
        "id": "5V3v0_MRfOGh",
        "outputId": "2accadc2-9340-4007-b52d-a03e4684734d"
      },
      "source": [
        "#fwd and rwd\n",
        "f_val, p_val = stats.f_oneway(grouped_test2.get_group(\"fwd\")[\"price\"], grouped_test2.get_group(\"rwd\")[\"price\"])\n",
        "print(\"ANOVA results: F = {}, p = {}\".format(f_val, p_val))"
      ],
      "execution_count": null,
      "outputs": [
        {
          "name": "stdout",
          "output_type": "stream",
          "text": [
            "ANOVA results: F = 130.5533160959111, p = 2.2355306355677845e-23\n"
          ]
        }
      ]
    },
    {
      "cell_type": "code",
      "metadata": {
        "colab": {
          "base_uri": "https://localhost:8080/"
        },
        "id": "Sn5borhWfYW_",
        "outputId": "c6bfd759-6767-432f-dc70-478d31fc4b20"
      },
      "source": [
        "#4wd and rwd\n",
        "f_val, p_val = stats.f_oneway(grouped_test2.get_group(\"rwd\")[\"price\"], grouped_test2.get_group(\"4wd\")[\"price\"])\n",
        "print(\"ANOVA results: F = {}, p = {}\".format(f_val, p_val))"
      ],
      "execution_count": null,
      "outputs": [
        {
          "name": "stdout",
          "output_type": "stream",
          "text": [
            "ANOVA results: F = 8.580681368924756, p = 0.004411492211225333\n"
          ]
        }
      ]
    },
    {
      "cell_type": "code",
      "metadata": {
        "colab": {
          "base_uri": "https://localhost:8080/"
        },
        "id": "TVv2fOB0fgx9",
        "outputId": "99740d58-eacb-451b-a268-9621ca29508c"
      },
      "source": [
        "#fwd and 4wd\n",
        "f_val, p_val = stats.f_oneway(grouped_test2.get_group(\"fwd\")[\"price\"],  grouped_test2.get_group(\"4wd\")[\"price\"])\n",
        "print(\"ANOVA results: F = {}, p = {}\".format(f_val, p_val))"
      ],
      "execution_count": null,
      "outputs": [
        {
          "name": "stdout",
          "output_type": "stream",
          "text": [
            "ANOVA results: F = 0.6654657502523033, p = 0.41620116697845666\n"
          ]
        }
      ]
    },
    {
      "cell_type": "markdown",
      "metadata": {
        "id": "qWn-zMzdfxJ5"
      },
      "source": [
        "We now have a better idea of what our data looks like variables are important to take when predicting the car price. we have narrowed it down to the following variables_\n",
        "\n",
        "Continuous variables:\n",
        "* Length\n",
        "* Width\n",
        "* Curb-weight\n",
        "* Engine-size\n",
        "* Horsepower\n",
        "* City-mpg\n",
        "* Highway-L/100km\n",
        "* Wheel-base\n",
        "* Bore\n",
        "\n",
        "Categorical variables\n",
        "* Drive-wheels\n",
        "\n",
        "As we now move into building machine learning models to automate our analysis feeding our analysis the model with variables that meaningfully affect our target variable will improve our model's prediction performance"
      ]
    },
    {
      "cell_type": "markdown",
      "metadata": {
        "id": "q169cvJeu4VO"
      },
      "source": [
        "# Module 4 - Model Development"
      ]
    },
    {
      "cell_type": "code",
      "metadata": {
        "colab": {
          "base_uri": "https://localhost:8080/",
          "height": 309
        },
        "id": "d9VpcZ3hTVml",
        "outputId": "245eb7a5-0c11-4d7b-b676-90e0346cfab3"
      },
      "source": [
        "df = pd.read_csv(\"clean_automobile.csv\")\n",
        "df.head()"
      ],
      "execution_count": null,
      "outputs": [
        {
          "output_type": "execute_result",
          "data": {
            "text/html": [
              "<div>\n",
              "<style scoped>\n",
              "    .dataframe tbody tr th:only-of-type {\n",
              "        vertical-align: middle;\n",
              "    }\n",
              "\n",
              "    .dataframe tbody tr th {\n",
              "        vertical-align: top;\n",
              "    }\n",
              "\n",
              "    .dataframe thead th {\n",
              "        text-align: right;\n",
              "    }\n",
              "</style>\n",
              "<table border=\"1\" class=\"dataframe\">\n",
              "  <thead>\n",
              "    <tr style=\"text-align: right;\">\n",
              "      <th></th>\n",
              "      <th>symboling</th>\n",
              "      <th>normalized-losses</th>\n",
              "      <th>make</th>\n",
              "      <th>num-of-doors</th>\n",
              "      <th>body-style</th>\n",
              "      <th>drive-wheels</th>\n",
              "      <th>engine-location</th>\n",
              "      <th>wheel-base</th>\n",
              "      <th>length</th>\n",
              "      <th>width</th>\n",
              "      <th>height</th>\n",
              "      <th>curb-weight</th>\n",
              "      <th>engine-type</th>\n",
              "      <th>num-of-cylinders</th>\n",
              "      <th>engine-size</th>\n",
              "      <th>fuel-system</th>\n",
              "      <th>bore</th>\n",
              "      <th>stroke</th>\n",
              "      <th>compression-ratio</th>\n",
              "      <th>horsepower</th>\n",
              "      <th>peak-rpm</th>\n",
              "      <th>city-mpg</th>\n",
              "      <th>highway-L/100km</th>\n",
              "      <th>price</th>\n",
              "      <th>city-L/100km</th>\n",
              "      <th>horsepower-binned</th>\n",
              "      <th>fuel-type-diesel</th>\n",
              "      <th>fuel-type-gas</th>\n",
              "      <th>aspiration-std</th>\n",
              "      <th>aspiration-turbo</th>\n",
              "    </tr>\n",
              "  </thead>\n",
              "  <tbody>\n",
              "    <tr>\n",
              "      <th>0</th>\n",
              "      <td>3</td>\n",
              "      <td>122</td>\n",
              "      <td>alfa-romero</td>\n",
              "      <td>two</td>\n",
              "      <td>convertible</td>\n",
              "      <td>rwd</td>\n",
              "      <td>front</td>\n",
              "      <td>88.6</td>\n",
              "      <td>0.811148</td>\n",
              "      <td>0.890278</td>\n",
              "      <td>0.816054</td>\n",
              "      <td>2548</td>\n",
              "      <td>dohc</td>\n",
              "      <td>four</td>\n",
              "      <td>130</td>\n",
              "      <td>mpfi</td>\n",
              "      <td>3.47</td>\n",
              "      <td>2.68</td>\n",
              "      <td>9.0</td>\n",
              "      <td>111</td>\n",
              "      <td>5000.0</td>\n",
              "      <td>21</td>\n",
              "      <td>8.703704</td>\n",
              "      <td>13495.0</td>\n",
              "      <td>11.190476</td>\n",
              "      <td>Low</td>\n",
              "      <td>0</td>\n",
              "      <td>1</td>\n",
              "      <td>1</td>\n",
              "      <td>0</td>\n",
              "    </tr>\n",
              "    <tr>\n",
              "      <th>1</th>\n",
              "      <td>3</td>\n",
              "      <td>122</td>\n",
              "      <td>alfa-romero</td>\n",
              "      <td>two</td>\n",
              "      <td>convertible</td>\n",
              "      <td>rwd</td>\n",
              "      <td>front</td>\n",
              "      <td>88.6</td>\n",
              "      <td>0.811148</td>\n",
              "      <td>0.890278</td>\n",
              "      <td>0.816054</td>\n",
              "      <td>2548</td>\n",
              "      <td>dohc</td>\n",
              "      <td>four</td>\n",
              "      <td>130</td>\n",
              "      <td>mpfi</td>\n",
              "      <td>3.47</td>\n",
              "      <td>2.68</td>\n",
              "      <td>9.0</td>\n",
              "      <td>111</td>\n",
              "      <td>5000.0</td>\n",
              "      <td>21</td>\n",
              "      <td>8.703704</td>\n",
              "      <td>16500.0</td>\n",
              "      <td>11.190476</td>\n",
              "      <td>Low</td>\n",
              "      <td>0</td>\n",
              "      <td>1</td>\n",
              "      <td>1</td>\n",
              "      <td>0</td>\n",
              "    </tr>\n",
              "    <tr>\n",
              "      <th>2</th>\n",
              "      <td>1</td>\n",
              "      <td>122</td>\n",
              "      <td>alfa-romero</td>\n",
              "      <td>two</td>\n",
              "      <td>hatchback</td>\n",
              "      <td>rwd</td>\n",
              "      <td>front</td>\n",
              "      <td>94.5</td>\n",
              "      <td>0.822681</td>\n",
              "      <td>0.909722</td>\n",
              "      <td>0.876254</td>\n",
              "      <td>2823</td>\n",
              "      <td>ohcv</td>\n",
              "      <td>six</td>\n",
              "      <td>152</td>\n",
              "      <td>mpfi</td>\n",
              "      <td>2.68</td>\n",
              "      <td>3.47</td>\n",
              "      <td>9.0</td>\n",
              "      <td>154</td>\n",
              "      <td>5000.0</td>\n",
              "      <td>19</td>\n",
              "      <td>9.038462</td>\n",
              "      <td>16500.0</td>\n",
              "      <td>12.368421</td>\n",
              "      <td>Medium</td>\n",
              "      <td>0</td>\n",
              "      <td>1</td>\n",
              "      <td>1</td>\n",
              "      <td>0</td>\n",
              "    </tr>\n",
              "    <tr>\n",
              "      <th>3</th>\n",
              "      <td>2</td>\n",
              "      <td>164</td>\n",
              "      <td>audi</td>\n",
              "      <td>four</td>\n",
              "      <td>sedan</td>\n",
              "      <td>fwd</td>\n",
              "      <td>front</td>\n",
              "      <td>99.8</td>\n",
              "      <td>0.848630</td>\n",
              "      <td>0.919444</td>\n",
              "      <td>0.908027</td>\n",
              "      <td>2337</td>\n",
              "      <td>ohc</td>\n",
              "      <td>four</td>\n",
              "      <td>109</td>\n",
              "      <td>mpfi</td>\n",
              "      <td>3.19</td>\n",
              "      <td>3.40</td>\n",
              "      <td>10.0</td>\n",
              "      <td>102</td>\n",
              "      <td>5500.0</td>\n",
              "      <td>24</td>\n",
              "      <td>7.833333</td>\n",
              "      <td>13950.0</td>\n",
              "      <td>9.791667</td>\n",
              "      <td>Low</td>\n",
              "      <td>0</td>\n",
              "      <td>1</td>\n",
              "      <td>1</td>\n",
              "      <td>0</td>\n",
              "    </tr>\n",
              "    <tr>\n",
              "      <th>4</th>\n",
              "      <td>2</td>\n",
              "      <td>164</td>\n",
              "      <td>audi</td>\n",
              "      <td>four</td>\n",
              "      <td>sedan</td>\n",
              "      <td>4wd</td>\n",
              "      <td>front</td>\n",
              "      <td>99.4</td>\n",
              "      <td>0.848630</td>\n",
              "      <td>0.922222</td>\n",
              "      <td>0.908027</td>\n",
              "      <td>2824</td>\n",
              "      <td>ohc</td>\n",
              "      <td>five</td>\n",
              "      <td>136</td>\n",
              "      <td>mpfi</td>\n",
              "      <td>3.19</td>\n",
              "      <td>3.40</td>\n",
              "      <td>8.0</td>\n",
              "      <td>115</td>\n",
              "      <td>5500.0</td>\n",
              "      <td>18</td>\n",
              "      <td>10.681818</td>\n",
              "      <td>17450.0</td>\n",
              "      <td>13.055556</td>\n",
              "      <td>Low</td>\n",
              "      <td>0</td>\n",
              "      <td>1</td>\n",
              "      <td>1</td>\n",
              "      <td>0</td>\n",
              "    </tr>\n",
              "  </tbody>\n",
              "</table>\n",
              "</div>"
            ],
            "text/plain": [
              "   symboling  normalized-losses  ... aspiration-std aspiration-turbo\n",
              "0          3                122  ...              1                0\n",
              "1          3                122  ...              1                0\n",
              "2          1                122  ...              1                0\n",
              "3          2                164  ...              1                0\n",
              "4          2                164  ...              1                0\n",
              "\n",
              "[5 rows x 30 columns]"
            ]
          },
          "metadata": {},
          "execution_count": 2
        }
      ]
    },
    {
      "cell_type": "markdown",
      "metadata": {
        "id": "jqpJ5qUjTvKd"
      },
      "source": [
        "**Linear Regression & Multiple Linear Regression**\n",
        "\n",
        "*Linear Regression* \n",
        "\n",
        "is a method to help understand the relationship between two variables\n",
        "* The predictor/independent variable (X)\n",
        "* The response/dependent variable (Y)\n",
        "\n",
        "Linear function\n",
        "\n",
        "$yhat = a + b X$\n",
        "\n",
        "*a* = refers to the intercept of the regression\n",
        "\n",
        "*b* = refers to the slope of the regression"
      ]
    },
    {
      "cell_type": "code",
      "metadata": {
        "id": "iSgyr7UQu9w3"
      },
      "source": [
        "from sklearn.linear_model import LinearRegression"
      ],
      "execution_count": null,
      "outputs": []
    },
    {
      "cell_type": "code",
      "metadata": {
        "colab": {
          "base_uri": "https://localhost:8080/"
        },
        "id": "njAoPg5WUvJR",
        "outputId": "4cfe9195-31af-4cdc-8845-3941b8af7949"
      },
      "source": [
        "lr = LinearRegression()\n",
        "lr"
      ],
      "execution_count": null,
      "outputs": [
        {
          "output_type": "execute_result",
          "data": {
            "text/plain": [
              "LinearRegression(copy_X=True, fit_intercept=True, n_jobs=None, normalize=False)"
            ]
          },
          "metadata": {},
          "execution_count": 4
        }
      ]
    },
    {
      "cell_type": "markdown",
      "metadata": {
        "id": "fynuxxDjU4bD"
      },
      "source": [
        "How could \"highwaay-L/100km\" help us predict car price?"
      ]
    },
    {
      "cell_type": "code",
      "metadata": {
        "colab": {
          "base_uri": "https://localhost:8080/"
        },
        "id": "JxyZJOn1U_xP",
        "outputId": "7a653fc7-5f8f-42a2-a84d-3c91e477324a"
      },
      "source": [
        "x = df[[\"highway-L/100km\"]]\n",
        "y = df[\"price\"]\n",
        "\n",
        "lr.fit(x, y)"
      ],
      "execution_count": null,
      "outputs": [
        {
          "output_type": "execute_result",
          "data": {
            "text/plain": [
              "LinearRegression(copy_X=True, fit_intercept=True, n_jobs=None, normalize=False)"
            ]
          },
          "metadata": {},
          "execution_count": 5
        }
      ]
    },
    {
      "cell_type": "code",
      "metadata": {
        "colab": {
          "base_uri": "https://localhost:8080/"
        },
        "id": "o3SBCNQ6Vd5m",
        "outputId": "9607c571-baec-4c31-e14f-e55c89470301"
      },
      "source": [
        "yhat = lr.predict(x)\n",
        "print(\"The normal data\")\n",
        "print(y[0:5])\n",
        "print(\"\")\n",
        "print(\"The prediction data\")\n",
        "print(yhat[0:5])"
      ],
      "execution_count": null,
      "outputs": [
        {
          "output_type": "stream",
          "name": "stdout",
          "text": [
            "The normal data\n",
            "0    13495.0\n",
            "1    16500.0\n",
            "2    16500.0\n",
            "3    13950.0\n",
            "4    17450.0\n",
            "Name: price, dtype: float64\n",
            "\n",
            "The prediction data\n",
            "[15485.52737455 15485.52737455 16643.34931414 12475.19033163\n",
            " 22327.2024721 ]\n"
          ]
        }
      ]
    },
    {
      "cell_type": "code",
      "metadata": {
        "colab": {
          "base_uri": "https://localhost:8080/"
        },
        "id": "IaY2f2-oV-0I",
        "outputId": "e3b6d711-e5c9-40fc-cc51-0427a818fd92"
      },
      "source": [
        "print(\"The intercept: {}, and the slope: {}\".format(lr.intercept_, lr.coef_))"
      ],
      "execution_count": null,
      "outputs": [
        {
          "output_type": "stream",
          "name": "stdout",
          "text": [
            "The intercept: -14617.843054664605, and the slope: [3458.68511314]\n"
          ]
        }
      ]
    },
    {
      "cell_type": "markdown",
      "metadata": {
        "id": "Lrz6ZTW7WUI1"
      },
      "source": [
        "the linear model with the structure\n",
        "\n",
        "$yhat = -14617.84 + 3458 * (Highway L/100km)$"
      ]
    },
    {
      "cell_type": "markdown",
      "metadata": {
        "id": "6klifCLcWuNA"
      },
      "source": [
        "How could the \"engine size\" help us predict car price?"
      ]
    },
    {
      "cell_type": "code",
      "metadata": {
        "id": "yDfsIF6uW082"
      },
      "source": [
        "lr_1 = LinearRegression()"
      ],
      "execution_count": null,
      "outputs": []
    },
    {
      "cell_type": "code",
      "metadata": {
        "colab": {
          "base_uri": "https://localhost:8080/"
        },
        "id": "rrouSCJFW34V",
        "outputId": "3c986bdb-ecc8-4577-dfbf-c3132bc8acc6"
      },
      "source": [
        "lr_1.fit(df[[\"engine-size\"]], df[\"price\"])\n",
        "lr_1"
      ],
      "execution_count": null,
      "outputs": [
        {
          "output_type": "execute_result",
          "data": {
            "text/plain": [
              "LinearRegression(copy_X=True, fit_intercept=True, n_jobs=None, normalize=False)"
            ]
          },
          "metadata": {},
          "execution_count": 9
        }
      ]
    },
    {
      "cell_type": "code",
      "metadata": {
        "colab": {
          "base_uri": "https://localhost:8080/"
        },
        "id": "fVBpxFsXXI3t",
        "outputId": "7a7d3bb9-a3aa-41dc-f40a-427a71ca70f2"
      },
      "source": [
        "print(\"The intercept: {}, and the slope: {}\".format(lr_1.intercept_, lr_1.coef_))"
      ],
      "execution_count": null,
      "outputs": [
        {
          "output_type": "stream",
          "name": "stdout",
          "text": [
            "The intercept: -7963.338906281042, and the slope: [166.86001569]\n"
          ]
        }
      ]
    },
    {
      "cell_type": "markdown",
      "metadata": {
        "id": "HhcUolDGXYYH"
      },
      "source": [
        "the linear function is:\n",
        "\n",
        "$yhat = -7963.33 + 166.86 * (Engine size)$"
      ]
    },
    {
      "cell_type": "markdown",
      "metadata": {
        "id": "MgRB5jCcXoFz"
      },
      "source": [
        "**Multiple linear Regression**\n",
        "\n",
        "if we want to use more variables in our model to predict car price\n",
        "\n",
        "this method is used to explain the relationship between onde contiuous response (dependent) and two or more predictors (independent) variables\n",
        "\n",
        "$y: Response Variable$\n",
        "\n",
        "$x_1: Predictor variable 1$\n",
        "\n",
        "$x_2: Predictor variable 2$\n",
        "\n",
        "$x_n: Predictor variable 3$\n",
        "\n",
        "$b_1: coeff variable 1$\n",
        "\n",
        "$b_2: coeff variable 2$\n",
        "\n",
        "$b_n: coeff variable 3$\n",
        "\n",
        "$yhat = a + b_1 * x_1 + b_2 * x_2 + b_3 * x_3$"
      ]
    },
    {
      "cell_type": "code",
      "metadata": {
        "colab": {
          "base_uri": "https://localhost:8080/",
          "height": 204
        },
        "id": "9Iedy0bKYop0",
        "outputId": "b03ed226-edb9-4c57-9240-679ed348ad12"
      },
      "source": [
        "z = df[[\"horsepower\", \"curb-weight\", \"engine-size\", \"highway-L/100km\"]]\n",
        "y = df[\"price\"]\n",
        "z.head()"
      ],
      "execution_count": null,
      "outputs": [
        {
          "output_type": "execute_result",
          "data": {
            "text/html": [
              "<div>\n",
              "<style scoped>\n",
              "    .dataframe tbody tr th:only-of-type {\n",
              "        vertical-align: middle;\n",
              "    }\n",
              "\n",
              "    .dataframe tbody tr th {\n",
              "        vertical-align: top;\n",
              "    }\n",
              "\n",
              "    .dataframe thead th {\n",
              "        text-align: right;\n",
              "    }\n",
              "</style>\n",
              "<table border=\"1\" class=\"dataframe\">\n",
              "  <thead>\n",
              "    <tr style=\"text-align: right;\">\n",
              "      <th></th>\n",
              "      <th>horsepower</th>\n",
              "      <th>curb-weight</th>\n",
              "      <th>engine-size</th>\n",
              "      <th>highway-L/100km</th>\n",
              "    </tr>\n",
              "  </thead>\n",
              "  <tbody>\n",
              "    <tr>\n",
              "      <th>0</th>\n",
              "      <td>111</td>\n",
              "      <td>2548</td>\n",
              "      <td>130</td>\n",
              "      <td>8.703704</td>\n",
              "    </tr>\n",
              "    <tr>\n",
              "      <th>1</th>\n",
              "      <td>111</td>\n",
              "      <td>2548</td>\n",
              "      <td>130</td>\n",
              "      <td>8.703704</td>\n",
              "    </tr>\n",
              "    <tr>\n",
              "      <th>2</th>\n",
              "      <td>154</td>\n",
              "      <td>2823</td>\n",
              "      <td>152</td>\n",
              "      <td>9.038462</td>\n",
              "    </tr>\n",
              "    <tr>\n",
              "      <th>3</th>\n",
              "      <td>102</td>\n",
              "      <td>2337</td>\n",
              "      <td>109</td>\n",
              "      <td>7.833333</td>\n",
              "    </tr>\n",
              "    <tr>\n",
              "      <th>4</th>\n",
              "      <td>115</td>\n",
              "      <td>2824</td>\n",
              "      <td>136</td>\n",
              "      <td>10.681818</td>\n",
              "    </tr>\n",
              "  </tbody>\n",
              "</table>\n",
              "</div>"
            ],
            "text/plain": [
              "   horsepower  curb-weight  engine-size  highway-L/100km\n",
              "0         111         2548          130         8.703704\n",
              "1         111         2548          130         8.703704\n",
              "2         154         2823          152         9.038462\n",
              "3         102         2337          109         7.833333\n",
              "4         115         2824          136        10.681818"
            ]
          },
          "metadata": {},
          "execution_count": 11
        }
      ]
    },
    {
      "cell_type": "code",
      "metadata": {
        "colab": {
          "base_uri": "https://localhost:8080/"
        },
        "id": "S1gwQFraY99V",
        "outputId": "e5b0ba2d-8c61-48cb-a5fd-b70deaf72dd7"
      },
      "source": [
        "lr_2 = LinearRegression()\n",
        "lr_2"
      ],
      "execution_count": null,
      "outputs": [
        {
          "output_type": "execute_result",
          "data": {
            "text/plain": [
              "LinearRegression(copy_X=True, fit_intercept=True, n_jobs=None, normalize=False)"
            ]
          },
          "metadata": {},
          "execution_count": 12
        }
      ]
    },
    {
      "cell_type": "code",
      "metadata": {
        "colab": {
          "base_uri": "https://localhost:8080/"
        },
        "id": "sXLCP6CDZElk",
        "outputId": "d545288f-6bb5-4776-a7f5-2823d66adc30"
      },
      "source": [
        "lr_2.fit(z, y)\n",
        "lr_2"
      ],
      "execution_count": null,
      "outputs": [
        {
          "output_type": "execute_result",
          "data": {
            "text/plain": [
              "LinearRegression(copy_X=True, fit_intercept=True, n_jobs=None, normalize=False)"
            ]
          },
          "metadata": {},
          "execution_count": 13
        }
      ]
    },
    {
      "cell_type": "code",
      "metadata": {
        "colab": {
          "base_uri": "https://localhost:8080/"
        },
        "id": "Xctct3KmZKmg",
        "outputId": "9cebfaf4-8867-4105-fa1a-bc3da78a0622"
      },
      "source": [
        "print(\"the intercept: {}, and the coefficients: {}\".format(lr_2.intercept_, lr_2.coef_))"
      ],
      "execution_count": null,
      "outputs": [
        {
          "output_type": "stream",
          "name": "stdout",
          "text": [
            "the intercept: -14382.161315163678, and the coefficients: [ 36.76149419   3.50153554  85.32658561 498.91963877]\n"
          ]
        }
      ]
    },
    {
      "cell_type": "markdown",
      "metadata": {
        "id": "QiqmBt3qZZwB"
      },
      "source": [
        "The multiple Linear regression model is:\n",
        "\n",
        "$yhat = -14382.16 + 36.76 * (horsepower) + 3.5 * (curbweight) + 85.32 * (enginesize) + 498.91 * (highwayL/100km)$"
      ]
    },
    {
      "cell_type": "markdown",
      "metadata": {
        "id": "9fyuu_CqZ4V6"
      },
      "source": [
        "How could the \"engine size\" and \"normalized losses\" help us predict car price?"
      ]
    },
    {
      "cell_type": "code",
      "metadata": {
        "colab": {
          "base_uri": "https://localhost:8080/"
        },
        "id": "7ma_ar13aBJS",
        "outputId": "3ab10e39-3f56-4d42-acd5-d51081de50dc"
      },
      "source": [
        "lr_3 = LinearRegression()\n",
        "lr_3.fit(df[[\"normalized-losses\", \"highway-L/100km\"]], df[\"price\"])\n",
        "print(\"the intercept: {}, and the coefficients: {}\".format(lr_3.intercept_, lr_3.coef_))"
      ],
      "execution_count": null,
      "outputs": [
        {
          "output_type": "stream",
          "name": "stdout",
          "text": [
            "the intercept: -14340.935762266603, and the coefficients: [-2.86467994e+00  3.46770737e+03]\n"
          ]
        }
      ]
    },
    {
      "cell_type": "markdown",
      "metadata": {
        "id": "yIoWwLmPae9j"
      },
      "source": [
        "**Model evaluation using visualization**\n",
        "\n",
        "Now that we've developed some models, how do we evaluare out models and choose the best one?"
      ]
    },
    {
      "cell_type": "code",
      "metadata": {
        "colab": {
          "base_uri": "https://localhost:8080/",
          "height": 388
        },
        "id": "OTpw2rmEawpB",
        "outputId": "983b1a99-072e-495c-b1f5-f3b0f688e6f0"
      },
      "source": [
        "width = 8\n",
        "height = 6\n",
        "\n",
        "plt.figure(figsize = (width, height))\n",
        "sns.regplot(x = \"highway-L/100km\", y = \"price\", data = df)\n",
        "plt.ylim(0, )\n",
        "plt.show()"
      ],
      "execution_count": null,
      "outputs": [
        {
          "output_type": "display_data",
          "data": {
            "image/png": "[encoded data removed]",
            "text/plain": [
              "<Figure size 576x432 with 1 Axes>"
            ]
          },
          "metadata": {
            "needs_background": "light"
          }
        }
      ]
    },
    {
      "cell_type": "code",
      "metadata": {
        "colab": {
          "base_uri": "https://localhost:8080/",
          "height": 388
        },
        "id": "tIUKzjaSbWqp",
        "outputId": "fe915b5c-07fe-48b9-9242-2dff78203071"
      },
      "source": [
        "width = 8\n",
        "height = 6\n",
        "\n",
        "plt.figure(figsize = (width, height))\n",
        "sns.regplot(x = \"peak-rpm\", y = \"price\", data = df)\n",
        "plt.ylim(0, )\n",
        "plt.show()"
      ],
      "execution_count": null,
      "outputs": [
        {
          "output_type": "display_data",
          "data": {
            "image/png": "[encoded data removed]",
            "text/plain": [
              "<Figure size 576x432 with 1 Axes>"
            ]
          },
          "metadata": {
            "needs_background": "light"
          }
        }
      ]
    },
    {
      "cell_type": "code",
      "metadata": {
        "colab": {
          "base_uri": "https://localhost:8080/",
          "height": 142
        },
        "id": "Uh6XbPs-biBh",
        "outputId": "d9c5f59e-dc89-4699-89d2-49e579d88cf2"
      },
      "source": [
        "df[[\"highway-L/100km\", \"peak-rpm\", \"price\"]].corr()"
      ],
      "execution_count": null,
      "outputs": [
        {
          "output_type": "execute_result",
          "data": {
            "text/html": [
              "<div>\n",
              "<style scoped>\n",
              "    .dataframe tbody tr th:only-of-type {\n",
              "        vertical-align: middle;\n",
              "    }\n",
              "\n",
              "    .dataframe tbody tr th {\n",
              "        vertical-align: top;\n",
              "    }\n",
              "\n",
              "    .dataframe thead th {\n",
              "        text-align: right;\n",
              "    }\n",
              "</style>\n",
              "<table border=\"1\" class=\"dataframe\">\n",
              "  <thead>\n",
              "    <tr style=\"text-align: right;\">\n",
              "      <th></th>\n",
              "      <th>highway-L/100km</th>\n",
              "      <th>peak-rpm</th>\n",
              "      <th>price</th>\n",
              "    </tr>\n",
              "  </thead>\n",
              "  <tbody>\n",
              "    <tr>\n",
              "      <th>highway-L/100km</th>\n",
              "      <td>1.000000</td>\n",
              "      <td>0.017736</td>\n",
              "      <td>0.801118</td>\n",
              "    </tr>\n",
              "    <tr>\n",
              "      <th>peak-rpm</th>\n",
              "      <td>0.017736</td>\n",
              "      <td>1.000000</td>\n",
              "      <td>-0.101542</td>\n",
              "    </tr>\n",
              "    <tr>\n",
              "      <th>price</th>\n",
              "      <td>0.801118</td>\n",
              "      <td>-0.101542</td>\n",
              "      <td>1.000000</td>\n",
              "    </tr>\n",
              "  </tbody>\n",
              "</table>\n",
              "</div>"
            ],
            "text/plain": [
              "                 highway-L/100km  peak-rpm     price\n",
              "highway-L/100km         1.000000  0.017736  0.801118\n",
              "peak-rpm                0.017736  1.000000 -0.101542\n",
              "price                   0.801118 -0.101542  1.000000"
            ]
          },
          "metadata": {},
          "execution_count": 18
        }
      ]
    },
    {
      "cell_type": "markdown",
      "metadata": {
        "id": "9C91T9INbvUw"
      },
      "source": [
        "**Residual Plot**\n",
        "\n",
        "visualize the variance of the data is to use a residual plot\n",
        "\n",
        "*residual* : the difference between the observed value (y) and the predicted values (yhat) is called the residual (e) \n",
        "\n",
        "*residual plot* is a graph that shows the residuals on the vertical axis and the independe variables on the horizontal x-axis\n",
        "\n",
        "**if the points in a residual plot are randomly spread out around the x-axis, then a linear model is appropiate for the data, this means that the variance is constant, and thus the linear model is a good fit for this data**"
      ]
    },
    {
      "cell_type": "code",
      "metadata": {
        "colab": {
          "base_uri": "https://localhost:8080/",
          "height": 388
        },
        "id": "8rlpwC8hch96",
        "outputId": "7d34f14d-0b0c-4d27-ca73-5f6b8cd05efb"
      },
      "source": [
        "width = 8\n",
        "height = 6\n",
        "\n",
        "plt.figure(figsize = (width, height))\n",
        "sns.residplot(x = \"highway-L/100km\", y = \"price\", data = df)\n",
        "plt.ylim(0, )\n",
        "plt.show()"
      ],
      "execution_count": null,
      "outputs": [
        {
          "output_type": "display_data",
          "data": {
            "image/png": "[encoded data removed]",
            "text/plain": [
              "<Figure size 576x432 with 1 Axes>"
            ]
          },
          "metadata": {
            "needs_background": "light"
          }
        }
      ]
    },
    {
      "cell_type": "markdown",
      "metadata": {
        "id": "dSzriHvHc11E"
      },
      "source": [
        "**Visualization Multiple Linear Regression**\n"
      ]
    },
    {
      "cell_type": "code",
      "metadata": {
        "id": "LzFCqH3_c83o"
      },
      "source": [
        "z = df[[\"horsepower\", \"curb-weight\", \"engine-size\", \"highway-L/100km\"]]\n",
        "y = df[\"price\"]\n",
        "z.head()\n",
        "\n",
        "yhat = lr_2.predict(z)\n"
      ],
      "execution_count": null,
      "outputs": []
    },
    {
      "cell_type": "code",
      "metadata": {
        "colab": {
          "base_uri": "https://localhost:8080/",
          "height": 492
        },
        "id": "vAFqIAAHdYYn",
        "outputId": "ae98167a-7c03-41f2-b67d-af52a8d76133"
      },
      "source": [
        "plt.figure(figsize = (width, height))\n",
        "\n",
        "ax1 = sns.distplot(df[\"price\"], hist = False, color = \"r\", label = \"Actual value\")\n",
        "sns.distplot(yhat, hist = False, color = \"b\", label = \"Fitted Values\", ax = ax1)\n",
        "\n",
        "plt.title(\"Actual vs Fitted Values for Price\")\n",
        "plt.xlabel(\"Price (in dollars)\")\n",
        "plt.ylabel(\"Prrportion of cars\")\n",
        "\n",
        "plt.show()\n",
        "plt.close()"
      ],
      "execution_count": null,
      "outputs": [
        {
          "output_type": "stream",
          "name": "stderr",
          "text": [
            "/usr/local/lib/python3.7/dist-packages/seaborn/distributions.py:2619: FutureWarning: `distplot` is a deprecated function and will be removed in a future version. Please adapt your code to use either `displot` (a figure-level function with similar flexibility) or `kdeplot` (an axes-level function for kernel density plots).\n",
            "  warnings.warn(msg, FutureWarning)\n",
            "/usr/local/lib/python3.7/dist-packages/seaborn/distributions.py:2619: FutureWarning: `distplot` is a deprecated function and will be removed in a future version. Please adapt your code to use either `displot` (a figure-level function with similar flexibility) or `kdeplot` (an axes-level function for kernel density plots).\n",
            "  warnings.warn(msg, FutureWarning)\n"
          ]
        },
        {
          "output_type": "display_data",
          "data": {
            "image/png": "[encoded data removed]",
            "text/plain": [
              "<Figure size 576x432 with 1 Axes>"
            ]
          },
          "metadata": {
            "needs_background": "light"
          }
        }
      ]
    },
    {
      "cell_type": "markdown",
      "metadata": {
        "id": "tTKfqzCAgnIw"
      },
      "source": [
        "**Polynomial Regression and Pipleline**\n",
        "\n",
        "* Second order\n",
        "* Third order\n",
        "* N - order"
      ]
    },
    {
      "cell_type": "code",
      "metadata": {
        "id": "Bbnhcj6Ugmvw"
      },
      "source": [
        "def PlotPolly(model, independent_variable, dependent_variable, Name):\n",
        "  x_new = np.linspace(2.5, 17.5, 100)\n",
        "  y_new = model(x_new)\n",
        "\n",
        "  plt.plot(independent_variable, dependent_variable, \".\", x_new, y_new, \"-\")\n",
        "  plt.title(\"Polynomial Fit with Matplotlib for Price - length\")\n",
        "  ax = plt.gca()\n",
        "  ax.set_facecolor((0.898, 0.898, 0.898))\n",
        "  fig = plt.gcf()\n",
        "  plt.xlabel(Name)\n",
        "  plt.ylabel(\"Price of Cars\")\n",
        "\n",
        "  plt.show()\n",
        "  plt.close()"
      ],
      "execution_count": null,
      "outputs": []
    },
    {
      "cell_type": "code",
      "metadata": {
        "id": "sMQ07u14kO8Z"
      },
      "source": [
        "x = df[\"highway-L/100km\"]\n",
        "y = df[\"price\"]"
      ],
      "execution_count": null,
      "outputs": []
    },
    {
      "cell_type": "code",
      "metadata": {
        "colab": {
          "base_uri": "https://localhost:8080/"
        },
        "id": "oBVFpOD5kUWN",
        "outputId": "f04e3bef-98a6-4b95-ad30-7b554a7ad77f"
      },
      "source": [
        "f = np.polyfit(x, y, 3)\n",
        "p = np.poly1d(f)\n",
        "\n",
        "print(p)"
      ],
      "execution_count": null,
      "outputs": [
        {
          "output_type": "stream",
          "name": "stdout",
          "text": [
            "       3         2\n",
            "-23.4 x + 923.6 x - 7083 x + 2.152e+04\n"
          ]
        }
      ]
    },
    {
      "cell_type": "code",
      "metadata": {
        "colab": {
          "base_uri": "https://localhost:8080/",
          "height": 295
        },
        "id": "1w5oCB97kh_0",
        "outputId": "a5705108-6814-4139-f655-e7d14ac13068"
      },
      "source": [
        "PlotPolly(p, x, y, \"highway-L/100km\")\n"
      ],
      "execution_count": null,
      "outputs": [
        {
          "output_type": "display_data",
          "data": {
            "image/png": "[encoded data removed]",
            "text/plain": [
              "<Figure size 432x288 with 1 Axes>"
            ]
          },
          "metadata": {
            "needs_background": "light"
          }
        }
      ]
    },
    {
      "cell_type": "code",
      "metadata": {
        "colab": {
          "base_uri": "https://localhost:8080/"
        },
        "id": "7lSCldcbk7Tz",
        "outputId": "9dcea8fe-856d-4e13-ab9a-9b85ca27145c"
      },
      "source": [
        "np.polyfit(x, y, 3)"
      ],
      "execution_count": null,
      "outputs": [
        {
          "output_type": "execute_result",
          "data": {
            "text/plain": [
              "array([  -23.40461026,   923.57034965, -7083.14334079, 21515.16034362])"
            ]
          },
          "metadata": {},
          "execution_count": 28
        }
      ]
    },
    {
      "cell_type": "code",
      "metadata": {
        "colab": {
          "base_uri": "https://localhost:8080/",
          "height": 363
        },
        "id": "YO9Dfp0FlD5K",
        "outputId": "ba1c064b-78f7-459a-b551-4e49aad998e7"
      },
      "source": [
        "f1 = np.polyfit(x, y, 11)\n",
        "p1 = np.poly1d(f1)\n",
        "print(p1)\n",
        "PlotPolly(p1, x, y, \"highway-L/100km\")\n"
      ],
      "execution_count": null,
      "outputs": [
        {
          "output_type": "stream",
          "name": "stdout",
          "text": [
            "          11          10         9         8             7\n",
            "0.003545 x  - 0.4733 x  + 26.87 x - 870.3 x + 1.803e+04 x\n",
            "              6             5             4            3             2\n",
            " - 2.523e+05 x + 2.441e+06 x - 1.637e+07 x + 7.47e+07 x - 2.213e+08 x + 3.832e+08 x - 2.943e+08\n"
          ]
        },
        {
          "output_type": "display_data",
          "data": {
            "image/png": "[encoded data removed]",
            "text/plain": [
              "<Figure size 432x288 with 1 Axes>"
            ]
          },
          "metadata": {
            "needs_background": "light"
          }
        }
      ]
    },
    {
      "cell_type": "markdown",
      "metadata": {
        "id": "3AxZUxGfldCu"
      },
      "source": [
        "we can perform a polynomial transform on multiple featuress"
      ]
    },
    {
      "cell_type": "code",
      "metadata": {
        "id": "Tpm1MNXOlp75"
      },
      "source": [
        "from sklearn.preprocessing import PolynomialFeatures"
      ],
      "execution_count": null,
      "outputs": []
    },
    {
      "cell_type": "code",
      "metadata": {
        "colab": {
          "base_uri": "https://localhost:8080/"
        },
        "id": "PKZ0XVfilxZz",
        "outputId": "f71d5754-3261-4b68-fe4d-e1fe30fc7abe"
      },
      "source": [
        "pr = PolynomialFeatures(degree = 2)\n",
        "\n",
        "pr"
      ],
      "execution_count": null,
      "outputs": [
        {
          "output_type": "execute_result",
          "data": {
            "text/plain": [
              "PolynomialFeatures(degree=2, include_bias=True, interaction_only=False,\n",
              "                   order='C')"
            ]
          },
          "metadata": {},
          "execution_count": 35
        }
      ]
    },
    {
      "cell_type": "code",
      "metadata": {
        "colab": {
          "base_uri": "https://localhost:8080/",
          "height": 204
        },
        "id": "AepR_X0fl8Gs",
        "outputId": "ae535088-052b-480f-ef2a-e15157158f1f"
      },
      "source": [
        "z.head()"
      ],
      "execution_count": null,
      "outputs": [
        {
          "output_type": "execute_result",
          "data": {
            "text/html": [
              "<div>\n",
              "<style scoped>\n",
              "    .dataframe tbody tr th:only-of-type {\n",
              "        vertical-align: middle;\n",
              "    }\n",
              "\n",
              "    .dataframe tbody tr th {\n",
              "        vertical-align: top;\n",
              "    }\n",
              "\n",
              "    .dataframe thead th {\n",
              "        text-align: right;\n",
              "    }\n",
              "</style>\n",
              "<table border=\"1\" class=\"dataframe\">\n",
              "  <thead>\n",
              "    <tr style=\"text-align: right;\">\n",
              "      <th></th>\n",
              "      <th>horsepower</th>\n",
              "      <th>curb-weight</th>\n",
              "      <th>engine-size</th>\n",
              "      <th>highway-L/100km</th>\n",
              "    </tr>\n",
              "  </thead>\n",
              "  <tbody>\n",
              "    <tr>\n",
              "      <th>0</th>\n",
              "      <td>111</td>\n",
              "      <td>2548</td>\n",
              "      <td>130</td>\n",
              "      <td>8.703704</td>\n",
              "    </tr>\n",
              "    <tr>\n",
              "      <th>1</th>\n",
              "      <td>111</td>\n",
              "      <td>2548</td>\n",
              "      <td>130</td>\n",
              "      <td>8.703704</td>\n",
              "    </tr>\n",
              "    <tr>\n",
              "      <th>2</th>\n",
              "      <td>154</td>\n",
              "      <td>2823</td>\n",
              "      <td>152</td>\n",
              "      <td>9.038462</td>\n",
              "    </tr>\n",
              "    <tr>\n",
              "      <th>3</th>\n",
              "      <td>102</td>\n",
              "      <td>2337</td>\n",
              "      <td>109</td>\n",
              "      <td>7.833333</td>\n",
              "    </tr>\n",
              "    <tr>\n",
              "      <th>4</th>\n",
              "      <td>115</td>\n",
              "      <td>2824</td>\n",
              "      <td>136</td>\n",
              "      <td>10.681818</td>\n",
              "    </tr>\n",
              "  </tbody>\n",
              "</table>\n",
              "</div>"
            ],
            "text/plain": [
              "   horsepower  curb-weight  engine-size  highway-L/100km\n",
              "0         111         2548          130         8.703704\n",
              "1         111         2548          130         8.703704\n",
              "2         154         2823          152         9.038462\n",
              "3         102         2337          109         7.833333\n",
              "4         115         2824          136        10.681818"
            ]
          },
          "metadata": {},
          "execution_count": 37
        }
      ]
    },
    {
      "cell_type": "code",
      "metadata": {
        "colab": {
          "base_uri": "https://localhost:8080/"
        },
        "id": "CPknyzFfl2O1",
        "outputId": "702f1b01-c1f6-4c7a-d57b-082103317201"
      },
      "source": [
        "z_pr = pr.fit_transform(z)\n",
        "print(\"Shape of z: {}\".format(z.shape))\n",
        "print(\"Shape of z_pr: {}\".format(z_pr.shape))"
      ],
      "execution_count": null,
      "outputs": [
        {
          "output_type": "stream",
          "name": "stdout",
          "text": [
            "Shape of z: (201, 4)\n",
            "Shape of z_pr: (201, 15)\n"
          ]
        }
      ]
    },
    {
      "cell_type": "markdown",
      "metadata": {
        "id": "u_vD1DfPmU2Y"
      },
      "source": [
        "After the transformation, the number od features increase (4 --- 15)"
      ]
    },
    {
      "cell_type": "markdown",
      "metadata": {
        "id": "f3kySSRymdD_"
      },
      "source": [
        "**Pipeline**\n",
        "\n",
        "Data pipeline simplify the steps of processing the data. We use the module *Pipeline*. We also use *StandardScaler* as a step in our pipeline"
      ]
    },
    {
      "cell_type": "code",
      "metadata": {
        "id": "HXduFvhTmuiC"
      },
      "source": [
        "from sklearn.pipeline import Pipeline\n",
        "from sklearn.preprocessing import StandardScaler"
      ],
      "execution_count": null,
      "outputs": []
    },
    {
      "cell_type": "markdown",
      "metadata": {
        "id": "o5Uhn2SVm5ux"
      },
      "source": [
        "Creating a pipeline is **list of tuples**"
      ]
    },
    {
      "cell_type": "code",
      "metadata": {
        "id": "mXCdHkHOm-Iy"
      },
      "source": [
        "Input = [(\"scale\", StandardScaler()), (\"polynomial\", PolynomialFeatures(include_bias= False)), (\"model\", LinearRegression())]"
      ],
      "execution_count": null,
      "outputs": []
    },
    {
      "cell_type": "code",
      "metadata": {
        "colab": {
          "base_uri": "https://localhost:8080/"
        },
        "id": "vV2NjhxFnUm3",
        "outputId": "8e757671-1390-41c5-ebc3-d71501ab95f1"
      },
      "source": [
        "pipe = Pipeline(Input)\n",
        "pipe"
      ],
      "execution_count": null,
      "outputs": [
        {
          "output_type": "execute_result",
          "data": {
            "text/plain": [
              "Pipeline(memory=None,\n",
              "         steps=[('scale',\n",
              "                 StandardScaler(copy=True, with_mean=True, with_std=True)),\n",
              "                ('polynomial',\n",
              "                 PolynomialFeatures(degree=2, include_bias=False,\n",
              "                                    interaction_only=False, order='C')),\n",
              "                ('model',\n",
              "                 LinearRegression(copy_X=True, fit_intercept=True, n_jobs=None,\n",
              "                                  normalize=False))],\n",
              "         verbose=False)"
            ]
          },
          "metadata": {},
          "execution_count": 44
        }
      ]
    },
    {
      "cell_type": "markdown",
      "metadata": {
        "id": "Z0872lt7nriM"
      },
      "source": [
        "Transform and fit the model simultaneously"
      ]
    },
    {
      "cell_type": "code",
      "metadata": {
        "colab": {
          "base_uri": "https://localhost:8080/"
        },
        "id": "Awsl39o5nehu",
        "outputId": "8a9806fb-1862-4b79-8745-5dbb4f5e3676"
      },
      "source": [
        "z = z.astype(float)\n",
        "\n",
        "pipe.fit(z, y)"
      ],
      "execution_count": null,
      "outputs": [
        {
          "output_type": "execute_result",
          "data": {
            "text/plain": [
              "Pipeline(memory=None,\n",
              "         steps=[('scale',\n",
              "                 StandardScaler(copy=True, with_mean=True, with_std=True)),\n",
              "                ('polynomial',\n",
              "                 PolynomialFeatures(degree=2, include_bias=False,\n",
              "                                    interaction_only=False, order='C')),\n",
              "                ('model',\n",
              "                 LinearRegression(copy_X=True, fit_intercept=True, n_jobs=None,\n",
              "                                  normalize=False))],\n",
              "         verbose=False)"
            ]
          },
          "metadata": {},
          "execution_count": 46
        }
      ]
    },
    {
      "cell_type": "code",
      "metadata": {
        "colab": {
          "base_uri": "https://localhost:8080/"
        },
        "id": "qAH3VTmbn6Y3",
        "outputId": "d29ef441-a187-4a46-d70a-30b569675bd1"
      },
      "source": [
        "y[0:4]"
      ],
      "execution_count": null,
      "outputs": [
        {
          "output_type": "execute_result",
          "data": {
            "text/plain": [
              "0    13495.0\n",
              "1    16500.0\n",
              "2    16500.0\n",
              "3    13950.0\n",
              "Name: price, dtype: float64"
            ]
          },
          "metadata": {},
          "execution_count": 48
        }
      ]
    },
    {
      "cell_type": "code",
      "metadata": {
        "colab": {
          "base_uri": "https://localhost:8080/"
        },
        "id": "eIV6S_Q-nzOw",
        "outputId": "58f8a51c-adac-4b3c-cee0-26ed9d876c69"
      },
      "source": [
        "ypipe = pipe.predict(z)\n",
        "ypipe[0:4]"
      ],
      "execution_count": null,
      "outputs": [
        {
          "output_type": "execute_result",
          "data": {
            "text/plain": [
              "array([12396.25072589, 12396.25072589, 18427.88376418,  9983.16028344])"
            ]
          },
          "metadata": {},
          "execution_count": 47
        }
      ]
    },
    {
      "cell_type": "code",
      "metadata": {
        "colab": {
          "base_uri": "https://localhost:8080/"
        },
        "id": "RVxM5EDloArh",
        "outputId": "76712dff-3ec7-4604-f7c2-b7e873892a29"
      },
      "source": [
        "Input = [(\"scale\", StandardScaler()), (\"model\", LinearRegression())]\n",
        "\n",
        "pipe = Pipeline(Input)\n",
        "\n",
        "pipe.fit(z, y)\n",
        "ypipe = pipe.predict(z)\n",
        "ypipe[0:5]"
      ],
      "execution_count": null,
      "outputs": [
        {
          "output_type": "execute_result",
          "data": {
            "text/plain": [
              "array([14055.18192433, 14055.18192433, 18643.05058857, 10759.40130978,\n",
              "       16667.53138368])"
            ]
          },
          "metadata": {},
          "execution_count": 50
        }
      ]
    },
    {
      "cell_type": "markdown",
      "metadata": {
        "id": "MSPbUjHAorRi"
      },
      "source": [
        "**Measures for In - Sample Evaluation**\n",
        "\n",
        "we also want a quantitative measure to determine how accurate the model is\n",
        "\n",
        "* $R^2$\n",
        "  * Cofficient of determination, is a measure how to close the data is to the fitted regression line\n",
        "\n",
        "* $MSE-Mean Squared Error$\n",
        "  * measures the average of the squares of errors. That is, the difference between actual value (y) and the estimated values (yhat)"
      ]
    },
    {
      "cell_type": "markdown",
      "metadata": {
        "id": "J_FcFcBQqzjQ"
      },
      "source": [
        "**Model 1: Simple Linear Regression**"
      ]
    },
    {
      "cell_type": "code",
      "metadata": {
        "colab": {
          "base_uri": "https://localhost:8080/"
        },
        "id": "6ue5Y6zWpe0H",
        "outputId": "feafd4ff-77c5-4d05-ecb0-9ba7dad6e65c"
      },
      "source": [
        "#Remember the first Regression line\n",
        "x = df[[\"highway-L/100km\"]]\n",
        "y = df[\"price\"]\n",
        "lr = LinearRegression()\n",
        "lr.fit(x, y)\n",
        "\n",
        "print(\"The R-square is\", lr.score(x, y))"
      ],
      "execution_count": null,
      "outputs": [
        {
          "output_type": "stream",
          "name": "stdout",
          "text": [
            "The R-square is 0.6417894513258818\n"
          ]
        }
      ]
    },
    {
      "cell_type": "code",
      "metadata": {
        "id": "qKnkJqh3qOeg"
      },
      "source": [
        "from sklearn.metrics import mean_squared_error\n"
      ],
      "execution_count": null,
      "outputs": []
    },
    {
      "cell_type": "code",
      "metadata": {
        "colab": {
          "base_uri": "https://localhost:8080/"
        },
        "id": "o5pOVrwwqUmd",
        "outputId": "9418f1ff-a98c-4951-eff1-723dc7700094"
      },
      "source": [
        "yhat = lr.predict(x)\n",
        "\n",
        "mse = mean_squared_error(y, yhat)\n",
        "\n",
        "print(\"The mean square error of price and predicted values is:{}\".format(mse))"
      ],
      "execution_count": null,
      "outputs": [
        {
          "output_type": "stream",
          "name": "stdout",
          "text": [
            "The mean square error of price and predicted values is:22510543.777085222\n"
          ]
        }
      ]
    },
    {
      "cell_type": "markdown",
      "metadata": {
        "id": "6VkvWlEUrBBv"
      },
      "source": [
        "**Model 2: Multiple Linear Regression**"
      ]
    },
    {
      "cell_type": "code",
      "metadata": {
        "colab": {
          "base_uri": "https://localhost:8080/"
        },
        "id": "SucRLkZ2rCAS",
        "outputId": "6dc12ebc-78a2-4ae2-9fc5-ce17a938ca6a"
      },
      "source": [
        "lr2 = LinearRegression()\n",
        "lr2.fit(z, y)\n",
        "\n",
        "yhat_2 = lr2.predict(z)\n",
        "\n",
        "mse_2 = mean_squared_error(y, yhat_2)\n",
        "\n",
        "print(\"The R-square is:{}\".format(lr2.score(z, y)))\n",
        "print(\"The mean square error of price and predicted values is:{}\".format(mse_2))"
      ],
      "execution_count": null,
      "outputs": [
        {
          "output_type": "stream",
          "name": "stdout",
          "text": [
            "The R-square is:0.8118544998135149\n",
            "The mean square error of price and predicted values is:11823374.64400718\n"
          ]
        }
      ]
    },
    {
      "cell_type": "code",
      "metadata": {
        "id": "AaPt1ZySsBxi"
      },
      "source": [
        "lr3 = PolynomialFeatures\n",
        "lr2.fit(z, y)\n",
        "\n",
        "yhat_2 = lr2.predict(z)\n",
        "\n",
        "mse_2 = mean_squared_error(y, yhat_2)\n",
        "\n",
        "print(\"The R-square is:{}\".format(lr2.score(z, y)))\n",
        "print(\"The mean square error of price and predicted values is:{}\".format(mse_2))"
      ],
      "execution_count": null,
      "outputs": []
    },
    {
      "cell_type": "markdown",
      "metadata": {
        "id": "-DxAY_JJr9QC"
      },
      "source": [
        "**Model 3: Polynomial Fit**\n",
        "\n"
      ]
    },
    {
      "cell_type": "code",
      "metadata": {
        "id": "agCxWxPfsW0_"
      },
      "source": [
        "from sklearn.metrics import r2_score"
      ],
      "execution_count": null,
      "outputs": []
    },
    {
      "cell_type": "code",
      "metadata": {
        "colab": {
          "base_uri": "https://localhost:8080/"
        },
        "id": "Oz1S0DJIsTHl",
        "outputId": "ef676037-0d83-4e00-e0cf-fbb9e39bdb2b"
      },
      "source": [
        "x = df[\"highway-L/100km\"]\n",
        "\n",
        "f3 = np.polyfit(x, y, 3)\n",
        "p3 = np.poly1d(f3)\n",
        "\n",
        "r_squared = r2_score(y, p3(x))\n",
        "print(\"The R-squared is:\", r_squared)\n",
        "print(\"The mean Squared Erros is: {}\".format(mean_squared_error(y, p3(x))))"
      ],
      "execution_count": null,
      "outputs": [
        {
          "output_type": "stream",
          "name": "stdout",
          "text": [
            "The R-squared is: 0.675358166081217\n",
            "The mean Squared Erros is: 20401030.18001941\n"
          ]
        }
      ]
    },
    {
      "cell_type": "markdown",
      "metadata": {
        "id": "5xR4QZSvtCLa"
      },
      "source": [
        "**Prediction and Decision Making**"
      ]
    },
    {
      "cell_type": "code",
      "metadata": {
        "id": "grCGp2s_tIIC"
      },
      "source": [
        "new_input = np.arange(1, 20, 1).reshape(-1, 1)"
      ],
      "execution_count": null,
      "outputs": []
    },
    {
      "cell_type": "code",
      "metadata": {
        "colab": {
          "base_uri": "https://localhost:8080/",
          "height": 265
        },
        "id": "pnF6WLYbtIBT",
        "outputId": "813b31a3-0c25-4b91-fee4-e7c534c24797"
      },
      "source": [
        "lr.fit(df[[\"highway-L/100km\"]], y)\n",
        "lr\n",
        "yhat = lr.predict(new_input)\n",
        "\n",
        "plt.plot(new_input, yhat)\n",
        "plt.show()"
      ],
      "execution_count": null,
      "outputs": [
        {
          "output_type": "display_data",
          "data": {
            "image/png": "[encoded data removed]",
            "text/plain": [
              "<Figure size 432x288 with 1 Axes>"
            ]
          },
          "metadata": {
            "needs_background": "light"
          }
        }
      ]
    },
    {
      "cell_type": "markdown",
      "metadata": {
        "id": "IEZ2eqXvtt7Y"
      },
      "source": [
        "**Decision Making: Determining a Good Model Fit**\n",
        "\n",
        "* What is a good R-squared value?\n",
        "  * When comparing model, the model with the higher R-Squared values is a better fit for the data\n",
        "\n",
        "* What is a good MSE?\n",
        "  * When comparing models, the model with the smallest MSE values is a better fit for the data"
      ]
    },
    {
      "cell_type": "markdown",
      "metadata": {
        "id": "UCmEWM8buYZx"
      },
      "source": [
        "*model 1: Linear Regression* \n",
        "* R-squared: 0.6417\n",
        "* MSE: 22510543\n",
        "\n",
        "*model 2: Multiple Linear Regression* \n",
        "* R-squared: 0.8118\n",
        "* MSE: 11823874\n",
        "\n",
        "*model 3: Polynomial Fit* \n",
        "* R-squared: 0.6753\n",
        "* MSE: 20401030"
      ]
    },
    {
      "cell_type": "markdown",
      "metadata": {
        "id": "l0LfPyyevUSp"
      },
      "source": [
        "Comparing the three models, we conclude that the MLR model is the best model to be able to predict price form our dataset"
      ]
    },
    {
      "cell_type": "markdown",
      "metadata": {
        "id": "rafKPR42u-TM"
      },
      "source": [
        "# Module 5 - Model Evaluation"
      ]
    },
    {
      "cell_type": "code",
      "metadata": {
        "id": "D_aP9_IaCqiN"
      },
      "source": [
        "import numpy as np\n",
        "import pandas as pd\n",
        "import matplotlib.pyplot as plt\n",
        "import seaborn as sns"
      ],
      "execution_count": null,
      "outputs": []
    },
    {
      "cell_type": "code",
      "metadata": {
        "id": "2hAv0ItsvCWz",
        "colab": {
          "base_uri": "https://localhost:8080/",
          "height": 309
        },
        "outputId": "a21492d3-b6e0-40ab-eefe-31f3723610c1"
      },
      "source": [
        "df = pd.read_csv(\"clean_automobile.csv\")\n",
        "df.head()"
      ],
      "execution_count": null,
      "outputs": [
        {
          "output_type": "execute_result",
          "data": {
            "text/html": [
              "<div>\n",
              "<style scoped>\n",
              "    .dataframe tbody tr th:only-of-type {\n",
              "        vertical-align: middle;\n",
              "    }\n",
              "\n",
              "    .dataframe tbody tr th {\n",
              "        vertical-align: top;\n",
              "    }\n",
              "\n",
              "    .dataframe thead th {\n",
              "        text-align: right;\n",
              "    }\n",
              "</style>\n",
              "<table border=\"1\" class=\"dataframe\">\n",
              "  <thead>\n",
              "    <tr style=\"text-align: right;\">\n",
              "      <th></th>\n",
              "      <th>symboling</th>\n",
              "      <th>normalized-losses</th>\n",
              "      <th>make</th>\n",
              "      <th>num-of-doors</th>\n",
              "      <th>body-style</th>\n",
              "      <th>drive-wheels</th>\n",
              "      <th>engine-location</th>\n",
              "      <th>wheel-base</th>\n",
              "      <th>length</th>\n",
              "      <th>width</th>\n",
              "      <th>height</th>\n",
              "      <th>curb-weight</th>\n",
              "      <th>engine-type</th>\n",
              "      <th>num-of-cylinders</th>\n",
              "      <th>engine-size</th>\n",
              "      <th>fuel-system</th>\n",
              "      <th>bore</th>\n",
              "      <th>stroke</th>\n",
              "      <th>compression-ratio</th>\n",
              "      <th>horsepower</th>\n",
              "      <th>peak-rpm</th>\n",
              "      <th>city-mpg</th>\n",
              "      <th>highway-L/100km</th>\n",
              "      <th>price</th>\n",
              "      <th>city-L/100km</th>\n",
              "      <th>horsepower-binned</th>\n",
              "      <th>fuel-type-diesel</th>\n",
              "      <th>fuel-type-gas</th>\n",
              "      <th>aspiration-std</th>\n",
              "      <th>aspiration-turbo</th>\n",
              "    </tr>\n",
              "  </thead>\n",
              "  <tbody>\n",
              "    <tr>\n",
              "      <th>0</th>\n",
              "      <td>3</td>\n",
              "      <td>122</td>\n",
              "      <td>alfa-romero</td>\n",
              "      <td>two</td>\n",
              "      <td>convertible</td>\n",
              "      <td>rwd</td>\n",
              "      <td>front</td>\n",
              "      <td>88.6</td>\n",
              "      <td>0.811148</td>\n",
              "      <td>0.890278</td>\n",
              "      <td>0.816054</td>\n",
              "      <td>2548</td>\n",
              "      <td>dohc</td>\n",
              "      <td>four</td>\n",
              "      <td>130</td>\n",
              "      <td>mpfi</td>\n",
              "      <td>3.47</td>\n",
              "      <td>2.68</td>\n",
              "      <td>9.0</td>\n",
              "      <td>111</td>\n",
              "      <td>5000.0</td>\n",
              "      <td>21</td>\n",
              "      <td>8.703704</td>\n",
              "      <td>13495.0</td>\n",
              "      <td>11.190476</td>\n",
              "      <td>Low</td>\n",
              "      <td>0</td>\n",
              "      <td>1</td>\n",
              "      <td>1</td>\n",
              "      <td>0</td>\n",
              "    </tr>\n",
              "    <tr>\n",
              "      <th>1</th>\n",
              "      <td>3</td>\n",
              "      <td>122</td>\n",
              "      <td>alfa-romero</td>\n",
              "      <td>two</td>\n",
              "      <td>convertible</td>\n",
              "      <td>rwd</td>\n",
              "      <td>front</td>\n",
              "      <td>88.6</td>\n",
              "      <td>0.811148</td>\n",
              "      <td>0.890278</td>\n",
              "      <td>0.816054</td>\n",
              "      <td>2548</td>\n",
              "      <td>dohc</td>\n",
              "      <td>four</td>\n",
              "      <td>130</td>\n",
              "      <td>mpfi</td>\n",
              "      <td>3.47</td>\n",
              "      <td>2.68</td>\n",
              "      <td>9.0</td>\n",
              "      <td>111</td>\n",
              "      <td>5000.0</td>\n",
              "      <td>21</td>\n",
              "      <td>8.703704</td>\n",
              "      <td>16500.0</td>\n",
              "      <td>11.190476</td>\n",
              "      <td>Low</td>\n",
              "      <td>0</td>\n",
              "      <td>1</td>\n",
              "      <td>1</td>\n",
              "      <td>0</td>\n",
              "    </tr>\n",
              "    <tr>\n",
              "      <th>2</th>\n",
              "      <td>1</td>\n",
              "      <td>122</td>\n",
              "      <td>alfa-romero</td>\n",
              "      <td>two</td>\n",
              "      <td>hatchback</td>\n",
              "      <td>rwd</td>\n",
              "      <td>front</td>\n",
              "      <td>94.5</td>\n",
              "      <td>0.822681</td>\n",
              "      <td>0.909722</td>\n",
              "      <td>0.876254</td>\n",
              "      <td>2823</td>\n",
              "      <td>ohcv</td>\n",
              "      <td>six</td>\n",
              "      <td>152</td>\n",
              "      <td>mpfi</td>\n",
              "      <td>2.68</td>\n",
              "      <td>3.47</td>\n",
              "      <td>9.0</td>\n",
              "      <td>154</td>\n",
              "      <td>5000.0</td>\n",
              "      <td>19</td>\n",
              "      <td>9.038462</td>\n",
              "      <td>16500.0</td>\n",
              "      <td>12.368421</td>\n",
              "      <td>Medium</td>\n",
              "      <td>0</td>\n",
              "      <td>1</td>\n",
              "      <td>1</td>\n",
              "      <td>0</td>\n",
              "    </tr>\n",
              "    <tr>\n",
              "      <th>3</th>\n",
              "      <td>2</td>\n",
              "      <td>164</td>\n",
              "      <td>audi</td>\n",
              "      <td>four</td>\n",
              "      <td>sedan</td>\n",
              "      <td>fwd</td>\n",
              "      <td>front</td>\n",
              "      <td>99.8</td>\n",
              "      <td>0.848630</td>\n",
              "      <td>0.919444</td>\n",
              "      <td>0.908027</td>\n",
              "      <td>2337</td>\n",
              "      <td>ohc</td>\n",
              "      <td>four</td>\n",
              "      <td>109</td>\n",
              "      <td>mpfi</td>\n",
              "      <td>3.19</td>\n",
              "      <td>3.40</td>\n",
              "      <td>10.0</td>\n",
              "      <td>102</td>\n",
              "      <td>5500.0</td>\n",
              "      <td>24</td>\n",
              "      <td>7.833333</td>\n",
              "      <td>13950.0</td>\n",
              "      <td>9.791667</td>\n",
              "      <td>Low</td>\n",
              "      <td>0</td>\n",
              "      <td>1</td>\n",
              "      <td>1</td>\n",
              "      <td>0</td>\n",
              "    </tr>\n",
              "    <tr>\n",
              "      <th>4</th>\n",
              "      <td>2</td>\n",
              "      <td>164</td>\n",
              "      <td>audi</td>\n",
              "      <td>four</td>\n",
              "      <td>sedan</td>\n",
              "      <td>4wd</td>\n",
              "      <td>front</td>\n",
              "      <td>99.4</td>\n",
              "      <td>0.848630</td>\n",
              "      <td>0.922222</td>\n",
              "      <td>0.908027</td>\n",
              "      <td>2824</td>\n",
              "      <td>ohc</td>\n",
              "      <td>five</td>\n",
              "      <td>136</td>\n",
              "      <td>mpfi</td>\n",
              "      <td>3.19</td>\n",
              "      <td>3.40</td>\n",
              "      <td>8.0</td>\n",
              "      <td>115</td>\n",
              "      <td>5500.0</td>\n",
              "      <td>18</td>\n",
              "      <td>10.681818</td>\n",
              "      <td>17450.0</td>\n",
              "      <td>13.055556</td>\n",
              "      <td>Low</td>\n",
              "      <td>0</td>\n",
              "      <td>1</td>\n",
              "      <td>1</td>\n",
              "      <td>0</td>\n",
              "    </tr>\n",
              "  </tbody>\n",
              "</table>\n",
              "</div>"
            ],
            "text/plain": [
              "   symboling  normalized-losses  ... aspiration-std aspiration-turbo\n",
              "0          3                122  ...              1                0\n",
              "1          3                122  ...              1                0\n",
              "2          1                122  ...              1                0\n",
              "3          2                164  ...              1                0\n",
              "4          2                164  ...              1                0\n",
              "\n",
              "[5 rows x 30 columns]"
            ]
          },
          "metadata": {},
          "execution_count": 5
        }
      ]
    },
    {
      "cell_type": "markdown",
      "metadata": {
        "id": "IYTTH7RqDME9"
      },
      "source": [
        "Keeps only the data that contain numerica values"
      ]
    },
    {
      "cell_type": "code",
      "metadata": {
        "colab": {
          "base_uri": "https://localhost:8080/",
          "height": 258
        },
        "id": "ilTKdIobCfXY",
        "outputId": "9fff2fb2-27ce-4256-d65c-a7f15edb5bf6"
      },
      "source": [
        "df = df._get_numeric_data()\n",
        "df.head()"
      ],
      "execution_count": null,
      "outputs": [
        {
          "output_type": "execute_result",
          "data": {
            "text/html": [
              "<div>\n",
              "<style scoped>\n",
              "    .dataframe tbody tr th:only-of-type {\n",
              "        vertical-align: middle;\n",
              "    }\n",
              "\n",
              "    .dataframe tbody tr th {\n",
              "        vertical-align: top;\n",
              "    }\n",
              "\n",
              "    .dataframe thead th {\n",
              "        text-align: right;\n",
              "    }\n",
              "</style>\n",
              "<table border=\"1\" class=\"dataframe\">\n",
              "  <thead>\n",
              "    <tr style=\"text-align: right;\">\n",
              "      <th></th>\n",
              "      <th>symboling</th>\n",
              "      <th>normalized-losses</th>\n",
              "      <th>wheel-base</th>\n",
              "      <th>length</th>\n",
              "      <th>width</th>\n",
              "      <th>height</th>\n",
              "      <th>curb-weight</th>\n",
              "      <th>engine-size</th>\n",
              "      <th>bore</th>\n",
              "      <th>stroke</th>\n",
              "      <th>compression-ratio</th>\n",
              "      <th>horsepower</th>\n",
              "      <th>peak-rpm</th>\n",
              "      <th>city-mpg</th>\n",
              "      <th>highway-L/100km</th>\n",
              "      <th>price</th>\n",
              "      <th>city-L/100km</th>\n",
              "      <th>fuel-type-diesel</th>\n",
              "      <th>fuel-type-gas</th>\n",
              "      <th>aspiration-std</th>\n",
              "      <th>aspiration-turbo</th>\n",
              "    </tr>\n",
              "  </thead>\n",
              "  <tbody>\n",
              "    <tr>\n",
              "      <th>0</th>\n",
              "      <td>3</td>\n",
              "      <td>122</td>\n",
              "      <td>88.6</td>\n",
              "      <td>0.811148</td>\n",
              "      <td>0.890278</td>\n",
              "      <td>0.816054</td>\n",
              "      <td>2548</td>\n",
              "      <td>130</td>\n",
              "      <td>3.47</td>\n",
              "      <td>2.68</td>\n",
              "      <td>9.0</td>\n",
              "      <td>111</td>\n",
              "      <td>5000.0</td>\n",
              "      <td>21</td>\n",
              "      <td>8.703704</td>\n",
              "      <td>13495.0</td>\n",
              "      <td>11.190476</td>\n",
              "      <td>0</td>\n",
              "      <td>1</td>\n",
              "      <td>1</td>\n",
              "      <td>0</td>\n",
              "    </tr>\n",
              "    <tr>\n",
              "      <th>1</th>\n",
              "      <td>3</td>\n",
              "      <td>122</td>\n",
              "      <td>88.6</td>\n",
              "      <td>0.811148</td>\n",
              "      <td>0.890278</td>\n",
              "      <td>0.816054</td>\n",
              "      <td>2548</td>\n",
              "      <td>130</td>\n",
              "      <td>3.47</td>\n",
              "      <td>2.68</td>\n",
              "      <td>9.0</td>\n",
              "      <td>111</td>\n",
              "      <td>5000.0</td>\n",
              "      <td>21</td>\n",
              "      <td>8.703704</td>\n",
              "      <td>16500.0</td>\n",
              "      <td>11.190476</td>\n",
              "      <td>0</td>\n",
              "      <td>1</td>\n",
              "      <td>1</td>\n",
              "      <td>0</td>\n",
              "    </tr>\n",
              "    <tr>\n",
              "      <th>2</th>\n",
              "      <td>1</td>\n",
              "      <td>122</td>\n",
              "      <td>94.5</td>\n",
              "      <td>0.822681</td>\n",
              "      <td>0.909722</td>\n",
              "      <td>0.876254</td>\n",
              "      <td>2823</td>\n",
              "      <td>152</td>\n",
              "      <td>2.68</td>\n",
              "      <td>3.47</td>\n",
              "      <td>9.0</td>\n",
              "      <td>154</td>\n",
              "      <td>5000.0</td>\n",
              "      <td>19</td>\n",
              "      <td>9.038462</td>\n",
              "      <td>16500.0</td>\n",
              "      <td>12.368421</td>\n",
              "      <td>0</td>\n",
              "      <td>1</td>\n",
              "      <td>1</td>\n",
              "      <td>0</td>\n",
              "    </tr>\n",
              "    <tr>\n",
              "      <th>3</th>\n",
              "      <td>2</td>\n",
              "      <td>164</td>\n",
              "      <td>99.8</td>\n",
              "      <td>0.848630</td>\n",
              "      <td>0.919444</td>\n",
              "      <td>0.908027</td>\n",
              "      <td>2337</td>\n",
              "      <td>109</td>\n",
              "      <td>3.19</td>\n",
              "      <td>3.40</td>\n",
              "      <td>10.0</td>\n",
              "      <td>102</td>\n",
              "      <td>5500.0</td>\n",
              "      <td>24</td>\n",
              "      <td>7.833333</td>\n",
              "      <td>13950.0</td>\n",
              "      <td>9.791667</td>\n",
              "      <td>0</td>\n",
              "      <td>1</td>\n",
              "      <td>1</td>\n",
              "      <td>0</td>\n",
              "    </tr>\n",
              "    <tr>\n",
              "      <th>4</th>\n",
              "      <td>2</td>\n",
              "      <td>164</td>\n",
              "      <td>99.4</td>\n",
              "      <td>0.848630</td>\n",
              "      <td>0.922222</td>\n",
              "      <td>0.908027</td>\n",
              "      <td>2824</td>\n",
              "      <td>136</td>\n",
              "      <td>3.19</td>\n",
              "      <td>3.40</td>\n",
              "      <td>8.0</td>\n",
              "      <td>115</td>\n",
              "      <td>5500.0</td>\n",
              "      <td>18</td>\n",
              "      <td>10.681818</td>\n",
              "      <td>17450.0</td>\n",
              "      <td>13.055556</td>\n",
              "      <td>0</td>\n",
              "      <td>1</td>\n",
              "      <td>1</td>\n",
              "      <td>0</td>\n",
              "    </tr>\n",
              "  </tbody>\n",
              "</table>\n",
              "</div>"
            ],
            "text/plain": [
              "   symboling  normalized-losses  ...  aspiration-std  aspiration-turbo\n",
              "0          3                122  ...               1                 0\n",
              "1          3                122  ...               1                 0\n",
              "2          1                122  ...               1                 0\n",
              "3          2                164  ...               1                 0\n",
              "4          2                164  ...               1                 0\n",
              "\n",
              "[5 rows x 21 columns]"
            ]
          },
          "metadata": {},
          "execution_count": 8
        }
      ]
    },
    {
      "cell_type": "code",
      "metadata": {
        "id": "sZVHNe4iDByo"
      },
      "source": [
        "from ipywidgets import interact, interactive, fixed, interact_manual"
      ],
      "execution_count": null,
      "outputs": []
    },
    {
      "cell_type": "markdown",
      "metadata": {
        "id": "vfCseSA_DdA6"
      },
      "source": [
        "function for plotting"
      ]
    },
    {
      "cell_type": "code",
      "metadata": {
        "id": "ZqRaGZ2TDa4g"
      },
      "source": [
        "def DistributionPlot(RedFunction, BlueFunction, RedName, BlueName, Title):\n",
        "  width = 8\n",
        "  height = 6\n",
        "\n",
        "  plt.figure(figsize = (width, height))\n",
        "\n",
        "  ax1 = sns.distplot(RedFunction, hist = False, color = \"r\", label = RedName)\n",
        "  ax2 = sns.distplot(BlueFunction, hist = False, color = \"b\", label = BlueName, ax = ax1)\n",
        "\n",
        "  plt.title(Title)\n",
        "  plt.xlabel(\"Price (in dollars)\")\n",
        "  plt.ylabel(\"Proportion of cars\")\n",
        "  plt.legend()\n",
        "\n",
        "  plt.show()\n",
        "  plt.close()"
      ],
      "execution_count": null,
      "outputs": []
    },
    {
      "cell_type": "code",
      "metadata": {
        "id": "JCS7gY23EODH"
      },
      "source": [
        "def PollyPlot(x_train, x_test, y_train, y_test, lr, poly_transform):\n",
        "  width = 8\n",
        "  height = 6\n",
        "\n",
        "  plt.figure(figsize = (width, height))\n",
        "\n",
        "  x_max = max([x_train.values.max(), x_test.values.max()])\n",
        "  x_min = max([x_train.values.min(), x_test.values.min()])\n",
        "\n",
        "  x = np.arange(x_min, x_max, 0.1)\n",
        "\n",
        "  plt.plot(x_train, y_train, \"ro\", label = \"Training data\")\n",
        "  plt.plot(x_test, y_test, \"go\", label = \"Test data\")\n",
        "  plt.plot(x, lr.predict(poly_transform.fit_transform(x.reshape(-1, 1))), label = \"Predicted Function\")\n",
        "  plt.ylim([-10000, 60000])\n",
        "  plt.ylabel(\"Price\")\n",
        "  plt.legend()"
      ],
      "execution_count": null,
      "outputs": []
    },
    {
      "cell_type": "markdown",
      "metadata": {
        "id": "T7ccy50hFdUL"
      },
      "source": [
        "**Training and Testing**\n",
        "\n",
        "An important step in testing your model is to split your data into training ans testing data"
      ]
    },
    {
      "cell_type": "code",
      "metadata": {
        "id": "2Qxa1rLHFZJC"
      },
      "source": [
        "y_data = df[\"price\"]\n",
        "x_data = df.drop(\"price\", axis = 1)"
      ],
      "execution_count": null,
      "outputs": []
    },
    {
      "cell_type": "code",
      "metadata": {
        "id": "GldwLjgDFwVg"
      },
      "source": [
        "from sklearn.model_selection import train_test_split"
      ],
      "execution_count": null,
      "outputs": []
    },
    {
      "cell_type": "code",
      "metadata": {
        "colab": {
          "base_uri": "https://localhost:8080/"
        },
        "id": "-_qYzA_bFzf1",
        "outputId": "af17cc18-0e69-4905-e29b-35189c72913b"
      },
      "source": [
        "x_train, x_test, y_train, y_test = train_test_split(x_data, y_data, test_size = 0.10, random_state = 1)\n",
        "\n",
        "print(\"Number of test samples: {}\".format(len(y_test)))\n",
        "print(\"Number of train samples: {}\".format(len(y_train)))"
      ],
      "execution_count": null,
      "outputs": [
        {
          "output_type": "stream",
          "name": "stdout",
          "text": [
            "Number of test samples: 21\n",
            "Number of train samples: 180\n"
          ]
        }
      ]
    },
    {
      "cell_type": "code",
      "metadata": {
        "colab": {
          "base_uri": "https://localhost:8080/"
        },
        "id": "YkzYlwdOGPPd",
        "outputId": "edf2a44c-dfbf-4fc2-b14e-caf43ede92b9"
      },
      "source": [
        "x_train_1, x_test_1, y_train_1, y_test_1 = train_test_split(x_data, y_data, test_size = 0.40, random_state = 0)\n",
        "\n",
        "print(\"Number of test samples: {}\".format(len(y_test_1)))\n",
        "print(\"Number of train samples: {}\".format(len(y_train_1)))"
      ],
      "execution_count": null,
      "outputs": [
        {
          "output_type": "stream",
          "name": "stdout",
          "text": [
            "Number of test samples: 81\n",
            "Number of train samples: 120\n"
          ]
        }
      ]
    },
    {
      "cell_type": "code",
      "metadata": {
        "id": "P4oKfWrmGe-8"
      },
      "source": [
        "from sklearn.linear_model import LinearRegression"
      ],
      "execution_count": null,
      "outputs": []
    },
    {
      "cell_type": "code",
      "metadata": {
        "id": "jWG9_MMQGn6O"
      },
      "source": [
        "lr = LinearRegression()\n"
      ],
      "execution_count": null,
      "outputs": []
    },
    {
      "cell_type": "code",
      "metadata": {
        "colab": {
          "base_uri": "https://localhost:8080/"
        },
        "id": "foKOHyT2GrLQ",
        "outputId": "0f6a11e5-68dd-4383-fb00-d9e051fee44a"
      },
      "source": [
        "#Train de model\n",
        "lr.fit(x_train[[\"horsepower\"]], y_train)\n",
        "\n",
        "#Test the model\n",
        "print(\"Using Test data\")\n",
        "print(\"The R-squared vavlues is\", lr.score(x_test[[\"horsepower\"]], y_test))\n",
        "print(\"\")\n",
        "print(\"Using Training data\")\n",
        "print(\"The R-squared vavlues is\", lr.score(x_train[[\"horsepower\"]], y_train))"
      ],
      "execution_count": null,
      "outputs": [
        {
          "output_type": "stream",
          "name": "stdout",
          "text": [
            "Using Test data\n",
            "The R-squared vavlues is 0.36339478087886834\n",
            "\n",
            "Using Training data\n",
            "The R-squared vavlues is 0.6622424809407366\n"
          ]
        }
      ]
    },
    {
      "cell_type": "code",
      "metadata": {
        "colab": {
          "base_uri": "https://localhost:8080/"
        },
        "id": "O9X3XWaMG7mE",
        "outputId": "6833f040-49ae-4b37-aae5-2e35cc618aef"
      },
      "source": [
        "#Train de model\n",
        "lr.fit(x_train_1[[\"horsepower\"]], y_train_1)\n",
        "\n",
        "#Test the model\n",
        "print(\"Using Test data\")\n",
        "print(\"The R-squared vavlues is\", lr.score(x_test_1[[\"horsepower\"]], y_test_1))\n",
        "print(\"\")\n",
        "print(\"Using Training data\")\n",
        "print(\"The R-squared vavlues is\", lr.score(x_train_1[[\"horsepower\"]], y_train_1))"
      ],
      "execution_count": null,
      "outputs": [
        {
          "output_type": "stream",
          "name": "stdout",
          "text": [
            "Using Test data\n",
            "The R-squared vavlues is 0.7141148824069643\n",
            "\n",
            "Using Training data\n",
            "The R-squared vavlues is 0.5757836772044477\n"
          ]
        }
      ]
    },
    {
      "cell_type": "markdown",
      "metadata": {
        "id": "Rr-a6NQ8HkTR"
      },
      "source": [
        "**Cross-Validation Score**"
      ]
    },
    {
      "cell_type": "code",
      "metadata": {
        "id": "sfN1h8auHb73"
      },
      "source": [
        "from sklearn.model_selection import cross_val_score"
      ],
      "execution_count": null,
      "outputs": []
    },
    {
      "cell_type": "code",
      "metadata": {
        "colab": {
          "base_uri": "https://localhost:8080/"
        },
        "id": "sxW5HYniHrqV",
        "outputId": "6a18d43c-c644-4465-e58f-f526f5fd018c"
      },
      "source": [
        "Rcross = cross_val_score(lr, x_data[[\"horsepower\"]], y_data, cv = 4)\n",
        "print(\"All the 4 R-squared are:\", Rcross)"
      ],
      "execution_count": null,
      "outputs": [
        {
          "output_type": "stream",
          "name": "stdout",
          "text": [
            "All the 4 R-squared are: [0.77477095 0.51725019 0.74924821 0.04771764]\n"
          ]
        }
      ]
    },
    {
      "cell_type": "code",
      "metadata": {
        "colab": {
          "base_uri": "https://localhost:8080/"
        },
        "id": "IuZG1pbdH5GH",
        "outputId": "dbbfb6e8-d40f-4def-906f-5ba5d80054e7"
      },
      "source": [
        "print(\"The mean of the fold are: {} and the std are: {}\".format(Rcross.mean(), Rcross.std()))"
      ],
      "execution_count": null,
      "outputs": [
        {
          "output_type": "stream",
          "name": "stdout",
          "text": [
            "The mean of the fold are: 0.5222467481979474 and the std are: 0.29176230741826353\n"
          ]
        }
      ]
    },
    {
      "cell_type": "markdown",
      "metadata": {
        "id": "Q1mh2CMrIg5Q"
      },
      "source": [
        "We can use negative squared error as a score by setting the parameter \"scoring\" metric to \"neg_mean_squared_error\""
      ]
    },
    {
      "cell_type": "code",
      "metadata": {
        "colab": {
          "base_uri": "https://localhost:8080/"
        },
        "id": "qyuhG3NvIXc9",
        "outputId": "94209eb4-19a5-43eb-8556-308603bf8924"
      },
      "source": [
        "-1 * cross_val_score(lr, x_data[[\"horsepower\"]], y_data, cv = 4, scoring = \"neg_mean_squared_error\")"
      ],
      "execution_count": null,
      "outputs": [
        {
          "output_type": "execute_result",
          "data": {
            "text/plain": [
              "array([20240865.23167852, 43737944.37864213, 12470270.77569642,\n",
              "       17574447.8797166 ])"
            ]
          },
          "metadata": {},
          "execution_count": 27
        }
      ]
    },
    {
      "cell_type": "code",
      "metadata": {
        "colab": {
          "base_uri": "https://localhost:8080/"
        },
        "id": "e4kN10REI0dh",
        "outputId": "81b77709-4595-4f51-daeb-a4db47372237"
      },
      "source": [
        "Rcross = cross_val_score(lr, x_data[[\"horsepower\"]], y_data, cv = 2)\n",
        "print(\"All the 4 R-squared are:\", Rcross)\n",
        "print(\"The mean of the fold are: {} and the std are: {}\".format(Rcross.mean(), Rcross.std()))"
      ],
      "execution_count": null,
      "outputs": [
        {
          "output_type": "stream",
          "name": "stdout",
          "text": [
            "All the 4 R-squared are: [0.59038906 0.44448529]\n",
            "The mean of the fold are: 0.5174371732192354 and the std are: 0.0729518864766161\n"
          ]
        }
      ]
    },
    {
      "cell_type": "markdown",
      "metadata": {
        "id": "gY1T5r5oJODP"
      },
      "source": [
        "You can also use the function \"cross_val_predict\" to predict the output\n",
        "\n",
        "The function splits up the data into the specified number of folds, with one fold for testing and the other folds are used for training"
      ]
    },
    {
      "cell_type": "code",
      "metadata": {
        "id": "08n-z3jNI94S"
      },
      "source": [
        "from sklearn.model_selection import cross_val_predict"
      ],
      "execution_count": null,
      "outputs": []
    },
    {
      "cell_type": "code",
      "metadata": {
        "colab": {
          "base_uri": "https://localhost:8080/"
        },
        "id": "qDyVVgp-JlsZ",
        "outputId": "1ace4cf1-f1c2-4dd2-85c0-f82df4d41197"
      },
      "source": [
        "yhat = cross_val_predict(lr, x_data[[\"horsepower\"]], y_data, cv = 4)\n",
        "yhat[0:5]"
      ],
      "execution_count": null,
      "outputs": [
        {
          "output_type": "execute_result",
          "data": {
            "text/plain": [
              "array([14144.56553323, 14144.56553323, 20819.140433  , 12747.56148444,\n",
              "       14765.45622158])"
            ]
          },
          "metadata": {},
          "execution_count": 30
        }
      ]
    },
    {
      "cell_type": "markdown",
      "metadata": {
        "id": "Z7kZRYo9Jz5w"
      },
      "source": [
        "**Overtifitting, Underfitting and Model Selection**\n",
        "\n"
      ]
    },
    {
      "cell_type": "code",
      "metadata": {
        "colab": {
          "base_uri": "https://localhost:8080/"
        },
        "id": "x9cz6njTJv-3",
        "outputId": "472c76fd-ca4c-4c27-b4b7-9b0e4b651c15"
      },
      "source": [
        "lr = LinearRegression()\n",
        "\n",
        "lr.fit(x_train[[\"horsepower\", \"curb-weight\", \"engine-size\", \"highway-L/100km\"]], y_train)\n",
        "\n",
        "yhat_train = lr.predict(x_train[[\"horsepower\", \"curb-weight\", \"engine-size\", \"highway-L/100km\"]])\n",
        "print(\"Prediction Training data:\", yhat_train[0:5])\n",
        "\n",
        "print(\"\")\n",
        "yhat_test = lr.predict(x_test[[\"horsepower\", \"curb-weight\", \"engine-size\", \"highway-L/100km\"]])\n",
        "print(\"Prediction Test Data:\", yhat_test[0:5])"
      ],
      "execution_count": null,
      "outputs": [
        {
          "output_type": "stream",
          "name": "stdout",
          "text": [
            "Prediction Training data: [ 7624.75122537 28449.32547101 14840.29417926  3856.19666966\n",
            " 34565.77408311]\n",
            "\n",
            "Prediction Test Data: [11045.54922944  5844.25035825 11257.69097695  6886.71060678\n",
            " 15327.29253493]\n"
          ]
        }
      ]
    },
    {
      "cell_type": "markdown",
      "metadata": {
        "id": "_RY0pVIPLrZ3"
      },
      "source": [
        "Let's examine the distribution of the predicted values od the training data"
      ]
    },
    {
      "cell_type": "code",
      "metadata": {
        "colab": {
          "base_uri": "https://localhost:8080/",
          "height": 492
        },
        "id": "zdfR9fwJK-0i",
        "outputId": "09eeaad5-be0e-4a43-82e9-d338d894cc3a"
      },
      "source": [
        "Title = \"Distribution Plot od Predicted Values usng Training Data vs Test Data Distribution\"\n",
        "DistributionPlot(y_train, yhat_train, \"Actual Values (train)\", \"Predicted values (train)\", Title)"
      ],
      "execution_count": null,
      "outputs": [
        {
          "output_type": "stream",
          "name": "stderr",
          "text": [
            "/usr/local/lib/python3.7/dist-packages/seaborn/distributions.py:2619: FutureWarning: `distplot` is a deprecated function and will be removed in a future version. Please adapt your code to use either `displot` (a figure-level function with similar flexibility) or `kdeplot` (an axes-level function for kernel density plots).\n",
            "  warnings.warn(msg, FutureWarning)\n",
            "/usr/local/lib/python3.7/dist-packages/seaborn/distributions.py:2619: FutureWarning: `distplot` is a deprecated function and will be removed in a future version. Please adapt your code to use either `displot` (a figure-level function with similar flexibility) or `kdeplot` (an axes-level function for kernel density plots).\n",
            "  warnings.warn(msg, FutureWarning)\n"
          ]
        },
        {
          "output_type": "display_data",
          "data": {
            "image/png": "[encoded data removed]",
            "text/plain": [
              "<Figure size 576x432 with 1 Axes>"
            ]
          },
          "metadata": {
            "needs_background": "light"
          }
        }
      ]
    },
    {
      "cell_type": "code",
      "metadata": {
        "colab": {
          "base_uri": "https://localhost:8080/",
          "height": 492
        },
        "id": "h4OMrtogMCzI",
        "outputId": "c025867c-2124-4b9c-c6ac-bb213d65fb06"
      },
      "source": [
        "Title = \"Distribution Plot od Predicted Values using Test Data vs Data Distribution of test data\"\n",
        "DistributionPlot(y_test, yhat_test, \"Actual Values (test)\", \"Predicted values (test)\", Title)"
      ],
      "execution_count": null,
      "outputs": [
        {
          "output_type": "stream",
          "name": "stderr",
          "text": [
            "/usr/local/lib/python3.7/dist-packages/seaborn/distributions.py:2619: FutureWarning: `distplot` is a deprecated function and will be removed in a future version. Please adapt your code to use either `displot` (a figure-level function with similar flexibility) or `kdeplot` (an axes-level function for kernel density plots).\n",
            "  warnings.warn(msg, FutureWarning)\n",
            "/usr/local/lib/python3.7/dist-packages/seaborn/distributions.py:2619: FutureWarning: `distplot` is a deprecated function and will be removed in a future version. Please adapt your code to use either `displot` (a figure-level function with similar flexibility) or `kdeplot` (an axes-level function for kernel density plots).\n",
            "  warnings.warn(msg, FutureWarning)\n"
          ]
        },
        {
          "output_type": "display_data",
          "data": {
            "image/png": "[encoded data removed]",
            "text/plain": [
              "<Figure size 576x432 with 1 Axes>"
            ]
          },
          "metadata": {
            "needs_background": "light"
          }
        }
      ]
    },
    {
      "cell_type": "code",
      "metadata": {
        "id": "UbzctP2mM5XK"
      },
      "source": [
        "from sklearn.preprocessing import PolynomialFeatures"
      ],
      "execution_count": null,
      "outputs": []
    },
    {
      "cell_type": "markdown",
      "metadata": {
        "id": "fs7kqNEbNJP9"
      },
      "source": [
        "**Overfitting**\n",
        "\n",
        "Occurs when the model fits tje noise, but no the underlying process. Therefore, when testing your model using the test set, your model does not perform as well since it is modelling noise, no the underlying process that generated the relationship"
      ]
    },
    {
      "cell_type": "code",
      "metadata": {
        "id": "QBWUTZdhNDfT"
      },
      "source": [
        "x_train, x_test, y_train, y_test = train_test_split(x_data, y_data, test_size = 0.45, random_state = 0)"
      ],
      "execution_count": null,
      "outputs": []
    },
    {
      "cell_type": "code",
      "metadata": {
        "colab": {
          "base_uri": "https://localhost:8080/"
        },
        "id": "3DNcrMSHOl0u",
        "outputId": "51642091-90c7-48d0-c306-eaad78f1192e"
      },
      "source": [
        "pr = PolynomialFeatures(degree = 5)\n",
        "\n",
        "x_train_pr = pr.fit_transform(x_train[[\"horsepower\"]])\n",
        "x_test_pr = pr.fit_transform(x_test[[\"horsepower\"]])\n",
        "pr"
      ],
      "execution_count": null,
      "outputs": [
        {
          "output_type": "execute_result",
          "data": {
            "text/plain": [
              "PolynomialFeatures(degree=5, include_bias=True, interaction_only=False,\n",
              "                   order='C')"
            ]
          },
          "metadata": {},
          "execution_count": 46
        }
      ]
    },
    {
      "cell_type": "code",
      "metadata": {
        "colab": {
          "base_uri": "https://localhost:8080/"
        },
        "id": "iTW3Ba8GPDsW",
        "outputId": "cf1dd6cd-c1fe-4c84-aae5-a18dcc2b3ab4"
      },
      "source": [
        "poly = LinearRegression()\n",
        "poly.fit(x_train_pr, y_train)\n",
        "\n",
        "yhat = poly.predict(x_test_pr)\n",
        "yhat[0:5]"
      ],
      "execution_count": null,
      "outputs": [
        {
          "output_type": "execute_result",
          "data": {
            "text/plain": [
              "array([ 6722.97393208,  7301.50355806, 12214.19872987, 18901.51151902,\n",
              "       20000.03784415])"
            ]
          },
          "metadata": {},
          "execution_count": 47
        }
      ]
    },
    {
      "cell_type": "code",
      "metadata": {
        "colab": {
          "base_uri": "https://localhost:8080/"
        },
        "id": "3X9I_PEsPs27",
        "outputId": "b214250a-bd25-4aac-e94a-b073a4016eed"
      },
      "source": [
        "print(\"Predicted values:\", yhat[0:5])\n",
        "print(\"True values:\", y_test[0:5].values)"
      ],
      "execution_count": null,
      "outputs": [
        {
          "output_type": "stream",
          "name": "stdout",
          "text": [
            "Predicted values: [ 6722.97393208  7301.50355806 12214.19872987 18901.51151902\n",
            " 20000.03784415]\n",
            "True values: [ 6295. 10698. 13860. 13499. 15750.]\n"
          ]
        }
      ]
    },
    {
      "cell_type": "code",
      "metadata": {
        "colab": {
          "base_uri": "https://localhost:8080/",
          "height": 412
        },
        "id": "iwH5DIQhP4kY",
        "outputId": "882d047e-4e08-4db5-9ec6-5901af6d3200"
      },
      "source": [
        "PollyPlot(x_train[[\"horsepower\"]], x_test[[\"horsepower\"]], y_train, y_test, poly, pr)\n",
        "print(\"The Train R-squared is\", poly.score(x_train_pr, y_train))\n",
        "print(\"The Test R-squared is\", poly.score(x_test_pr, y_test))"
      ],
      "execution_count": null,
      "outputs": [
        {
          "output_type": "stream",
          "name": "stdout",
          "text": [
            "The Train R-squared is 0.5571757383932234\n",
            "The Test R-squared is -29.62478858643291\n"
          ]
        },
        {
          "output_type": "display_data",
          "data": {
            "image/png": "[encoded data removed]",
            "text/plain": [
              "<Figure size 576x432 with 1 Axes>"
            ]
          },
          "metadata": {
            "needs_background": "light"
          }
        }
      ]
    },
    {
      "cell_type": "markdown",
      "metadata": {
        "id": "EUcirEiHRN4B"
      },
      "source": [
        "Let's se how the R^2 Changes on the test data for different order polynomials and then the results\n"
      ]
    },
    {
      "cell_type": "code",
      "metadata": {
        "colab": {
          "base_uri": "https://localhost:8080/",
          "height": 312
        },
        "id": "cehE6wPNQKBI",
        "outputId": "98314b1a-9341-4c25-b03f-e7eb421a4adf"
      },
      "source": [
        "Rsqu_test = []\n",
        "order = [1, 2, 3, 4]\n",
        "for n in order:\n",
        "  pr = PolynomialFeatures(degree = n)\n",
        "\n",
        "  x_train_pr = pr.fit_transform(x_train[[\"horsepower\"]])\n",
        "  x_test_pr = pr.fit_transform(x_test[[\"horsepower\"]])\n",
        "\n",
        "  lr.fit(x_train_pr, y_train)\n",
        "\n",
        "  Rsqu_test.append(lr.score(x_test_pr, y_test))\n",
        "\n",
        "plt.plot(order, Rsqu_test)\n",
        "plt.xlabel(\"Order\")\n",
        "plt.ylabel(\"$R^2$\")\n",
        "plt.title(\"R^2 Using Test Data\")\n",
        "plt.text(3, 0.75, \"Maximum R^2\")"
      ],
      "execution_count": null,
      "outputs": [
        {
          "output_type": "execute_result",
          "data": {
            "text/plain": [
              "Text(3, 0.75, 'Maximum R^2')"
            ]
          },
          "metadata": {},
          "execution_count": 55
        },
        {
          "output_type": "display_data",
          "data": {
            "image/png": "[encoded data removed]",
            "text/plain": [
              "<Figure size 432x288 with 1 Axes>"
            ]
          },
          "metadata": {
            "needs_background": "light"
          }
        }
      ]
    },
    {
      "cell_type": "code",
      "metadata": {
        "id": "juwRqYv8SNQa"
      },
      "source": [
        "def f(order, test_data):\n",
        "  x_train, x_test, y_train, y_test = train_test_split(x_data, y_data, test_size = test_data, random_state = 0)\n",
        "  pr = PolynomialFeatures(degree = order)\n",
        "  x_train_pr = pr.fit_transform(x_train[[\"horsepower\"]])\n",
        "  x_test_pr = pr.fit_transform(x_test[[\"horsepower\"]])\n",
        "\n",
        "  poly = LinearRegression()\n",
        "  poly.fit(x_train_pr, y_train)\n",
        "  PollyPlot(x_train[[\"horsepower\"]], x_test[[\"horsepower\"]], y_train, y_test, poly, pr)"
      ],
      "execution_count": null,
      "outputs": []
    },
    {
      "cell_type": "code",
      "metadata": {
        "colab": {
          "base_uri": "https://localhost:8080/",
          "height": 459,
          "referenced_widgets": [
            "d5d3276772754e71a45466533b983e47",
            "0ade77d614c04c339ab76f2dbfd3f3f0",
            "34611899bbde4359a1f18b37c93dfe26",
            "311b56b428ad4743a04cb87a17b6fc70",
            "e6db42df6b1645318b454be4f620dd8b",
            "a3354db463864b68a8e897cc5961f6a3",
            "f7f29f364b934454bfee44cc152766ba",
            "01ec2169745f4ac2b8d024a67bd659e5",
            "53cfc745a6e14dd9a061ac26517efaae",
            "6237cf80e97f4574a265aebf50c02999"
          ]
        },
        "id": "wb12rHeqS9nE",
        "outputId": "d51d5c6d-f95b-4ea7-a4cb-77ed9d502f3f"
      },
      "source": [
        "interact(f, order = (0, 6, 1), test_data = (0.05, 0.95, 0.05))"
      ],
      "execution_count": null,
      "outputs": [
        {
          "output_type": "display_data",
          "data": {
            "application/vnd.jupyter.widget-view+json": {
              "model_id": "d5d3276772754e71a45466533b983e47",
              "version_minor": 0,
              "version_major": 2
            },
            "text/plain": [
              "interactive(children=(IntSlider(value=3, description='order', max=6), FloatSlider(value=0.45, description='tes…"
            ]
          },
          "metadata": {}
        },
        {
          "output_type": "execute_result",
          "data": {
            "text/plain": [
              "<function __main__.f>"
            ]
          },
          "metadata": {},
          "execution_count": 57
        }
      ]
    },
    {
      "cell_type": "code",
      "metadata": {
        "colab": {
          "base_uri": "https://localhost:8080/",
          "height": 526
        },
        "id": "QxeXZxu9TFpo",
        "outputId": "b9a2b3e1-67fe-426c-f4f7-bf655b9eabc6"
      },
      "source": [
        "pr1 = PolynomialFeatures(degree = 2)\n",
        "x_train_pr1 = pr1.fit_transform(x_train[[\"horsepower\", \"curb-weight\", \"engine-size\", \"highway-L/100km\"]])\n",
        "x_test_pr1 = pr1.fit_transform(x_test[[\"horsepower\", \"curb-weight\", \"engine-size\", \"highway-L/100km\"]])\n",
        "\n",
        "print(\"Dimension of the original features:\", x_train.shape[1])\n",
        "print(\"Dimension of the Transform features:\", x_train_pr1.shape[1])\n",
        "\n",
        "poly1 = LinearRegression()\n",
        "poly1.fit(x_train_pr1, y_train)\n",
        "yhat_test_1 = poly1.predict(x_test_pr1)\n",
        "\n",
        "Title = \"Distribution Plot of predicted Values using Test Data vs Data Distribution of the Test Data\"\n",
        "\n",
        "DistributionPlot(y_test, yhat_test_1, \"Actual values (test)\", \"Predicted values (Test)\", Title)\n"
      ],
      "execution_count": null,
      "outputs": [
        {
          "output_type": "stream",
          "name": "stdout",
          "text": [
            "Dimension of the original features: 20\n",
            "Dimension of the Transform features: 15\n"
          ]
        },
        {
          "output_type": "stream",
          "name": "stderr",
          "text": [
            "/usr/local/lib/python3.7/dist-packages/seaborn/distributions.py:2619: FutureWarning: `distplot` is a deprecated function and will be removed in a future version. Please adapt your code to use either `displot` (a figure-level function with similar flexibility) or `kdeplot` (an axes-level function for kernel density plots).\n",
            "  warnings.warn(msg, FutureWarning)\n",
            "/usr/local/lib/python3.7/dist-packages/seaborn/distributions.py:2619: FutureWarning: `distplot` is a deprecated function and will be removed in a future version. Please adapt your code to use either `displot` (a figure-level function with similar flexibility) or `kdeplot` (an axes-level function for kernel density plots).\n",
            "  warnings.warn(msg, FutureWarning)\n"
          ]
        },
        {
          "output_type": "display_data",
          "data": {
            "image/png": "[encoded data removed]",
            "text/plain": [
              "<Figure size 576x432 with 1 Axes>"
            ]
          },
          "metadata": {
            "needs_background": "light"
          }
        }
      ]
    },
    {
      "cell_type": "markdown",
      "metadata": {
        "id": "Qb6BhSAfVaRx"
      },
      "source": [
        "**Ridge Regression**\n",
        "\n",
        "see how the parameters alpha changes the model"
      ]
    }
  ]
}